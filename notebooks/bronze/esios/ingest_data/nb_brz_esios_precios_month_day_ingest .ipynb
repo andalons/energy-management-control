{
 "cells": [
  {
   "cell_type": "code",
   "execution_count": 8,
   "id": "1e0052d4",
   "metadata": {
    "microsoft": {
     "language": "python",
     "language_group": "synapse_pyspark"
    }
   },
   "outputs": [
    {
     "data": {
      "application/vnd.livy.statement-meta+json": {
       "execution_finish_time": "2025-10-06T11:12:26.1139555Z",
       "execution_start_time": "2025-10-06T11:12:25.6853582Z",
       "livy_statement_state": "available",
       "normalized_state": "finished",
       "parent_msg_id": "8473dddb-24c3-4a5f-936c-19ec07103d86",
       "queued_time": "2025-10-06T11:12:25.684208Z",
       "session_id": "5e3bc367-e0d2-4c9c-92e6-f5d8325a57b9",
       "session_start_time": null,
       "spark_pool": null,
       "state": "finished",
       "statement_id": 10,
       "statement_ids": [
        10
       ]
      },
      "text/plain": [
       "StatementMeta(, 5e3bc367-e0d2-4c9c-92e6-f5d8325a57b9, 10, Finished, Available, Finished)"
      ]
     },
     "metadata": {},
     "output_type": "display_data"
    }
   ],
   "source": [
    "import requests\n",
    "import json\n",
    "import os, re, unicodedata\n",
    "from datetime import datetime\n",
    "from pyspark.sql import SparkSession, functions as F\n",
    "from notebookutils import mssparkutils"
   ]
  },
  {
   "cell_type": "code",
   "execution_count": 9,
   "id": "3b11b176-7a08-4494-a803-2107ebe5cf66",
   "metadata": {
    "microsoft": {
     "language": "python",
     "language_group": "synapse_pyspark"
    }
   },
   "outputs": [
    {
     "data": {
      "application/vnd.livy.statement-meta+json": {
       "execution_finish_time": "2025-10-06T11:12:26.5341354Z",
       "execution_start_time": "2025-10-06T11:12:26.1159476Z",
       "livy_statement_state": "available",
       "normalized_state": "finished",
       "parent_msg_id": "7c98c2c3-862b-4f24-a922-f17aa7b883bd",
       "queued_time": "2025-10-06T11:12:25.7331457Z",
       "session_id": "5e3bc367-e0d2-4c9c-92e6-f5d8325a57b9",
       "session_start_time": null,
       "spark_pool": null,
       "state": "finished",
       "statement_id": 11,
       "statement_ids": [
        11
       ]
      },
      "text/plain": [
       "StatementMeta(, 5e3bc367-e0d2-4c9c-92e6-f5d8325a57b9, 11, Finished, Available, Finished)"
      ]
     },
     "metadata": {},
     "output_type": "display_data"
    }
   ],
   "source": [
    "# ---------- Spark ----------\n",
    "spark = SparkSession.builder.getOrCreate()"
   ]
  },
  {
   "cell_type": "code",
   "execution_count": 10,
   "id": "17a5d553-bc15-4785-9308-3e389518e808",
   "metadata": {
    "microsoft": {
     "language": "python",
     "language_group": "synapse_pyspark"
    }
   },
   "outputs": [
    {
     "data": {
      "application/vnd.livy.statement-meta+json": {
       "execution_finish_time": "2025-10-06T11:12:28.1846489Z",
       "execution_start_time": "2025-10-06T11:12:26.5365413Z",
       "livy_statement_state": "available",
       "normalized_state": "finished",
       "parent_msg_id": "5ad535bd-28e4-4fef-84cb-5238fde30191",
       "queued_time": "2025-10-06T11:12:25.8519073Z",
       "session_id": "5e3bc367-e0d2-4c9c-92e6-f5d8325a57b9",
       "session_start_time": null,
       "spark_pool": null,
       "state": "finished",
       "statement_id": 12,
       "statement_ids": [
        12
       ]
      },
      "text/plain": [
       "StatementMeta(, 5e3bc367-e0d2-4c9c-92e6-f5d8325a57b9, 12, Finished, Available, Finished)"
      ]
     },
     "metadata": {},
     "output_type": "display_data"
    },
    {
     "data": {
      "text/plain": [
       "DataFrame[]"
      ]
     },
     "execution_count": 35,
     "metadata": {},
     "output_type": "execute_result"
    }
   ],
   "source": [
    "# Seleccionar el Lakehouse destino (bronze)\n",
    "spark.sql(\"USE lh_bronze\")"
   ]
  },
  {
   "cell_type": "code",
   "execution_count": 11,
   "id": "ad42db86-be6e-436b-ab7f-2b83dd50d0eb",
   "metadata": {
    "microsoft": {
     "language": "python",
     "language_group": "synapse_pyspark"
    }
   },
   "outputs": [
    {
     "data": {
      "application/vnd.livy.statement-meta+json": {
       "execution_finish_time": "2025-10-06T11:12:28.5528124Z",
       "execution_start_time": "2025-10-06T11:12:28.1864872Z",
       "livy_statement_state": "available",
       "normalized_state": "finished",
       "parent_msg_id": "0bbf70eb-2bd2-4e5c-9b56-d2c392f304a8",
       "queued_time": "2025-10-06T11:12:25.8952564Z",
       "session_id": "5e3bc367-e0d2-4c9c-92e6-f5d8325a57b9",
       "session_start_time": null,
       "spark_pool": null,
       "state": "finished",
       "statement_id": 13,
       "statement_ids": [
        13
       ]
      },
      "text/plain": [
       "StatementMeta(, 5e3bc367-e0d2-4c9c-92e6-f5d8325a57b9, 13, Finished, Available, Finished)"
      ]
     },
     "metadata": {},
     "output_type": "display_data"
    }
   ],
   "source": [
    "headers = {\n",
    "    \"Accept\": \"application/json; application/vnd.esios-api-v1+json\",\n",
    "    \"Content-Type\": \"application/json\",\n",
    "    \"x-api-key\": \"273695bb4f30b8ab8de054a0410ee2a9d09c97a5006e3a07c27615e6c60888a7\"\n",
    "}"
   ]
  },
  {
   "cell_type": "code",
   "execution_count": null,
   "id": "0c571ba2-b309-4013-ac9c-37c1cbe4bc45",
   "metadata": {
    "microsoft": {
     "language": "python",
     "language_group": "synapse_pyspark"
    }
   },
   "outputs": [
    {
     "data": {
      "application/vnd.livy.statement-meta+json": {
       "execution_finish_time": "2025-10-06T11:12:28.9321412Z",
       "execution_start_time": "2025-10-06T11:12:28.554939Z",
       "livy_statement_state": "available",
       "normalized_state": "finished",
       "parent_msg_id": "909c4c99-9576-449b-85cb-1adc034df373",
       "queued_time": "2025-10-06T11:12:25.9487349Z",
       "session_id": "5e3bc367-e0d2-4c9c-92e6-f5d8325a57b9",
       "session_start_time": null,
       "spark_pool": null,
       "state": "finished",
       "statement_id": 14,
       "statement_ids": [
        14
       ]
      },
      "text/plain": [
       "StatementMeta(, 5e3bc367-e0d2-4c9c-92e6-f5d8325a57b9, 14, Finished, Available, Finished)"
      ]
     },
     "metadata": {},
     "output_type": "display_data"
    }
   ],
   "source": [
    "# 📌 Indicadores con sus nombres\n",
    "indicators = [\n",
    "    {\"type\": \"PVPC-T-2-0TD\", \"id\": \"1001\"},\n",
    "    {\"type\": \"Demanda real\", \"id\": \"1293\"},\n",
    "    {\"type\": \"Precio mercado SPOT Diario\", \"id\": \"600\"},\n",
    "    {\"type\": \"Mercado SPOT Diario España\", \"id\": \"602\"}\n",
    "]\n",
    "\n",
    "# 📆 Rango de fechas por año\n",
    "date_ranges = {\n",
    "    \"2023\": (\"01-01-2023T00:00\", \"31-12-2023T23:55\"),\n",
    "    \"2024\": (\"01-01-2024T00:00\", \"31-12-2024T23:55\"),\n",
    "    \"2025\": (\"01-01-2025T00:00\", \"30-09-2025T23:55\"),\n",
    "}\n",
    "\n",
    "# ⏱️ Granularidades\n",
    "time_truncs = [\"day\", \"month\"]"
   ]
  },
  {
   "cell_type": "code",
   "execution_count": 13,
   "id": "65292269-9969-401d-80d1-9b473ea5071c",
   "metadata": {
    "microsoft": {
     "language": "python",
     "language_group": "synapse_pyspark"
    }
   },
   "outputs": [
    {
     "data": {
      "application/vnd.livy.statement-meta+json": {
       "execution_finish_time": "2025-10-06T11:12:29.524484Z",
       "execution_start_time": "2025-10-06T11:12:28.9340003Z",
       "livy_statement_state": "available",
       "normalized_state": "finished",
       "parent_msg_id": "cbc02512-d26e-42d2-a151-57522933004c",
       "queued_time": "2025-10-06T11:12:26.001729Z",
       "session_id": "5e3bc367-e0d2-4c9c-92e6-f5d8325a57b9",
       "session_start_time": null,
       "spark_pool": null,
       "state": "finished",
       "statement_id": 15,
       "statement_ids": [
        15
       ]
      },
      "text/plain": [
       "StatementMeta(, 5e3bc367-e0d2-4c9c-92e6-f5d8325a57b9, 15, Finished, Available, Finished)"
      ]
     },
     "metadata": {},
     "output_type": "display_data"
    }
   ],
   "source": [
    "# 📂 Carpeta base dentro del Lakehouse (BRONZE)\n",
    "base_dir = \"/lakehouse/default/Files/bronze/ESIOS/data/mercados/componentes-precio\""
   ]
  },
  {
   "cell_type": "code",
   "execution_count": 14,
   "id": "ef0826ae-3661-4e4b-b5d6-3dd03ba546db",
   "metadata": {
    "microsoft": {
     "language": "python",
     "language_group": "synapse_pyspark"
    }
   },
   "outputs": [
    {
     "data": {
      "application/vnd.livy.statement-meta+json": {
       "execution_finish_time": "2025-10-06T11:12:29.8739515Z",
       "execution_start_time": "2025-10-06T11:12:29.5264697Z",
       "livy_statement_state": "available",
       "normalized_state": "finished",
       "parent_msg_id": "c6d5cd2c-2180-4798-bb20-451aa8c88852",
       "queued_time": "2025-10-06T11:12:26.0627306Z",
       "session_id": "5e3bc367-e0d2-4c9c-92e6-f5d8325a57b9",
       "session_start_time": null,
       "spark_pool": null,
       "state": "finished",
       "statement_id": 16,
       "statement_ids": [
        16
       ]
      },
      "text/plain": [
       "StatementMeta(, 5e3bc367-e0d2-4c9c-92e6-f5d8325a57b9, 16, Finished, Available, Finished)"
      ]
     },
     "metadata": {},
     "output_type": "display_data"
    }
   ],
   "source": [
    "def slugify(name: str) -> str:\n",
    "    # Normalizar y quitar tildes\n",
    "    name = unicodedata.normalize(\"NFKD\", name)\n",
    "    name = name.encode(\"ascii\", \"ignore\").decode(\"utf-8\")  # quita acentos\n",
    "    # Sustituir caracteres no válidos por \"_\"\n",
    "    return re.sub(r'[^a-z0-9_]', '_', name.lower())"
   ]
  },
  {
   "cell_type": "code",
   "execution_count": 15,
   "id": "430d9ae3",
   "metadata": {
    "microsoft": {
     "language": "python",
     "language_group": "synapse_pyspark"
    }
   },
   "outputs": [
    {
     "data": {
      "application/vnd.livy.statement-meta+json": {
       "execution_finish_time": "2025-10-06T11:12:50.9322419Z",
       "execution_start_time": "2025-10-06T11:12:29.8758538Z",
       "livy_statement_state": "available",
       "normalized_state": "finished",
       "parent_msg_id": "80ad0c53-7603-4b52-989d-3d16c888d021",
       "queued_time": "2025-10-06T11:12:26.0967851Z",
       "session_id": "5e3bc367-e0d2-4c9c-92e6-f5d8325a57b9",
       "session_start_time": null,
       "spark_pool": null,
       "state": "finished",
       "statement_id": 17,
       "statement_ids": [
        17
       ]
      },
      "text/plain": [
       "StatementMeta(, 5e3bc367-e0d2-4c9c-92e6-f5d8325a57b9, 17, Finished, Available, Finished)"
      ]
     },
     "metadata": {},
     "output_type": "display_data"
    },
    {
     "name": "stdout",
     "output_type": "stream",
     "text": [
      "✅ Guardado JSON en Lakehouse: /lakehouse/default/Files/bronze/ESIOS/data/mercados/componentes-precio/day/2023/brz-mercados-pvpc_t_2_0td-day-2023.json\n",
      "✅ Guardado JSON en Lakehouse: /lakehouse/default/Files/bronze/ESIOS/data/mercados/componentes-precio/month/2023/brz-mercados-pvpc_t_2_0td-month-2023.json\n",
      "✅ Guardado JSON en Lakehouse: /lakehouse/default/Files/bronze/ESIOS/data/mercados/componentes-precio/day/2024/brz-mercados-pvpc_t_2_0td-day-2024.json\n",
      "✅ Guardado JSON en Lakehouse: /lakehouse/default/Files/bronze/ESIOS/data/mercados/componentes-precio/month/2024/brz-mercados-pvpc_t_2_0td-month-2024.json\n",
      "✅ Guardado JSON en Lakehouse: /lakehouse/default/Files/bronze/ESIOS/data/mercados/componentes-precio/day/2025/brz-mercados-pvpc_t_2_0td-day-2025.json\n",
      "✅ Guardado JSON en Lakehouse: /lakehouse/default/Files/bronze/ESIOS/data/mercados/componentes-precio/month/2025/brz-mercados-pvpc_t_2_0td-month-2025.json\n",
      "✅ Guardado JSON en Lakehouse: /lakehouse/default/Files/bronze/ESIOS/data/mercados/componentes-precio/day/2023/brz-mercados-precio_mercado_spot_diario-day-2023.json\n",
      "✅ Guardado JSON en Lakehouse: /lakehouse/default/Files/bronze/ESIOS/data/mercados/componentes-precio/month/2023/brz-mercados-precio_mercado_spot_diario-month-2023.json\n",
      "✅ Guardado JSON en Lakehouse: /lakehouse/default/Files/bronze/ESIOS/data/mercados/componentes-precio/day/2024/brz-mercados-precio_mercado_spot_diario-day-2024.json\n",
      "✅ Guardado JSON en Lakehouse: /lakehouse/default/Files/bronze/ESIOS/data/mercados/componentes-precio/month/2024/brz-mercados-precio_mercado_spot_diario-month-2024.json\n",
      "✅ Guardado JSON en Lakehouse: /lakehouse/default/Files/bronze/ESIOS/data/mercados/componentes-precio/day/2025/brz-mercados-precio_mercado_spot_diario-day-2025.json\n",
      "✅ Guardado JSON en Lakehouse: /lakehouse/default/Files/bronze/ESIOS/data/mercados/componentes-precio/month/2025/brz-mercados-precio_mercado_spot_diario-month-2025.json\n",
      "✅ Guardado JSON en Lakehouse: /lakehouse/default/Files/bronze/ESIOS/data/mercados/componentes-precio/day/2023/brz-mercados-mercado_spot_diario_espana-day-2023.json\n",
      "✅ Guardado JSON en Lakehouse: /lakehouse/default/Files/bronze/ESIOS/data/mercados/componentes-precio/month/2023/brz-mercados-mercado_spot_diario_espana-month-2023.json\n",
      "✅ Guardado JSON en Lakehouse: /lakehouse/default/Files/bronze/ESIOS/data/mercados/componentes-precio/day/2024/brz-mercados-mercado_spot_diario_espana-day-2024.json\n",
      "✅ Guardado JSON en Lakehouse: /lakehouse/default/Files/bronze/ESIOS/data/mercados/componentes-precio/month/2024/brz-mercados-mercado_spot_diario_espana-month-2024.json\n",
      "✅ Guardado JSON en Lakehouse: /lakehouse/default/Files/bronze/ESIOS/data/mercados/componentes-precio/day/2025/brz-mercados-mercado_spot_diario_espana-day-2025.json\n",
      "✅ Guardado JSON en Lakehouse: /lakehouse/default/Files/bronze/ESIOS/data/mercados/componentes-precio/month/2025/brz-mercados-mercado_spot_diario_espana-month-2025.json\n",
      "\n",
      "Proceso terminado - 2025-10-06T11:12:49.236329Z\n"
     ]
    }
   ],
   "source": [
    "# 🚀 Loop de descargas\n",
    "for indicator in indicators:\n",
    "    for year, (start_date, end_date) in date_ranges.items():\n",
    "        for trunc in time_truncs:\n",
    "            url = (\n",
    "                f\"https://api.esios.ree.es/indicators/{indicator['id']}?\"\n",
    "                f\"start_date={start_date}&end_date={end_date}&time_trunc={trunc}\"\n",
    "            )\n",
    "            try:\n",
    "                response = requests.get(url, headers=headers, timeout=60)\n",
    "                response.raise_for_status()\n",
    "                data = response.json()\n",
    "\n",
    "                # ----------------------\n",
    "                # 1) Guardar JSON crudo en Files/\n",
    "                # ----------------------\n",
    "                filename = f\"brz-mercados-{slugify(indicator['type'])}-{trunc}-{year}.json\"\n",
    "                year_dir = os.path.join(base_dir, trunc, str(year))\n",
    "                os.makedirs(year_dir, exist_ok=True)\n",
    "                filepath = os.path.join(year_dir, filename)\n",
    "\n",
    "                with open(filepath, \"w\", encoding=\"utf-8\") as f:\n",
    "                    json.dump(data, f, ensure_ascii=False, indent=2)\n",
    "\n",
    "                print(f\"✅ Guardado JSON en Lakehouse: {filepath}\")\n",
    "\n",
    "            except requests.exceptions.RequestException as e:\n",
    "                print(f\"❌ Error en {url}: {e}\")\n",
    "\n",
    "print(f\"\\nProceso terminado - {datetime.utcnow().isoformat()}Z\")"
   ]
  }
 ],
 "metadata": {
  "dependencies": {
   "lakehouse": {
    "default_lakehouse": "0fd09a67-0164-4fb6-838e-02a27c823afc",
    "default_lakehouse_name": "lh_bronze",
    "default_lakehouse_workspace_id": "ecf938c4-c449-48de-a07c-1d968a72b3d1",
    "known_lakehouses": [
     {
      "id": "0fd09a67-0164-4fb6-838e-02a27c823afc"
     }
    ]
   }
  },
  "kernel_info": {
   "name": "synapse_pyspark"
  },
  "kernelspec": {
   "display_name": "Synapse PySpark",
   "name": "synapse_pyspark"
  },
  "language_info": {
   "name": "python"
  },
  "microsoft": {
   "language": "python",
   "language_group": "synapse_pyspark",
   "ms_spell_check": {
    "ms_spell_check_language": "es"
   }
  },
  "nteract": {
   "version": "nteract-front-end@1.0.0"
  },
  "spark_compute": {
   "compute_id": "/trident/default",
   "session_options": {
    "conf": {
     "spark.synapse.nbs.session.timeout": "1200000"
    }
   }
  }
 },
 "nbformat": 4,
 "nbformat_minor": 5
}
