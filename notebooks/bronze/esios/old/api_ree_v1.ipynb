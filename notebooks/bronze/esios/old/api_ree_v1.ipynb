{
 "cells": [
  {
   "cell_type": "code",
   "execution_count": 3,
   "id": "e48b9fe4",
   "metadata": {},
   "outputs": [],
   "source": [
    "import requests\n",
    "import pandas as pd\n",
    "from datetime import datetime"
   ]
  },
  {
   "cell_type": "code",
   "execution_count": 5,
   "id": "59fc2f48",
   "metadata": {},
   "outputs": [],
   "source": [
    "# 📌 Parámetros de la consulta\n",
    "API_KEY = \"9447ea43af322500d2f600679dfdc74cd296ef7e7519c958d41c992a011953af\"  # <-- reemplaza con tu token personal de ESIOS\n",
    "INDICATOR_ID = 59558       # ID de indicador (ejemplo)\n",
    "GEO_IDS = [1, 2]           # IDs geográficos\n",
    "START_DATE = \"2024-01-01T00:00:00Z\"\n",
    "END_DATE = \"2024-01-31T23:59:59Z\"\n",
    "\n",
    "# 📌 URL base\n",
    "url = f\"https://api.esios.ree.es/indicators/{INDICATOR_ID}\"\n",
    "\n",
    "# 📌 Parámetros de consulta\n",
    "params = {\n",
    "    \"geo_agg\": \"avg\",\n",
    "    \"time_agg\": \"avg\",\n",
    "    \"start_date\": START_DATE,\n",
    "    \"end_date\": END_DATE\n",
    "}\n",
    "# Se añaden geo_ids[] al request\n",
    "for gid in GEO_IDS:\n",
    "    params[f\"geo_ids[]={gid}\"] = gid"
   ]
  },
  {
   "cell_type": "code",
   "execution_count": null,
   "id": "e01862e9",
   "metadata": {},
   "outputs": [],
   "source": [
    "# 📌 Headers con autenticación\n",
    "headers = {\n",
    "    \"Accept\": \"application/json; application/vnd.esios-api-v1+json\",\n",
    "    \"Content-Type\": \"application/json\",\n",
    "    \"x-api-key\": \"9447ea43af322500d2f600679dfdc74cd296ef7e7519c958d41c992a011953af\"\n",
    "}"
   ]
  },
  {
   "cell_type": "code",
   "execution_count": null,
   "id": "c1592de0",
   "metadata": {},
   "outputs": [
    {
     "ename": "IndentationError",
     "evalue": "expected an indented block after 'for' statement on line 3 (2105384437.py, line 4)",
     "output_type": "error",
     "traceback": [
      "\u001b[1;36m  Cell \u001b[1;32mIn[8], line 4\u001b[1;36m\u001b[0m\n\u001b[1;33m    url += f\"&geo_ids []={geo_id}\"\u001b[0m\n\u001b[1;37m    ^\u001b[0m\n\u001b[1;31mIndentationError\u001b[0m\u001b[1;31m:\u001b[0m expected an indented block after 'for' statement on line 3\n"
     ]
    }
   ],
   "source": [
    "# Construir la URL con los parámetros\n",
    "url = f\"https://api.esios. ree.es/indicators/59558?geo_agg={geo_agg}&time_agg={time_agg}\"\n",
    "for geo_id in geo_ids:\n",
    "url += f\"&geo_ids []={geo_id}\"\n",
    "url += f\"&start_date={start_date}&end_date={end_date}\"\n",
    "\n",
    "print(\"URL generada:\", url) # Esto imprimirá la URL completa para que puedas revisarla"
   ]
  },
  {
   "cell_type": "code",
   "execution_count": 7,
   "id": "46e3288e",
   "metadata": {},
   "outputs": [
    {
     "name": "stdout",
     "output_type": "stream",
     "text": [
      "❌ Error 403: {\"Status\":403,\"message\":\"Forbidden\"}\n"
     ]
    }
   ],
   "source": [
    "# 📌 Llamada a la API\n",
    "response = requests.get(url, headers=headers, params=params)\n",
    "\n",
    "if response.status_code == 200:\n",
    "    data = response.json()\n",
    "    \n",
    "    # Extraer los valores del indicador\n",
    "    values = data[\"indicator\"][\"values\"]\n",
    "    \n",
    "    # Convertir a DataFrame\n",
    "    df = pd.DataFrame(values)\n",
    "    \n",
    "    # Convertir columna datetime a formato datetime de pandas\n",
    "    df[\"datetime\"] = pd.to_datetime(df[\"datetime_utc\"])\n",
    "    \n",
    "    print(\"✅ Datos descargados correctamente\")\n",
    "    print(df.head())\n",
    "else:\n",
    "    print(f\"❌ Error {response.status_code}: {response.text}\")\n"
   ]
  }
 ],
 "metadata": {
  "kernelspec": {
   "display_name": ".venv",
   "language": "python",
   "name": "python3"
  },
  "language_info": {
   "codemirror_mode": {
    "name": "ipython",
    "version": 3
   },
   "file_extension": ".py",
   "mimetype": "text/x-python",
   "name": "python",
   "nbconvert_exporter": "python",
   "pygments_lexer": "ipython3",
   "version": "3.10.11"
  }
 },
 "nbformat": 4,
 "nbformat_minor": 5
}
