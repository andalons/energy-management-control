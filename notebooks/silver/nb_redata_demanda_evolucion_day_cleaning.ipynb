{
 "cells": [
  {
   "cell_type": "code",
   "execution_count": 42,
   "id": "b04b94c4-f108-418f-b992-5cb4d0d8b8bb",
   "metadata": {
    "collapsed": false,
    "microsoft": {
     "language": "python",
     "language_group": "synapse_pyspark"
    }
   },
   "outputs": [
    {
     "data": {
      "application/vnd.livy.statement-meta+json": {
       "execution_finish_time": "2025-10-09T17:16:00.0717322Z",
       "execution_start_time": "2025-10-09T17:15:57.5147264Z",
       "livy_statement_state": "available",
       "normalized_state": "finished",
       "parent_msg_id": "a5758b7b-7dab-4532-81b9-da919b189075",
       "queued_time": "2025-10-09T17:15:57.5134375Z",
       "session_id": "f080ca1d-4630-4c9e-9c21-4712dba7faad",
       "session_start_time": null,
       "spark_pool": null,
       "state": "finished",
       "statement_id": 44,
       "statement_ids": [
        44
       ]
      },
      "text/plain": [
       "StatementMeta(, f080ca1d-4630-4c9e-9c21-4712dba7faad, 44, Finished, Available, Finished)"
      ]
     },
     "metadata": {},
     "output_type": "display_data"
    },
    {
     "data": {
      "application/vnd.synapse.widget-view+json": {
       "widget_id": "51eb99a0-1c3c-4ad2-b83c-f2e4a31f7f5e",
       "widget_type": "Synapse.DataFrame"
      },
      "text/plain": [
       "SynapseWidget(Synapse.DataFrame, 51eb99a0-1c3c-4ad2-b83c-f2e4a31f7f5e)"
      ]
     },
     "metadata": {},
     "output_type": "display_data"
    },
    {
     "name": "stdout",
     "output_type": "stream",
     "text": [
      "Total de filas iniciales: 5,545\n"
     ]
    }
   ],
   "source": [
    "df_silver = spark.read.table(\"lh_silver.slv_redata_demanda_evolucion_day_cleaning\")\n",
    "\n",
    "display(df_silver.limit(5))\n",
    "print(f\"Total de filas iniciales: {df_silver.count():,}\")"
   ]
  },
  {
   "cell_type": "code",
   "execution_count": 43,
   "id": "47a9c62a-e208-4af3-b260-3eeb7d67b336",
   "metadata": {
    "collapsed": false,
    "microsoft": {
     "language": "python",
     "language_group": "synapse_pyspark"
    }
   },
   "outputs": [
    {
     "data": {
      "application/vnd.livy.statement-meta+json": {
       "execution_finish_time": "2025-10-09T17:16:04.3221289Z",
       "execution_start_time": "2025-10-09T17:16:02.6460793Z",
       "livy_statement_state": "available",
       "normalized_state": "finished",
       "parent_msg_id": "eb9e42ed-31f6-4601-9b87-8632b00d7e61",
       "queued_time": "2025-10-09T17:16:02.6449624Z",
       "session_id": "f080ca1d-4630-4c9e-9c21-4712dba7faad",
       "session_start_time": null,
       "spark_pool": null,
       "state": "finished",
       "statement_id": 45,
       "statement_ids": [
        45
       ]
      },
      "text/plain": [
       "StatementMeta(, f080ca1d-4630-4c9e-9c21-4712dba7faad, 45, Finished, Available, Finished)"
      ]
     },
     "metadata": {},
     "output_type": "display_data"
    },
    {
     "name": "stdout",
     "output_type": "stream",
     "text": [
      "Columnas eliminadas: ['ccaa_name', 'series_group_id', 'series_description', 'series_icon', 'series_attribute_type', 'series_magnitude']\n",
      "Total de columnas finales: 14\n"
     ]
    },
    {
     "data": {
      "application/vnd.synapse.widget-view+json": {
       "widget_id": "7504d798-6cb6-4f96-a607-bae83b958078",
       "widget_type": "Synapse.DataFrame"
      },
      "text/plain": [
       "SynapseWidget(Synapse.DataFrame, 7504d798-6cb6-4f96-a607-bae83b958078)"
      ]
     },
     "metadata": {},
     "output_type": "display_data"
    }
   ],
   "source": [
    "from pyspark.sql import functions as F\n",
    "\n",
    "# Contar cuántos valores no nulos tiene cada columna\n",
    "non_null_counts = df_silver.select([\n",
    "    F.count(F.col(c)).alias(c)\n",
    "    for c in df_silver.columns\n",
    "]).collect()[0].asDict()\n",
    "\n",
    "# Filtrar las columnas que tienen al menos un valor no nulo\n",
    "cols_to_keep = [c for c, count in non_null_counts.items() if count > 0]\n",
    "\n",
    "# Crear nuevo DataFrame sin las columnas completamente nulas\n",
    "df_no_null_cols = df_silver.select(cols_to_keep)\n",
    "\n",
    "print(f\"Columnas eliminadas: {[c for c in df_silver.columns if c not in cols_to_keep]}\")\n",
    "print(f\"Total de columnas finales: {len(df_no_null_cols.columns)}\")\n",
    "\n",
    "# Mostrar el resultado\n",
    "display(df_no_null_cols.limit(5))\n"
   ]
  },
  {
   "cell_type": "code",
   "execution_count": 44,
   "id": "813df2aa-6c46-46f0-83cf-c2d3befb6776",
   "metadata": {
    "collapsed": false,
    "microsoft": {
     "language": "python",
     "language_group": "synapse_pyspark"
    }
   },
   "outputs": [
    {
     "data": {
      "application/vnd.livy.statement-meta+json": {
       "execution_finish_time": "2025-10-09T17:16:09.7289618Z",
       "execution_start_time": "2025-10-09T17:16:08.0804393Z",
       "livy_statement_state": "available",
       "normalized_state": "finished",
       "parent_msg_id": "a6204cd3-fba0-4ec8-90be-b951377eb8b3",
       "queued_time": "2025-10-09T17:16:08.0792735Z",
       "session_id": "f080ca1d-4630-4c9e-9c21-4712dba7faad",
       "session_start_time": null,
       "spark_pool": null,
       "state": "finished",
       "statement_id": 46,
       "statement_ids": [
        46
       ]
      },
      "text/plain": [
       "StatementMeta(, f080ca1d-4630-4c9e-9c21-4712dba7faad, 46, Finished, Available, Finished)"
      ]
     },
     "metadata": {},
     "output_type": "display_data"
    },
    {
     "data": {
      "application/vnd.synapse.widget-view+json": {
       "widget_id": "e43159bb-97db-4ed0-a4e7-fb9bbe2266a8",
       "widget_type": "Synapse.DataFrame"
      },
      "text/plain": [
       "SynapseWidget(Synapse.DataFrame, e43159bb-97db-4ed0-a4e7-fb9bbe2266a8)"
      ]
     },
     "metadata": {},
     "output_type": "display_data"
    },
    {
     "name": "stdout",
     "output_type": "stream",
     "text": [
      "Total después de limpiar duplicados: 3,705\n"
     ]
    }
   ],
   "source": [
    "# Eliminar duplicados según todas las columnas excepto ingestion_timestamp\n",
    "df_clean = df_no_null_cols.dropDuplicates([\n",
    "    \"geo_id\", \"geo_name\", \"geo_limit\", \"time_trunc\",\n",
    "    \"series_type\", \"series_id\", \"series_title\",\n",
    "    \"series_color\", \"is_composite\", \"series_last_update\", \"datetime\", \"value\", \"percentage\"\n",
    "])\n",
    "\n",
    "# Mostrar resultado y contar\n",
    "display(df_clean.limit(5))\n",
    "print(f\"Total después de limpiar duplicados: {df_clean.count():,}\")\n"
   ]
  },
  {
   "cell_type": "code",
   "execution_count": 45,
   "id": "7d05ba87-0d94-4411-b1a3-98a124718e33",
   "metadata": {
    "microsoft": {
     "language": "python",
     "language_group": "synapse_pyspark"
    }
   },
   "outputs": [
    {
     "data": {
      "application/vnd.livy.statement-meta+json": {
       "execution_finish_time": "2025-10-09T17:16:17.4318483Z",
       "execution_start_time": "2025-10-09T17:16:11.8994844Z",
       "livy_statement_state": "available",
       "normalized_state": "finished",
       "parent_msg_id": "55063496-9627-41a4-9efa-54bec12c1380",
       "queued_time": "2025-10-09T17:16:11.8983655Z",
       "session_id": "f080ca1d-4630-4c9e-9c21-4712dba7faad",
       "session_start_time": null,
       "spark_pool": null,
       "state": "finished",
       "statement_id": 47,
       "statement_ids": [
        47
       ]
      },
      "text/plain": [
       "StatementMeta(, f080ca1d-4630-4c9e-9c21-4712dba7faad, 47, Finished, Available, Finished)"
      ]
     },
     "metadata": {},
     "output_type": "display_data"
    },
    {
     "name": "stdout",
     "output_type": "stream",
     "text": [
      "\n",
      "📌 Valores únicos en 'geo_id': 5\n",
      "[8743, 8745, 8741, 8742, 8744]\n",
      "\n",
      "📌 Valores únicos en 'geo_name': 5\n",
      "['Comunidad de Ceuta', 'Islas Canarias', 'Islas Baleares', 'Comunidad de Melilla', 'Península']\n",
      "\n",
      "📌 Valores únicos en 'geo_limit': 5\n",
      "['ceuta', 'baleares', 'canarias', 'peninsular', 'melilla']\n",
      "\n",
      "📌 Valores únicos en 'time_trunc': 1\n",
      "['day']\n",
      "\n",
      "📌 Valores únicos en 'series_type': 1\n",
      "['Demanda']\n",
      "\n",
      "📌 Valores únicos en 'series_id': 1\n",
      "['10297']\n",
      "\n",
      "📌 Valores únicos en 'series_title': 1\n",
      "['Demanda']\n",
      "\n",
      "📌 Valores únicos en 'series_color': 1\n",
      "['#ffea00']\n",
      "\n",
      "📌 Valores únicos en 'is_composite': 1\n",
      "[False]\n",
      "\n",
      "📌 Valores únicos en 'percentage': 1\n",
      "[1.0]\n"
     ]
    }
   ],
   "source": [
    "cols = [\"geo_id\", \"geo_name\", \"geo_limit\", \"time_trunc\", \"series_type\", \"series_id\", \n",
    "        \"series_title\", \"series_color\", \"is_composite\", \"percentage\"]\n",
    "\n",
    "for c in cols:\n",
    "    uniques = [row[c] for row in df_clean.select(c).distinct().collect()]\n",
    "    count_uniques = df_clean.select(c).distinct().count()\n",
    "    print(f\"\\n📌 Valores únicos en '{c}': {count_uniques}\")\n",
    "    print(uniques)\n"
   ]
  },
  {
   "cell_type": "code",
   "execution_count": 46,
   "id": "18b28265-5657-4f8d-8a81-3822ff03643f",
   "metadata": {
    "collapsed": false,
    "microsoft": {
     "language": "python",
     "language_group": "synapse_pyspark"
    }
   },
   "outputs": [
    {
     "data": {
      "application/vnd.livy.statement-meta+json": {
       "execution_finish_time": "2025-10-09T17:16:21.0203154Z",
       "execution_start_time": "2025-10-09T17:16:20.1297154Z",
       "livy_statement_state": "available",
       "normalized_state": "finished",
       "parent_msg_id": "07c31b72-b741-49fb-be2b-df28faad4b97",
       "queued_time": "2025-10-09T17:16:20.1284085Z",
       "session_id": "f080ca1d-4630-4c9e-9c21-4712dba7faad",
       "session_start_time": null,
       "spark_pool": null,
       "state": "finished",
       "statement_id": 48,
       "statement_ids": [
        48
       ]
      },
      "text/plain": [
       "StatementMeta(, f080ca1d-4630-4c9e-9c21-4712dba7faad, 48, Finished, Available, Finished)"
      ]
     },
     "metadata": {},
     "output_type": "display_data"
    },
    {
     "data": {
      "application/vnd.synapse.widget-view+json": {
       "widget_id": "1663b4ff-c0c6-4c70-b370-57ec6591ac69",
       "widget_type": "Synapse.DataFrame"
      },
      "text/plain": [
       "SynapseWidget(Synapse.DataFrame, 1663b4ff-c0c6-4c70-b370-57ec6591ac69)"
      ]
     },
     "metadata": {},
     "output_type": "display_data"
    }
   ],
   "source": [
    "df_clean = df_clean.drop(\"time_trunc\", 'series_type', 'series_id', 'series_title', \"series_color\", \"is_composite\", \"percentage\", \"ingestion_timestamp\")\n",
    "\n",
    "display(df_clean.limit(2))"
   ]
  },
  {
   "cell_type": "code",
   "execution_count": 47,
   "id": "5ebec8a3-4c7f-4b64-bacd-36495e0945f9",
   "metadata": {
    "microsoft": {
     "language": "python",
     "language_group": "synapse_pyspark"
    }
   },
   "outputs": [
    {
     "data": {
      "application/vnd.livy.statement-meta+json": {
       "execution_finish_time": "2025-10-09T17:16:25.1814269Z",
       "execution_start_time": "2025-10-09T17:16:23.6023333Z",
       "livy_statement_state": "available",
       "normalized_state": "finished",
       "parent_msg_id": "cee52008-40a0-4c34-87fc-55f53ef43b5b",
       "queued_time": "2025-10-09T17:16:23.6011384Z",
       "session_id": "f080ca1d-4630-4c9e-9c21-4712dba7faad",
       "session_start_time": null,
       "spark_pool": null,
       "state": "finished",
       "statement_id": 49,
       "statement_ids": [
        49
       ]
      },
      "text/plain": [
       "StatementMeta(, f080ca1d-4630-4c9e-9c21-4712dba7faad, 49, Finished, Available, Finished)"
      ]
     },
     "metadata": {},
     "output_type": "display_data"
    },
    {
     "name": "stdout",
     "output_type": "stream",
     "text": [
      "No se eliminaron filas; no había valores nulos en las columnas esenciales.\n"
     ]
    }
   ],
   "source": [
    "# Contamos antes\n",
    "before_count = df_clean.count()\n",
    "\n",
    "# Eliminamos filas con nulos en columnas esenciales\n",
    "df_clean = df_clean.na.drop(subset=[\"datetime\", \"value\", \"geo_name\"])\n",
    "\n",
    "# Contamos después\n",
    "after_count = df_clean.count()\n",
    "\n",
    "# Mostramos resultados según lo ocurrido\n",
    "if after_count < before_count:\n",
    "    print(f\"Se eliminaron {before_count - after_count:,} filas con valores nulos. Total filas tras la limpieza {after_count}.\")\n",
    "else:\n",
    "    print(\"No se eliminaron filas; no había valores nulos en las columnas esenciales.\")\n"
   ]
  },
  {
   "cell_type": "code",
   "execution_count": 48,
   "id": "023d1be9-5184-4060-a5ac-4cd301fe15cf",
   "metadata": {
    "microsoft": {
     "language": "python",
     "language_group": "synapse_pyspark"
    }
   },
   "outputs": [
    {
     "data": {
      "application/vnd.livy.statement-meta+json": {
       "execution_finish_time": "2025-10-09T17:16:27.6675263Z",
       "execution_start_time": "2025-10-09T17:16:27.3512247Z",
       "livy_statement_state": "available",
       "normalized_state": "finished",
       "parent_msg_id": "5906c291-0878-409f-86d2-5a52815aeadb",
       "queued_time": "2025-10-09T17:16:27.3501045Z",
       "session_id": "f080ca1d-4630-4c9e-9c21-4712dba7faad",
       "session_start_time": null,
       "spark_pool": null,
       "state": "finished",
       "statement_id": 50,
       "statement_ids": [
        50
       ]
      },
      "text/plain": [
       "StatementMeta(, f080ca1d-4630-4c9e-9c21-4712dba7faad, 50, Finished, Available, Finished)"
      ]
     },
     "metadata": {},
     "output_type": "display_data"
    },
    {
     "name": "stdout",
     "output_type": "stream",
     "text": [
      "Finalizada la conversión de las columnas 'datetime' y 'value'.\n"
     ]
    }
   ],
   "source": [
    "# convertir columnas al tipo correcto\n",
    "df_clean = (df_clean\n",
    "    .withColumn(\"datetime\", F.to_timestamp(\"datetime\"))\n",
    "    .withColumn(\"value\", F.col(\"value\").cast(\"double\"))\n",
    ")\n",
    "\n",
    "print(\"Finalizada la conversión de las columnas 'datetime' y 'value'.\")"
   ]
  },
  {
   "cell_type": "code",
   "execution_count": 50,
   "id": "91b881fd-7756-44f2-99a0-5554ad93c769",
   "metadata": {
    "collapsed": false,
    "microsoft": {
     "language": "python",
     "language_group": "synapse_pyspark"
    }
   },
   "outputs": [
    {
     "data": {
      "application/vnd.livy.statement-meta+json": {
       "execution_finish_time": "2025-10-09T17:16:41.5655923Z",
       "execution_start_time": "2025-10-09T17:16:40.2787682Z",
       "livy_statement_state": "available",
       "normalized_state": "finished",
       "parent_msg_id": "b8b0c4ae-8c7c-4b96-817d-478c2d2f1dce",
       "queued_time": "2025-10-09T17:16:40.2774872Z",
       "session_id": "f080ca1d-4630-4c9e-9c21-4712dba7faad",
       "session_start_time": null,
       "spark_pool": null,
       "state": "finished",
       "statement_id": 52,
       "statement_ids": [
        52
       ]
      },
      "text/plain": [
       "StatementMeta(, f080ca1d-4630-4c9e-9c21-4712dba7faad, 52, Finished, Available, Finished)"
      ]
     },
     "metadata": {},
     "output_type": "display_data"
    },
    {
     "data": {
      "application/vnd.synapse.widget-view+json": {
       "widget_id": "3b3ae9dd-17c7-4d1e-a98c-5b417a3beaec",
       "widget_type": "Synapse.DataFrame"
      },
      "text/plain": [
       "SynapseWidget(Synapse.DataFrame, 3b3ae9dd-17c7-4d1e-a98c-5b417a3beaec)"
      ]
     },
     "metadata": {},
     "output_type": "display_data"
    }
   ],
   "source": [
    "# Crear la columna \"year\" extrayendo el año de \"datetime\"\n",
    "df_clean = df_clean.withColumn(\"year\", F.year(F.col(\"datetime\")))\n",
    "\n",
    "display(df_clean.limit(3))"
   ]
  },
  {
   "cell_type": "code",
   "execution_count": 52,
   "id": "2a568b04-0e20-4a79-a8a6-6846b2488541",
   "metadata": {
    "microsoft": {
     "language": "python",
     "language_group": "synapse_pyspark"
    }
   },
   "outputs": [
    {
     "data": {
      "application/vnd.livy.statement-meta+json": {
       "execution_finish_time": "2025-10-09T17:17:15.0271104Z",
       "execution_start_time": "2025-10-09T17:17:08.5811933Z",
       "livy_statement_state": "available",
       "normalized_state": "finished",
       "parent_msg_id": "ab3bdfa6-a0f3-4b15-927f-9868791181ea",
       "queued_time": "2025-10-09T17:17:08.5800582Z",
       "session_id": "f080ca1d-4630-4c9e-9c21-4712dba7faad",
       "session_start_time": null,
       "spark_pool": null,
       "state": "finished",
       "statement_id": 54,
       "statement_ids": [
        54
       ]
      },
      "text/plain": [
       "StatementMeta(, f080ca1d-4630-4c9e-9c21-4712dba7faad, 54, Finished, Available, Finished)"
      ]
     },
     "metadata": {},
     "output_type": "display_data"
    },
    {
     "name": "stdout",
     "output_type": "stream",
     "text": [
      "✅ Tabla guardada correctamente en lh_silver.slv_redata_demanda_evolucion_day_cleaned\n"
     ]
    }
   ],
   "source": [
    "# guardamos la tabla limpia en la capa Silver\n",
    "df_clean.write.mode(\"overwrite\").saveAsTable(\"lh_silver.slv_redata_demanda_evolucion_day_cleaned\")\n",
    "\n",
    "print(\"✅ Tabla guardada correctamente en lh_silver.slv_redata_demanda_evolucion_day_cleaned\")"
   ]
  }
 ],
 "metadata": {
  "dependencies": {
   "lakehouse": {
    "default_lakehouse": "cab645cc-8a6f-49ec-a404-a83729660d6f",
    "default_lakehouse_name": "lh_silver",
    "default_lakehouse_workspace_id": "ecf938c4-c449-48de-a07c-1d968a72b3d1",
    "known_lakehouses": [
     {
      "id": "cab645cc-8a6f-49ec-a404-a83729660d6f"
     }
    ]
   }
  },
  "kernel_info": {
   "name": "synapse_pyspark"
  },
  "kernelspec": {
   "display_name": "synapse_pyspark",
   "name": "synapse_pyspark"
  },
  "language_info": {
   "name": "python"
  },
  "microsoft": {
   "language": "python",
   "language_group": "synapse_pyspark",
   "ms_spell_check": {
    "ms_spell_check_language": "es"
   }
  },
  "nteract": {
   "version": "nteract-front-end@1.0.0"
  },
  "spark_compute": {
   "compute_id": "/trident/default",
   "session_options": {
    "conf": {
     "spark.synapse.nbs.session.timeout": "1200000"
    }
   }
  },
  "synapse_widget": {
   "state": {
    "06b53a6e-b3b8-4d25-af3f-a61a7b6ad52b": {
     "persist_state": {
      "view": {
       "chartOptions": {
        "aggregationType": "sum",
        "binsNumber": 10,
        "categoryFieldKeys": [],
        "chartType": "bar",
        "isStacked": false,
        "seriesFieldKeys": [],
        "wordFrequency": "-1"
       },
       "tableOptions": {},
       "type": "details",
       "viewOptionsGroup": [
        {
         "tabItems": [
          {
           "key": "0",
           "name": "Table",
           "options": {},
           "type": "table"
          }
         ]
        }
       ]
      }
     },
     "sync_state": {
      "isSummary": false,
      "language": "scala",
      "table": {
       "rows": [
        {
         "0": "Comunidad de Ceuta",
         "1": "2023",
         "2": "46198.23800000001"
        },
        {
         "0": "Comunidad de Ceuta",
         "1": "2024",
         "2": "186579.29399999997"
        },
        {
         "0": "Comunidad de Ceuta",
         "1": "2025",
         "2": "157747.6560000002"
        },
        {
         "0": "Comunidad de Melilla",
         "1": "2023",
         "2": "48602.548"
        },
        {
         "0": "Comunidad de Melilla",
         "1": "2024",
         "2": "203115.41800000018"
        },
        {
         "0": "Comunidad de Melilla",
         "1": "2025",
         "2": "176788.643"
        },
        {
         "0": "Islas Baleares",
         "1": "2023",
         "2": "1312080.9170000001"
        },
        {
         "0": "Islas Baleares",
         "1": "2024",
         "2": "6065037.625000004"
        },
        {
         "0": "Islas Baleares",
         "1": "2025",
         "2": "5041066.872000005"
        },
        {
         "0": "Islas Canarias",
         "1": "2023",
         "2": "2315562.577999999"
        },
        {
         "0": "Islas Canarias",
         "1": "2024",
         "2": "8897873.882999998"
        },
        {
         "0": "Islas Canarias",
         "1": "2025",
         "2": "6853352.917000004"
        },
        {
         "0": "Península",
         "1": "2023",
         "2": "5.823846455000001E7"
        },
        {
         "0": "Península",
         "1": "2024",
         "2": "2.336797460599999E8"
        },
        {
         "0": "Península",
         "1": "2025",
         "2": "1.839565371609998E8"
        }
       ],
       "schema": [
        {
         "key": "0",
         "name": "geo_name",
         "type": "string"
        },
        {
         "key": "1",
         "name": "year",
         "type": "int"
        },
        {
         "key": "2",
         "name": "demanda_total",
         "type": "double"
        }
       ],
       "truncated": false
      },
      "wranglerEntryContext": {
       "candidateVariableNames": [
        "df_demanda_anual"
       ],
       "dataframeType": "pyspark"
      }
     },
     "type": "Synapse.DataFrame"
    },
    "1663b4ff-c0c6-4c70-b370-57ec6591ac69": {
     "persist_state": {
      "view": {
       "chartOptions": {
        "aggregationType": "sum",
        "binsNumber": 10,
        "categoryFieldKeys": [],
        "chartType": "bar",
        "isStacked": false,
        "seriesFieldKeys": [],
        "wordFrequency": "-1"
       },
       "tableOptions": {},
       "type": "details",
       "viewOptionsGroup": [
        {
         "tabItems": [
          {
           "key": "0",
           "name": "Table",
           "options": {},
           "type": "table"
          }
         ]
        }
       ]
      }
     },
     "sync_state": {
      "isSummary": false,
      "language": "scala",
      "table": {
       "rows": [
        {
         "0": "8743",
         "1": "Islas Baleares",
         "2": "baleares",
         "3": "2025-01-29T07:59:00+00:00",
         "4": "2023-12-29 23:00:00",
         "5": "13997.624"
        },
        {
         "0": "8743",
         "1": "Islas Baleares",
         "2": "baleares",
         "3": "2025-01-29T07:59:00+00:00",
         "4": "2024-04-29 22:00:00",
         "5": "15943.792"
        }
       ],
       "schema": [
        {
         "key": "0",
         "name": "geo_id",
         "type": "bigint"
        },
        {
         "key": "1",
         "name": "geo_name",
         "type": "string"
        },
        {
         "key": "2",
         "name": "geo_limit",
         "type": "string"
        },
        {
         "key": "3",
         "name": "series_last_update",
         "type": "string"
        },
        {
         "key": "4",
         "name": "datetime",
         "type": "timestamp"
        },
        {
         "key": "5",
         "name": "value",
         "type": "double"
        }
       ],
       "truncated": false
      },
      "wranglerEntryContext": {
       "dataframeType": "pyspark"
      }
     },
     "type": "Synapse.DataFrame"
    },
    "25fc9b4f-599c-4c57-9391-89d54fd79e38": {
     "persist_state": {
      "view": {
       "chartOptions": {
        "aggregationType": "sum",
        "binsNumber": 10,
        "categoryFieldKeys": [],
        "chartType": "bar",
        "isStacked": false,
        "seriesFieldKeys": [],
        "wordFrequency": "-1"
       },
       "tableOptions": {},
       "type": "details",
       "viewOptionsGroup": [
        {
         "tabItems": [
          {
           "key": "0",
           "name": "Table",
           "options": {},
           "type": "table"
          }
         ]
        }
       ]
      }
     },
     "sync_state": {
      "isSummary": false,
      "language": "scala",
      "table": {
       "rows": [
        {
         "0": "Península",
         "1": "642206.1373427797"
        },
        {
         "0": "Islas Canarias",
         "1": "24381.632089068833"
        },
        {
         "0": "Islas Baleares",
         "1": "16758.68476923077"
        },
        {
         "0": "Comunidad de Melilla",
         "1": "578.2815236167337"
        },
        {
         "0": "Comunidad de Ceuta",
         "1": "527.0245452091772"
        }
       ],
       "schema": [
        {
         "key": "0",
         "name": "geo_name",
         "type": "string"
        },
        {
         "key": "1",
         "name": "demanda_media",
         "type": "double"
        }
       ],
       "truncated": false
      },
      "wranglerEntryContext": {
       "candidateVariableNames": [
        "df_ccaa"
       ],
       "dataframeType": "pyspark"
      }
     },
     "type": "Synapse.DataFrame"
    },
    "3b3ae9dd-17c7-4d1e-a98c-5b417a3beaec": {
     "persist_state": {
      "view": {
       "chartOptions": {
        "aggregationType": "sum",
        "binsNumber": 10,
        "categoryFieldKeys": [],
        "chartType": "bar",
        "isStacked": false,
        "seriesFieldKeys": [],
        "wordFrequency": "-1"
       },
       "tableOptions": {},
       "type": "details",
       "viewOptionsGroup": [
        {
         "tabItems": [
          {
           "key": "0",
           "name": "Table",
           "options": {},
           "type": "table"
          }
         ]
        }
       ]
      }
     },
     "sync_state": {
      "isSummary": false,
      "language": "scala",
      "table": {
       "rows": [
        {
         "0": "8743",
         "1": "Islas Baleares",
         "2": "baleares",
         "3": "2025-01-29T07:59:00+00:00",
         "4": "2023-12-29 23:00:00",
         "5": "13997.624",
         "6": "2023"
        },
        {
         "0": "8743",
         "1": "Islas Baleares",
         "2": "baleares",
         "3": "2025-01-29T07:59:00+00:00",
         "4": "2024-04-29 22:00:00",
         "5": "15943.792",
         "6": "2024"
        },
        {
         "0": "8743",
         "1": "Islas Baleares",
         "2": "baleares",
         "3": "2025-08-14T12:58:18+00:00",
         "4": "2025-05-14 22:00:00",
         "5": "15268.881",
         "6": "2025"
        }
       ],
       "schema": [
        {
         "key": "0",
         "name": "geo_id",
         "type": "bigint"
        },
        {
         "key": "1",
         "name": "geo_name",
         "type": "string"
        },
        {
         "key": "2",
         "name": "geo_limit",
         "type": "string"
        },
        {
         "key": "3",
         "name": "series_last_update",
         "type": "string"
        },
        {
         "key": "4",
         "name": "datetime",
         "type": "timestamp"
        },
        {
         "key": "5",
         "name": "value",
         "type": "double"
        },
        {
         "key": "6",
         "name": "year",
         "type": "int"
        }
       ],
       "truncated": false
      },
      "wranglerEntryContext": {
       "dataframeType": "pyspark"
      }
     },
     "type": "Synapse.DataFrame"
    },
    "51eb99a0-1c3c-4ad2-b83c-f2e4a31f7f5e": {
     "persist_state": {
      "view": {
       "chartOptions": {
        "aggregationType": "sum",
        "binsNumber": 10,
        "categoryFieldKeys": [],
        "chartType": "bar",
        "isStacked": false,
        "seriesFieldKeys": [],
        "wordFrequency": "-1"
       },
       "tableOptions": {},
       "type": "details",
       "viewOptionsGroup": [
        {
         "tabItems": [
          {
           "key": "0",
           "name": "Table",
           "options": {},
           "type": "table"
          }
         ]
        }
       ]
      }
     },
     "sync_state": {
      "isSummary": false,
      "language": "scala",
      "table": {
       "rows": [
        {
         "0": "8744",
         "1": "Comunidad de Ceuta",
         "2": "ceuta",
         "4": "day",
         "5": "Demanda",
         "6": "10297",
         "8": "Demanda",
         "10": "#ffea00",
         "14": "false",
         "15": "2025-01-29T07:59:00+00:00",
         "16": "2023-09-30 22:00:00",
         "17": "491.919",
         "18": "1.0",
         "19": "2025-10-02 09:57:50.654252"
        },
        {
         "0": "8744",
         "1": "Comunidad de Ceuta",
         "2": "ceuta",
         "4": "day",
         "5": "Demanda",
         "6": "10297",
         "8": "Demanda",
         "10": "#ffea00",
         "14": "false",
         "15": "2025-01-29T07:59:00+00:00",
         "16": "2023-10-01 22:00:00",
         "17": "548.1",
         "18": "1.0",
         "19": "2025-10-02 09:57:50.654252"
        },
        {
         "0": "8744",
         "1": "Comunidad de Ceuta",
         "2": "ceuta",
         "4": "day",
         "5": "Demanda",
         "6": "10297",
         "8": "Demanda",
         "10": "#ffea00",
         "14": "false",
         "15": "2025-01-29T07:59:00+00:00",
         "16": "2023-10-02 22:00:00",
         "17": "545.618",
         "18": "1.0",
         "19": "2025-10-02 09:57:50.654252"
        },
        {
         "0": "8744",
         "1": "Comunidad de Ceuta",
         "2": "ceuta",
         "4": "day",
         "5": "Demanda",
         "6": "10297",
         "8": "Demanda",
         "10": "#ffea00",
         "14": "false",
         "15": "2025-01-29T07:59:00+00:00",
         "16": "2023-10-03 22:00:00",
         "17": "542.928",
         "18": "1.0",
         "19": "2025-10-02 09:57:50.654252"
        },
        {
         "0": "8744",
         "1": "Comunidad de Ceuta",
         "2": "ceuta",
         "4": "day",
         "5": "Demanda",
         "6": "10297",
         "8": "Demanda",
         "10": "#ffea00",
         "14": "false",
         "15": "2025-01-29T07:59:00+00:00",
         "16": "2023-10-04 22:00:00",
         "17": "544.698",
         "18": "1.0",
         "19": "2025-10-02 09:57:50.654252"
        }
       ],
       "schema": [
        {
         "key": "0",
         "name": "geo_id",
         "type": "bigint"
        },
        {
         "key": "1",
         "name": "geo_name",
         "type": "string"
        },
        {
         "key": "2",
         "name": "geo_limit",
         "type": "string"
        },
        {
         "key": "3",
         "name": "ccaa_name",
         "type": "string"
        },
        {
         "key": "4",
         "name": "time_trunc",
         "type": "string"
        },
        {
         "key": "5",
         "name": "series_type",
         "type": "string"
        },
        {
         "key": "6",
         "name": "series_id",
         "type": "string"
        },
        {
         "key": "7",
         "name": "series_group_id",
         "type": "string"
        },
        {
         "key": "8",
         "name": "series_title",
         "type": "string"
        },
        {
         "key": "9",
         "name": "series_description",
         "type": "string"
        },
        {
         "key": "10",
         "name": "series_color",
         "type": "string"
        },
        {
         "key": "11",
         "name": "series_icon",
         "type": "string"
        },
        {
         "key": "12",
         "name": "series_attribute_type",
         "type": "string"
        },
        {
         "key": "13",
         "name": "series_magnitude",
         "type": "string"
        },
        {
         "key": "14",
         "name": "is_composite",
         "type": "boolean"
        },
        {
         "key": "15",
         "name": "series_last_update",
         "type": "string"
        },
        {
         "key": "16",
         "name": "datetime",
         "type": "timestamp"
        },
        {
         "key": "17",
         "name": "value",
         "type": "double"
        },
        {
         "key": "18",
         "name": "percentage",
         "type": "double"
        },
        {
         "key": "19",
         "name": "ingestion_timestamp",
         "type": "timestamp"
        }
       ],
       "truncated": false
      },
      "wranglerEntryContext": {
       "dataframeType": "pyspark"
      }
     },
     "type": "Synapse.DataFrame"
    },
    "7504d798-6cb6-4f96-a607-bae83b958078": {
     "persist_state": {
      "view": {
       "chartOptions": {
        "aggregationType": "sum",
        "binsNumber": 10,
        "categoryFieldKeys": [],
        "chartType": "bar",
        "isStacked": false,
        "seriesFieldKeys": [],
        "wordFrequency": "-1"
       },
       "tableOptions": {},
       "type": "details",
       "viewOptionsGroup": [
        {
         "tabItems": [
          {
           "key": "0",
           "name": "Table",
           "options": {},
           "type": "table"
          }
         ]
        }
       ]
      }
     },
     "sync_state": {
      "isSummary": false,
      "language": "scala",
      "table": {
       "rows": [
        {
         "0": "8744",
         "1": "Comunidad de Ceuta",
         "2": "ceuta",
         "3": "day",
         "4": "Demanda",
         "5": "10297",
         "6": "Demanda",
         "7": "#ffea00",
         "8": "false",
         "9": "2025-01-29T07:59:00+00:00",
         "10": "2023-09-30 22:00:00",
         "11": "491.919",
         "12": "1.0",
         "13": "2025-10-02 09:57:50.654252"
        },
        {
         "0": "8744",
         "1": "Comunidad de Ceuta",
         "2": "ceuta",
         "3": "day",
         "4": "Demanda",
         "5": "10297",
         "6": "Demanda",
         "7": "#ffea00",
         "8": "false",
         "9": "2025-01-29T07:59:00+00:00",
         "10": "2023-10-01 22:00:00",
         "11": "548.1",
         "12": "1.0",
         "13": "2025-10-02 09:57:50.654252"
        },
        {
         "0": "8744",
         "1": "Comunidad de Ceuta",
         "2": "ceuta",
         "3": "day",
         "4": "Demanda",
         "5": "10297",
         "6": "Demanda",
         "7": "#ffea00",
         "8": "false",
         "9": "2025-01-29T07:59:00+00:00",
         "10": "2023-10-02 22:00:00",
         "11": "545.618",
         "12": "1.0",
         "13": "2025-10-02 09:57:50.654252"
        },
        {
         "0": "8744",
         "1": "Comunidad de Ceuta",
         "2": "ceuta",
         "3": "day",
         "4": "Demanda",
         "5": "10297",
         "6": "Demanda",
         "7": "#ffea00",
         "8": "false",
         "9": "2025-01-29T07:59:00+00:00",
         "10": "2023-10-03 22:00:00",
         "11": "542.928",
         "12": "1.0",
         "13": "2025-10-02 09:57:50.654252"
        },
        {
         "0": "8744",
         "1": "Comunidad de Ceuta",
         "2": "ceuta",
         "3": "day",
         "4": "Demanda",
         "5": "10297",
         "6": "Demanda",
         "7": "#ffea00",
         "8": "false",
         "9": "2025-01-29T07:59:00+00:00",
         "10": "2023-10-04 22:00:00",
         "11": "544.698",
         "12": "1.0",
         "13": "2025-10-02 09:57:50.654252"
        }
       ],
       "schema": [
        {
         "key": "0",
         "name": "geo_id",
         "type": "bigint"
        },
        {
         "key": "1",
         "name": "geo_name",
         "type": "string"
        },
        {
         "key": "2",
         "name": "geo_limit",
         "type": "string"
        },
        {
         "key": "3",
         "name": "time_trunc",
         "type": "string"
        },
        {
         "key": "4",
         "name": "series_type",
         "type": "string"
        },
        {
         "key": "5",
         "name": "series_id",
         "type": "string"
        },
        {
         "key": "6",
         "name": "series_title",
         "type": "string"
        },
        {
         "key": "7",
         "name": "series_color",
         "type": "string"
        },
        {
         "key": "8",
         "name": "is_composite",
         "type": "boolean"
        },
        {
         "key": "9",
         "name": "series_last_update",
         "type": "string"
        },
        {
         "key": "10",
         "name": "datetime",
         "type": "timestamp"
        },
        {
         "key": "11",
         "name": "value",
         "type": "double"
        },
        {
         "key": "12",
         "name": "percentage",
         "type": "double"
        },
        {
         "key": "13",
         "name": "ingestion_timestamp",
         "type": "timestamp"
        }
       ],
       "truncated": false
      },
      "wranglerEntryContext": {
       "dataframeType": "pyspark"
      }
     },
     "type": "Synapse.DataFrame"
    },
    "75cfe902-b86e-4cd2-af69-c6dd47ab7355": {
     "persist_state": {
      "view": {
       "chartOptions": {
        "aggregationType": "sum",
        "binsNumber": 10,
        "categoryFieldKeys": [],
        "chartType": "bar",
        "isStacked": false,
        "seriesFieldKeys": [],
        "wordFrequency": "-1"
       },
       "tableOptions": {},
       "type": "details",
       "viewOptionsGroup": [
        {
         "tabItems": [
          {
           "key": "0",
           "name": "Table",
           "options": {},
           "type": "table"
          }
         ]
        }
       ]
      }
     },
     "sync_state": {
      "isSummary": false,
      "language": "scala",
      "table": {
       "rows": [
        {
         "0": "2023-09-30 22:00:00",
         "1": "568592.4099999999"
        },
        {
         "0": "2023-10-01 22:00:00",
         "1": "677907.7819999999"
        },
        {
         "0": "2023-10-02 22:00:00",
         "1": "694129.802"
        },
        {
         "0": "2023-10-03 22:00:00",
         "1": "697359.162"
        },
        {
         "0": "2023-10-04 22:00:00",
         "1": "698683.2509999999"
        },
        {
         "0": "2023-10-05 22:00:00",
         "1": "699421.9539999999"
        },
        {
         "0": "2023-10-06 22:00:00",
         "1": "618380.502"
        },
        {
         "0": "2023-10-07 22:00:00",
         "1": "572203.0650000001"
        },
        {
         "0": "2023-10-08 22:00:00",
         "1": "661444.716"
        },
        {
         "0": "2023-10-09 22:00:00",
         "1": "682328.873"
        },
        {
         "0": "2023-10-10 22:00:00",
         "1": "676631.446"
        },
        {
         "0": "2023-10-11 22:00:00",
         "1": "575504.945"
        },
        {
         "0": "2023-10-12 22:00:00",
         "1": "615394.793"
        },
        {
         "0": "2023-10-13 22:00:00",
         "1": "578579.097"
        },
        {
         "0": "2023-10-14 22:00:00",
         "1": "541876.33"
        },
        {
         "0": "2023-10-15 22:00:00",
         "1": "656582.378"
        },
        {
         "0": "2023-10-16 22:00:00",
         "1": "685735.457"
        },
        {
         "0": "2023-10-17 22:00:00",
         "1": "691544.263"
        },
        {
         "0": "2023-10-18 22:00:00",
         "1": "695588.62"
        },
        {
         "0": "2023-10-19 22:00:00",
         "1": "670024.187"
        },
        {
         "0": "2023-10-20 22:00:00",
         "1": "578655.9679999999"
        },
        {
         "0": "2023-10-21 22:00:00",
         "1": "547584.426"
        },
        {
         "0": "2023-10-22 22:00:00",
         "1": "652396.01"
        },
        {
         "0": "2023-10-23 22:00:00",
         "1": "668310.6270000001"
        },
        {
         "0": "2023-10-24 22:00:00",
         "1": "680986.583"
        },
        {
         "0": "2023-10-25 22:00:00",
         "1": "695519.318"
        },
        {
         "0": "2023-10-26 22:00:00",
         "1": "681696.9789999999"
        },
        {
         "0": "2023-10-27 22:00:00",
         "1": "600928.081"
        },
        {
         "0": "2023-10-28 22:00:00",
         "1": "584792.1059999999"
        },
        {
         "0": "2023-10-29 23:00:00",
         "1": "663807.7449999999"
        },
        {
         "0": "2023-10-30 23:00:00",
         "1": "677491.268"
        },
        {
         "0": "2023-10-31 23:00:00",
         "1": "595447.3940000001"
        },
        {
         "0": "2023-11-01 23:00:00",
         "1": "681524.0459999999"
        },
        {
         "0": "2023-11-02 23:00:00",
         "1": "688910.0520000001"
        },
        {
         "0": "2023-11-03 23:00:00",
         "1": "621381.2260000001"
        },
        {
         "0": "2023-11-04 23:00:00",
         "1": "573801.32"
        },
        {
         "0": "2023-11-05 23:00:00",
         "1": "677205.414"
        },
        {
         "0": "2023-11-06 23:00:00",
         "1": "699291.04"
        },
        {
         "0": "2023-11-07 23:00:00",
         "1": "713708.037"
        },
        {
         "0": "2023-11-08 23:00:00",
         "1": "703993.269"
        },
        {
         "0": "2023-11-09 23:00:00",
         "1": "703513.302"
        },
        {
         "0": "2023-11-10 23:00:00",
         "1": "628504.13"
        },
        {
         "0": "2023-11-11 23:00:00",
         "1": "573478.2989999999"
        },
        {
         "0": "2023-11-12 23:00:00",
         "1": "672700.8420000001"
        },
        {
         "0": "2023-11-13 23:00:00",
         "1": "682941.1240000001"
        },
        {
         "0": "2023-11-14 23:00:00",
         "1": "690217.8899999999"
        },
        {
         "0": "2023-11-15 23:00:00",
         "1": "694399.3700000001"
        },
        {
         "0": "2023-11-16 23:00:00",
         "1": "681979.8439999999"
        },
        {
         "0": "2023-11-17 23:00:00",
         "1": "604200.644"
        },
        {
         "0": "2023-11-18 23:00:00",
         "1": "560129.864"
        },
        {
         "0": "2023-11-19 23:00:00",
         "1": "674097.1630000001"
        },
        {
         "0": "2023-11-20 23:00:00",
         "1": "697706.662"
        },
        {
         "0": "2023-11-21 23:00:00",
         "1": "709139.885"
        },
        {
         "0": "2023-11-22 23:00:00",
         "1": "713863.707"
        },
        {
         "0": "2023-11-23 23:00:00",
         "1": "715114.1099999999"
        },
        {
         "0": "2023-11-24 23:00:00",
         "1": "635313.081"
        },
        {
         "0": "2023-11-25 23:00:00",
         "1": "602380.968"
        },
        {
         "0": "2023-11-26 23:00:00",
         "1": "720961.7710000001"
        },
        {
         "0": "2023-11-27 23:00:00",
         "1": "737005.0179999999"
        },
        {
         "0": "2023-11-28 23:00:00",
         "1": "735891.426"
        },
        {
         "0": "2023-11-29 23:00:00",
         "1": "724390.897"
        },
        {
         "0": "2023-11-30 23:00:00",
         "1": "721843.711"
        },
        {
         "0": "2023-12-01 23:00:00",
         "1": "646520.0059999999"
        },
        {
         "0": "2023-12-02 23:00:00",
         "1": "624482.2669999999"
        },
        {
         "0": "2023-12-03 23:00:00",
         "1": "743449.538"
        },
        {
         "0": "2023-12-04 23:00:00",
         "1": "751522.63"
        },
        {
         "0": "2023-12-05 23:00:00",
         "1": "674816.6329999999"
        },
        {
         "0": "2023-12-06 23:00:00",
         "1": "701438.509"
        },
        {
         "0": "2023-12-07 23:00:00",
         "1": "638304.87"
        },
        {
         "0": "2023-12-08 23:00:00",
         "1": "633897.78"
        },
        {
         "0": "2023-12-09 23:00:00",
         "1": "604532.2570000001"
        },
        {
         "0": "2023-12-10 23:00:00",
         "1": "712662.101"
        },
        {
         "0": "2023-12-11 23:00:00",
         "1": "734744.8889999999"
        },
        {
         "0": "2023-12-12 23:00:00",
         "1": "741549.8859999999"
        },
        {
         "0": "2023-12-13 23:00:00",
         "1": "745172.248"
        },
        {
         "0": "2023-12-14 23:00:00",
         "1": "739184.562"
        },
        {
         "0": "2023-12-15 23:00:00",
         "1": "662260.256"
        },
        {
         "0": "2023-12-16 23:00:00",
         "1": "636365.3219999999"
        },
        {
         "0": "2023-12-17 23:00:00",
         "1": "758212.531"
        },
        {
         "0": "2023-12-18 23:00:00",
         "1": "774315.3470000001"
        },
        {
         "0": "2023-12-19 23:00:00",
         "1": "781442.119"
        },
        {
         "0": "2023-12-20 23:00:00",
         "1": "758822.16"
        },
        {
         "0": "2023-12-21 23:00:00",
         "1": "721413.2509999999"
        },
        {
         "0": "2023-12-22 23:00:00",
         "1": "640883.947"
        },
        {
         "0": "2023-12-23 23:00:00",
         "1": "596118.636"
        },
        {
         "0": "2023-12-24 23:00:00",
         "1": "553617.3380000001"
        },
        {
         "0": "2023-12-25 23:00:00",
         "1": "654679.567"
        },
        {
         "0": "2023-12-26 23:00:00",
         "1": "703161.9009999998"
        },
        {
         "0": "2023-12-27 23:00:00",
         "1": "710999.762"
        },
        {
         "0": "2023-12-28 23:00:00",
         "1": "698783.477"
        },
        {
         "0": "2023-12-29 23:00:00",
         "1": "630400.5949999999"
        },
        {
         "0": "2023-12-30 23:00:00",
         "1": "606791.9289999999"
        },
        {
         "0": "2023-12-31 23:00:00",
         "1": "555244.8670000001"
        },
        {
         "0": "2024-01-01 23:00:00",
         "1": "703015.2880000001"
        },
        {
         "0": "2024-01-02 23:00:00",
         "1": "721647.165"
        },
        {
         "0": "2024-01-03 23:00:00",
         "1": "726021.564"
        },
        {
         "0": "2024-01-04 23:00:00",
         "1": "697927.0440000001"
        },
        {
         "0": "2024-01-05 23:00:00",
         "1": "614433.071"
        },
        {
         "0": "2024-01-06 23:00:00",
         "1": "637873.1529999999"
        },
        {
         "0": "2024-01-07 23:00:00",
         "1": "784344.3049999999"
        },
        {
         "0": "2024-01-08 23:00:00",
         "1": "811334.5549999999"
        },
        {
         "0": "2024-01-09 23:00:00",
         "1": "818554.39"
        },
        {
         "0": "2024-01-10 23:00:00",
         "1": "808748.3330000001"
        },
        {
         "0": "2024-01-11 23:00:00",
         "1": "805039.4530000001"
        },
        {
         "0": "2024-01-12 23:00:00",
         "1": "717299.596"
        },
        {
         "0": "2024-01-13 23:00:00",
         "1": "660467.647"
        },
        {
         "0": "2024-01-14 23:00:00",
         "1": "770268.23"
        },
        {
         "0": "2024-01-15 23:00:00",
         "1": "770386.472"
        },
        {
         "0": "2024-01-16 23:00:00",
         "1": "759854.3470000001"
        },
        {
         "0": "2024-01-17 23:00:00",
         "1": "742783.4920000001"
        },
        {
         "0": "2024-01-18 23:00:00",
         "1": "776526.6050000001"
        },
        {
         "0": "2024-01-19 23:00:00",
         "1": "683033.9330000001"
        },
        {
         "0": "2024-01-20 23:00:00",
         "1": "640605.651"
        },
        {
         "0": "2024-01-21 23:00:00",
         "1": "756819.433"
        },
        {
         "0": "2024-01-22 23:00:00",
         "1": "753138.6089999999"
        },
        {
         "0": "2024-01-23 23:00:00",
         "1": "740425.0989999999"
        },
        {
         "0": "2024-01-24 23:00:00",
         "1": "731835.908"
        },
        {
         "0": "2024-01-25 23:00:00",
         "1": "723523.058"
        },
        {
         "0": "2024-01-26 23:00:00",
         "1": "637219.431"
        },
        {
         "0": "2024-01-27 23:00:00",
         "1": "600542.1089999999"
        },
        {
         "0": "2024-01-28 23:00:00",
         "1": "722022.961"
        },
        {
         "0": "2024-01-29 23:00:00",
         "1": "739056.7409999999"
        },
        {
         "0": "2024-01-30 23:00:00",
         "1": "743579.2239999998"
        },
        {
         "0": "2024-01-31 23:00:00",
         "1": "742360.015"
        },
        {
         "0": "2024-02-01 23:00:00",
         "1": "732137.756"
        },
        {
         "0": "2024-02-02 23:00:00",
         "1": "645683.778"
        },
        {
         "0": "2024-02-03 23:00:00",
         "1": "603124.588"
        },
        {
         "0": "2024-02-04 23:00:00",
         "1": "723751.094"
        },
        {
         "0": "2024-02-05 23:00:00",
         "1": "737643.2590000001"
        },
        {
         "0": "2024-02-06 23:00:00",
         "1": "749239.0869999999"
        },
        {
         "0": "2024-02-07 23:00:00",
         "1": "753771.808"
        },
        {
         "0": "2024-02-08 23:00:00",
         "1": "755078.1830000001"
        },
        {
         "0": "2024-02-09 23:00:00",
         "1": "663286.9010000001"
        },
        {
         "0": "2024-02-10 23:00:00",
         "1": "637388.0129999999"
        },
        {
         "0": "2024-02-11 23:00:00",
         "1": "714805.293"
        },
        {
         "0": "2024-02-12 23:00:00",
         "1": "711774.274"
        },
        {
         "0": "2024-02-13 23:00:00",
         "1": "720159.286"
        },
        {
         "0": "2024-02-14 23:00:00",
         "1": "729110.689"
        },
        {
         "0": "2024-02-15 23:00:00",
         "1": "717799.65"
        },
        {
         "0": "2024-02-16 23:00:00",
         "1": "624221.9049999999"
        },
        {
         "0": "2024-02-17 23:00:00",
         "1": "584974.522"
        },
        {
         "0": "2024-02-18 23:00:00",
         "1": "689633.1620000001"
        },
        {
         "0": "2024-02-19 23:00:00",
         "1": "701883.264"
        },
        {
         "0": "2024-02-20 23:00:00",
         "1": "717459.1930000001"
        },
        {
         "0": "2024-02-21 23:00:00",
         "1": "727081.55"
        },
        {
         "0": "2024-02-22 23:00:00",
         "1": "724628.0989999999"
        },
        {
         "0": "2024-02-23 23:00:00",
         "1": "657800.038"
        },
        {
         "0": "2024-02-24 23:00:00",
         "1": "626143.6329999999"
        },
        {
         "0": "2024-02-25 23:00:00",
         "1": "730573.8599999999"
        },
        {
         "0": "2024-02-26 23:00:00",
         "1": "746142.904"
        },
        {
         "0": "2024-02-27 23:00:00",
         "1": "732016.128"
        },
        {
         "0": "2024-02-28 23:00:00",
         "1": "735852.4990000001"
        },
        {
         "0": "2024-02-29 23:00:00",
         "1": "729467.2230000001"
        },
        {
         "0": "2024-03-01 23:00:00",
         "1": "666467.1089999999"
        },
        {
         "0": "2024-03-02 23:00:00",
         "1": "621709.8460000001"
        },
        {
         "0": "2024-03-03 23:00:00",
         "1": "737435.932"
        },
        {
         "0": "2024-03-04 23:00:00",
         "1": "723424.215"
        },
        {
         "0": "2024-03-05 23:00:00",
         "1": "729789.252"
        },
        {
         "0": "2024-03-06 23:00:00",
         "1": "746093.4750000001"
        },
        {
         "0": "2024-03-07 23:00:00",
         "1": "749031.9339999999"
        },
        {
         "0": "2024-03-08 23:00:00",
         "1": "692419.8709999999"
        },
        {
         "0": "2024-03-09 23:00:00",
         "1": "627303.729"
        },
        {
         "0": "2024-03-10 23:00:00",
         "1": "717439.261"
        },
        {
         "0": "2024-03-11 23:00:00",
         "1": "716317.5410000001"
        },
        {
         "0": "2024-03-12 23:00:00",
         "1": "716865.216"
        },
        {
         "0": "2024-03-13 23:00:00",
         "1": "717487.5160000001"
        },
        {
         "0": "2024-03-14 23:00:00",
         "1": "698375.264"
        },
        {
         "0": "2024-03-15 23:00:00",
         "1": "619190.5540000001"
        },
        {
         "0": "2024-03-16 23:00:00",
         "1": "571959.7109999999"
        },
        {
         "0": "2024-03-17 23:00:00",
         "1": "656466.1819999999"
        },
        {
         "0": "2024-03-18 23:00:00",
         "1": "650942.94"
        },
        {
         "0": "2024-03-19 23:00:00",
         "1": "677715.876"
        },
        {
         "0": "2024-03-20 23:00:00",
         "1": "684131.084"
        },
        {
         "0": "2024-03-21 23:00:00",
         "1": "675156.316"
        },
        {
         "0": "2024-03-22 23:00:00",
         "1": "603767.889"
        },
        {
         "0": "2024-03-23 23:00:00",
         "1": "563702.618"
        },
        {
         "0": "2024-03-24 23:00:00",
         "1": "685192.419"
        },
        {
         "0": "2024-03-25 23:00:00",
         "1": "699802.428"
        },
        {
         "0": "2024-03-26 23:00:00",
         "1": "695408.52"
        },
        {
         "0": "2024-03-27 23:00:00",
         "1": "617996.902"
        },
        {
         "0": "2024-03-28 23:00:00",
         "1": "573029.121"
        },
        {
         "0": "2024-03-29 23:00:00",
         "1": "588708.264"
        },
        {
         "0": "2024-03-30 23:00:00",
         "1": "561847.85"
        },
        {
         "0": "2024-03-31 22:00:00",
         "1": "623228.3070000001"
        },
        {
         "0": "2024-04-01 22:00:00",
         "1": "694570.553"
        },
        {
         "0": "2024-04-02 22:00:00",
         "1": "688488.736"
        },
        {
         "0": "2024-04-03 22:00:00",
         "1": "677427.35"
        },
        {
         "0": "2024-04-04 22:00:00",
         "1": "671653.489"
        },
        {
         "0": "2024-04-05 22:00:00",
         "1": "604465.6329999999"
        },
        {
         "0": "2024-04-06 22:00:00",
         "1": "561757.031"
        },
        {
         "0": "2024-04-07 22:00:00",
         "1": "657433.702"
        },
        {
         "0": "2024-04-08 22:00:00",
         "1": "668257.071"
        },
        {
         "0": "2024-04-09 22:00:00",
         "1": "668202.2000000001"
        },
        {
         "0": "2024-04-10 22:00:00",
         "1": "665977.399"
        },
        {
         "0": "2024-04-11 22:00:00",
         "1": "664461.312"
        },
        {
         "0": "2024-04-12 22:00:00",
         "1": "585553.996"
        },
        {
         "0": "2024-04-13 22:00:00",
         "1": "543725.2540000001"
        },
        {
         "0": "2024-04-14 22:00:00",
         "1": "648396.706"
        },
        {
         "0": "2024-04-15 22:00:00",
         "1": "666033.965"
        },
        {
         "0": "2024-04-16 22:00:00",
         "1": "661795.21"
        },
        {
         "0": "2024-04-17 22:00:00",
         "1": "666258.337"
        },
        {
         "0": "2024-04-18 22:00:00",
         "1": "663049.777"
        },
        {
         "0": "2024-04-19 22:00:00",
         "1": "589480.8479999999"
        },
        {
         "0": "2024-04-20 22:00:00",
         "1": "545934.155"
        },
        {
         "0": "2024-04-21 22:00:00",
         "1": "651281.214"
        },
        {
         "0": "2024-04-22 22:00:00",
         "1": "667466.2570000001"
        },
        {
         "0": "2024-04-23 22:00:00",
         "1": "675596.0880000001"
        },
        {
         "0": "2024-04-24 22:00:00",
         "1": "691439.048"
        },
        {
         "0": "2024-04-25 22:00:00",
         "1": "675432.386"
        },
        {
         "0": "2024-04-26 22:00:00",
         "1": "611912.8879999999"
        },
        {
         "0": "2024-04-27 22:00:00",
         "1": "568701.6619999999"
        },
        {
         "0": "2024-04-28 22:00:00",
         "1": "672165.1460000001"
        },
        {
         "0": "2024-04-29 22:00:00",
         "1": "664929.8459999999"
        },
        {
         "0": "2024-04-30 22:00:00",
         "1": "568421.345"
        },
        {
         "0": "2024-05-01 22:00:00",
         "1": "635425.978"
        },
        {
         "0": "2024-05-02 22:00:00",
         "1": "652165.748"
        },
        {
         "0": "2024-05-03 22:00:00",
         "1": "593552.8270000002"
        },
        {
         "0": "2024-05-04 22:00:00",
         "1": "555780.255"
        },
        {
         "0": "2024-05-05 22:00:00",
         "1": "648152.36"
        },
        {
         "0": "2024-05-06 22:00:00",
         "1": "652509.483"
        },
        {
         "0": "2024-05-07 22:00:00",
         "1": "658796.405"
        },
        {
         "0": "2024-05-08 22:00:00",
         "1": "655816.265"
        },
        {
         "0": "2024-05-09 22:00:00",
         "1": "645627.4619999999"
        },
        {
         "0": "2024-05-10 22:00:00",
         "1": "579946.899"
        },
        {
         "0": "2024-05-11 22:00:00",
         "1": "540936.671"
        },
        {
         "0": "2024-05-12 22:00:00",
         "1": "645953.065"
        },
        {
         "0": "2024-05-13 22:00:00",
         "1": "665465.702"
        },
        {
         "0": "2024-05-14 22:00:00",
         "1": "655273.2430000001"
        },
        {
         "0": "2024-05-15 22:00:00",
         "1": "661361.246"
        },
        {
         "0": "2024-05-16 22:00:00",
         "1": "651971.5759999999"
        },
        {
         "0": "2024-05-17 22:00:00",
         "1": "584061.147"
        },
        {
         "0": "2024-05-18 22:00:00",
         "1": "544949.381"
        },
        {
         "0": "2024-05-19 22:00:00",
         "1": "631943.3209999999"
        },
        {
         "0": "2024-05-20 22:00:00",
         "1": "656029.4990000001"
        },
        {
         "0": "2024-05-21 22:00:00",
         "1": "659036.307"
        },
        {
         "0": "2024-05-22 22:00:00",
         "1": "657805.014"
        },
        {
         "0": "2024-05-23 22:00:00",
         "1": "652583.3510000001"
        },
        {
         "0": "2024-05-24 22:00:00",
         "1": "584490.737"
        },
        {
         "0": "2024-05-25 22:00:00",
         "1": "543822.396"
        },
        {
         "0": "2024-05-26 22:00:00",
         "1": "656359.466"
        },
        {
         "0": "2024-05-27 22:00:00",
         "1": "665737.464"
        },
        {
         "0": "2024-05-28 22:00:00",
         "1": "678858.7119999999"
        },
        {
         "0": "2024-05-29 22:00:00",
         "1": "684154.7180000001"
        },
        {
         "0": "2024-05-30 22:00:00",
         "1": "671946.9430000001"
        },
        {
         "0": "2024-05-31 22:00:00",
         "1": "605609.344"
        },
        {
         "0": "2024-06-01 22:00:00",
         "1": "560714.731"
        },
        {
         "0": "2024-06-02 22:00:00",
         "1": "664171.381"
        },
        {
         "0": "2024-06-03 22:00:00",
         "1": "676147.024"
        },
        {
         "0": "2024-06-04 22:00:00",
         "1": "690629.081"
        },
        {
         "0": "2024-06-05 22:00:00",
         "1": "709328.483"
        },
        {
         "0": "2024-06-06 22:00:00",
         "1": "709002.434"
        },
        {
         "0": "2024-06-07 22:00:00",
         "1": "624940.5480000002"
        },
        {
         "0": "2024-06-08 22:00:00",
         "1": "564613.9820000001"
        },
        {
         "0": "2024-06-09 22:00:00",
         "1": "667282.159"
        },
        {
         "0": "2024-06-10 22:00:00",
         "1": "674946.8890000001"
        },
        {
         "0": "2024-06-11 22:00:00",
         "1": "669454.606"
        },
        {
         "0": "2024-06-12 22:00:00",
         "1": "656697.84"
        },
        {
         "0": "2024-06-13 22:00:00",
         "1": "674133.246"
        },
        {
         "0": "2024-06-14 22:00:00",
         "1": "600995.728"
        },
        {
         "0": "2024-06-15 22:00:00",
         "1": "561443.793"
        },
        {
         "0": "2024-06-16 22:00:00",
         "1": "681747.5460000001"
        },
        {
         "0": "2024-06-17 22:00:00",
         "1": "699341.602"
        },
        {
         "0": "2024-06-18 22:00:00",
         "1": "690808.968"
        },
        {
         "0": "2024-06-19 22:00:00",
         "1": "684359.589"
        },
        {
         "0": "2024-06-20 22:00:00",
         "1": "669614.896"
        },
        {
         "0": "2024-06-21 22:00:00",
         "1": "608765.1699999999"
        },
        {
         "0": "2024-06-22 22:00:00",
         "1": "569421.3369999999"
        },
        {
         "0": "2024-06-23 22:00:00",
         "1": "649342.6240000001"
        },
        {
         "0": "2024-06-24 22:00:00",
         "1": "712849.92"
        },
        {
         "0": "2024-06-25 22:00:00",
         "1": "717816.487"
        },
        {
         "0": "2024-06-26 22:00:00",
         "1": "720978.149"
        },
        {
         "0": "2024-06-27 22:00:00",
         "1": "715436.4459999999"
        },
        {
         "0": "2024-06-28 22:00:00",
         "1": "630068.0669999999"
        },
        {
         "0": "2024-06-29 22:00:00",
         "1": "584551.913"
        },
        {
         "0": "2024-06-30 22:00:00",
         "1": "681334.1910000001"
        },
        {
         "0": "2024-07-01 22:00:00",
         "1": "703414.1369999999"
        },
        {
         "0": "2024-07-02 22:00:00",
         "1": "721094.617"
        },
        {
         "0": "2024-07-03 22:00:00",
         "1": "741903.323"
        },
        {
         "0": "2024-07-04 22:00:00",
         "1": "743942.6440000001"
        },
        {
         "0": "2024-07-05 22:00:00",
         "1": "655200.7159999999"
        },
        {
         "0": "2024-07-06 22:00:00",
         "1": "592807.1959999999"
        },
        {
         "0": "2024-07-07 22:00:00",
         "1": "704608.5059999999"
        },
        {
         "0": "2024-07-08 22:00:00",
         "1": "735246.4929999999"
        },
        {
         "0": "2024-07-09 22:00:00",
         "1": "755953.0920000001"
        },
        {
         "0": "2024-07-10 22:00:00",
         "1": "784324.877"
        },
        {
         "0": "2024-07-11 22:00:00",
         "1": "773984.0439999999"
        },
        {
         "0": "2024-07-12 22:00:00",
         "1": "669539.381"
        },
        {
         "0": "2024-07-13 22:00:00",
         "1": "619738.552"
        },
        {
         "0": "2024-07-14 22:00:00",
         "1": "746678.5769999999"
        },
        {
         "0": "2024-07-15 22:00:00",
         "1": "761350.291"
        },
        {
         "0": "2024-07-16 22:00:00",
         "1": "769490.835"
        },
        {
         "0": "2024-07-17 22:00:00",
         "1": "788251.947"
        },
        {
         "0": "2024-07-18 22:00:00",
         "1": "798577.229"
        },
        {
         "0": "2024-07-19 22:00:00",
         "1": "713044.045"
        },
        {
         "0": "2024-07-20 22:00:00",
         "1": "642225.966"
        },
        {
         "0": "2024-07-21 22:00:00",
         "1": "742609.04"
        },
        {
         "0": "2024-07-22 22:00:00",
         "1": "783655.8759999999"
        },
        {
         "0": "2024-07-23 22:00:00",
         "1": "806491.021"
        },
        {
         "0": "2024-07-24 22:00:00",
         "1": "773869.478"
        },
        {
         "0": "2024-07-25 22:00:00",
         "1": "773507.2980000001"
        },
        {
         "0": "2024-07-26 22:00:00",
         "1": "703636.077"
        },
        {
         "0": "2024-07-27 22:00:00",
         "1": "669435.612"
        },
        {
         "0": "2024-07-28 22:00:00",
         "1": "795578.1740000001"
        },
        {
         "0": "2024-07-29 22:00:00",
         "1": "814355.266"
        },
        {
         "0": "2024-07-30 22:00:00",
         "1": "808361.242"
        },
        {
         "0": "2024-07-31 22:00:00",
         "1": "822247.988"
        },
        {
         "0": "2024-08-01 22:00:00",
         "1": "796655.872"
        },
        {
         "0": "2024-08-02 22:00:00",
         "1": "700040.965"
        },
        {
         "0": "2024-08-03 22:00:00",
         "1": "664328.4789999999"
        },
        {
         "0": "2024-08-04 22:00:00",
         "1": "758918.1680000001"
        },
        {
         "0": "2024-08-05 22:00:00",
         "1": "771338.769"
        },
        {
         "0": "2024-08-06 22:00:00",
         "1": "771987.5439999999"
        },
        {
         "0": "2024-08-07 22:00:00",
         "1": "772315.5390000001"
        },
        {
         "0": "2024-08-08 22:00:00",
         "1": "772848.5410000001"
        },
        {
         "0": "2024-08-09 22:00:00",
         "1": "713379.6529999999"
        },
        {
         "0": "2024-08-10 22:00:00",
         "1": "671617.012"
        },
        {
         "0": "2024-08-11 22:00:00",
         "1": "749927.2710000001"
        },
        {
         "0": "2024-08-12 22:00:00",
         "1": "737741.1390000001"
        },
        {
         "0": "2024-08-13 22:00:00",
         "1": "702641.256"
        },
        {
         "0": "2024-08-14 22:00:00",
         "1": "617459.6680000001"
        },
        {
         "0": "2024-08-15 22:00:00",
         "1": "655005.613"
        },
        {
         "0": "2024-08-16 22:00:00",
         "1": "647846.697"
        },
        {
         "0": "2024-08-17 22:00:00",
         "1": "628860.896"
        },
        {
         "0": "2024-08-18 22:00:00",
         "1": "712209.535"
        },
        {
         "0": "2024-08-19 22:00:00",
         "1": "732613.2649999999"
        },
        {
         "0": "2024-08-20 22:00:00",
         "1": "742685.829"
        },
        {
         "0": "2024-08-21 22:00:00",
         "1": "749058.16"
        },
        {
         "0": "2024-08-22 22:00:00",
         "1": "743360.1470000001"
        },
        {
         "0": "2024-08-23 22:00:00",
         "1": "688795.588"
        },
        {
         "0": "2024-08-24 22:00:00",
         "1": "647831.235"
        },
        {
         "0": "2024-08-25 22:00:00",
         "1": "738515.043"
        },
        {
         "0": "2024-08-26 22:00:00",
         "1": "765895.2100000001"
        },
        {
         "0": "2024-08-27 22:00:00",
         "1": "777617.2420000001"
        },
        {
         "0": "2024-08-28 22:00:00",
         "1": "767303.899"
        },
        {
         "0": "2024-08-29 22:00:00",
         "1": "754789.613"
        },
        {
         "0": "2024-08-30 22:00:00",
         "1": "679405.743"
        },
        {
         "0": "2024-08-31 22:00:00",
         "1": "635439.525"
        },
        {
         "0": "2024-09-01 22:00:00",
         "1": "747062.6690000001"
        },
        {
         "0": "2024-09-02 22:00:00",
         "1": "749408.028"
        },
        {
         "0": "2024-09-03 22:00:00",
         "1": "724792.317"
        },
        {
         "0": "2024-09-04 22:00:00",
         "1": "711202.4579999999"
        },
        {
         "0": "2024-09-05 22:00:00",
         "1": "713252.947"
        },
        {
         "0": "2024-09-06 22:00:00",
         "1": "627784.7849999999"
        },
        {
         "0": "2024-09-07 22:00:00",
         "1": "586360.4720000001"
        },
        {
         "0": "2024-09-08 22:00:00",
         "1": "678877.1549999999"
        },
        {
         "0": "2024-09-09 22:00:00",
         "1": "702594.5129999999"
        },
        {
         "0": "2024-09-10 22:00:00",
         "1": "690181.234"
        },
        {
         "0": "2024-09-11 22:00:00",
         "1": "711924.911"
        },
        {
         "0": "2024-09-12 22:00:00",
         "1": "684290.862"
        },
        {
         "0": "2024-09-13 22:00:00",
         "1": "603067.587"
        },
        {
         "0": "2024-09-14 22:00:00",
         "1": "565837.168"
        },
        {
         "0": "2024-09-15 22:00:00",
         "1": "677078.717"
        },
        {
         "0": "2024-09-16 22:00:00",
         "1": "693588.7490000001"
        },
        {
         "0": "2024-09-17 22:00:00",
         "1": "697603.348"
        },
        {
         "0": "2024-09-18 22:00:00",
         "1": "695289.772"
        },
        {
         "0": "2024-09-19 22:00:00",
         "1": "686232.736"
        },
        {
         "0": "2024-09-20 22:00:00",
         "1": "612441.8570000001"
        },
        {
         "0": "2024-09-21 22:00:00",
         "1": "563638.2670000001"
        },
        {
         "0": "2024-09-22 22:00:00",
         "1": "658323.079"
        },
        {
         "0": "2024-09-23 22:00:00",
         "1": "666469.6370000001"
        },
        {
         "0": "2024-09-24 22:00:00",
         "1": "690095.7309999999"
        },
        {
         "0": "2024-09-25 22:00:00",
         "1": "709482.7050000001"
        },
        {
         "0": "2024-09-26 22:00:00",
         "1": "681368.7520000001"
        },
        {
         "0": "2024-09-27 22:00:00",
         "1": "586332.401"
        },
        {
         "0": "2024-09-28 22:00:00",
         "1": "547051.0229999999"
        },
        {
         "0": "2024-09-29 22:00:00",
         "1": "651638.1249999999"
        },
        {
         "0": "2024-09-30 22:00:00",
         "1": "708606.4330000001"
        },
        {
         "0": "2024-10-01 22:00:00",
         "1": "703399.2039999999"
        },
        {
         "0": "2024-10-02 22:00:00",
         "1": "693194.537"
        },
        {
         "0": "2024-10-03 22:00:00",
         "1": "675384.605"
        },
        {
         "0": "2024-10-04 22:00:00",
         "1": "606137.559"
        },
        {
         "0": "2024-10-05 22:00:00",
         "1": "576305.048"
        },
        {
         "0": "2024-10-06 22:00:00",
         "1": "689869.339"
        },
        {
         "0": "2024-10-07 22:00:00",
         "1": "690629.2699999999"
        },
        {
         "0": "2024-10-08 22:00:00",
         "1": "688291.776"
        },
        {
         "0": "2024-10-09 22:00:00",
         "1": "674263.542"
        },
        {
         "0": "2024-10-10 22:00:00",
         "1": "664445.093"
        },
        {
         "0": "2024-10-11 22:00:00",
         "1": "589371.6410000001"
        },
        {
         "0": "2024-10-12 22:00:00",
         "1": "549325.167"
        },
        {
         "0": "2024-10-13 22:00:00",
         "1": "667083.539"
        },
        {
         "0": "2024-10-14 22:00:00",
         "1": "693429.185"
        },
        {
         "0": "2024-10-15 22:00:00",
         "1": "696387.3230000001"
        },
        {
         "0": "2024-10-16 22:00:00",
         "1": "689298.896"
        },
        {
         "0": "2024-10-17 22:00:00",
         "1": "672089.931"
        },
        {
         "0": "2024-10-18 22:00:00",
         "1": "592221.902"
        },
        {
         "0": "2024-10-19 22:00:00",
         "1": "556023.988"
        },
        {
         "0": "2024-10-20 22:00:00",
         "1": "652623.804"
        },
        {
         "0": "2024-10-21 22:00:00",
         "1": "677158.8350000001"
        },
        {
         "0": "2024-10-22 22:00:00",
         "1": "674639.5800000001"
        },
        {
         "0": "2024-10-23 22:00:00",
         "1": "675673.9010000001"
        },
        {
         "0": "2024-10-24 22:00:00",
         "1": "680720.158"
        },
        {
         "0": "2024-10-25 22:00:00",
         "1": "600247.2690000001"
        },
        {
         "0": "2024-10-26 22:00:00",
         "1": "592759.215"
        },
        {
         "0": "2024-10-27 23:00:00",
         "1": "674857.507"
        },
        {
         "0": "2024-10-28 23:00:00",
         "1": "700334.7729999999"
        },
        {
         "0": "2024-10-29 23:00:00",
         "1": "687467.9859999999"
        },
        {
         "0": "2024-10-30 23:00:00",
         "1": "665892.123"
        },
        {
         "0": "2024-10-31 23:00:00",
         "1": "576783.336"
        },
        {
         "0": "2024-11-01 23:00:00",
         "1": "573532.746"
        },
        {
         "0": "2024-11-02 23:00:00",
         "1": "554210.24"
        },
        {
         "0": "2024-11-03 23:00:00",
         "1": "651483.426"
        },
        {
         "0": "2024-11-04 23:00:00",
         "1": "670574.064"
        },
        {
         "0": "2024-11-05 23:00:00",
         "1": "674362.9240000001"
        },
        {
         "0": "2024-11-06 23:00:00",
         "1": "675193.072"
        },
        {
         "0": "2024-11-07 23:00:00",
         "1": "682048.084"
        },
        {
         "0": "2024-11-08 23:00:00",
         "1": "603583.792"
        },
        {
         "0": "2024-11-09 23:00:00",
         "1": "564578.381"
        },
        {
         "0": "2024-11-10 23:00:00",
         "1": "667220.895"
        },
        {
         "0": "2024-11-11 23:00:00",
         "1": "699039.699"
        },
        {
         "0": "2024-11-12 23:00:00",
         "1": "729480.419"
        },
        {
         "0": "2024-11-13 23:00:00",
         "1": "712870.311"
        },
        {
         "0": "2024-11-14 23:00:00",
         "1": "704718.222"
        },
        {
         "0": "2024-11-15 23:00:00",
         "1": "622812.608"
        },
        {
         "0": "2024-11-16 23:00:00",
         "1": "578595.0719999999"
        },
        {
         "0": "2024-11-17 23:00:00",
         "1": "681919.504"
        },
        {
         "0": "2024-11-18 23:00:00",
         "1": "698286.164"
        },
        {
         "0": "2024-11-19 23:00:00",
         "1": "706921.682"
        },
        {
         "0": "2024-11-20 23:00:00",
         "1": "723267.232"
        },
        {
         "0": "2024-11-21 23:00:00",
         "1": "708667.274"
        },
        {
         "0": "2024-11-22 23:00:00",
         "1": "626789.451"
        },
        {
         "0": "2024-11-23 23:00:00",
         "1": "588091.161"
        },
        {
         "0": "2024-11-24 23:00:00",
         "1": "698156.579"
        },
        {
         "0": "2024-11-25 23:00:00",
         "1": "719842.719"
        },
        {
         "0": "2024-11-26 23:00:00",
         "1": "724174.714"
        },
        {
         "0": "2024-11-27 23:00:00",
         "1": "730617.6449999999"
        },
        {
         "0": "2024-11-28 23:00:00",
         "1": "718383.253"
        },
        {
         "0": "2024-11-29 23:00:00",
         "1": "635599.813"
        },
        {
         "0": "2024-11-30 23:00:00",
         "1": "602998.5059999999"
        },
        {
         "0": "2024-12-01 23:00:00",
         "1": "706623.654"
        },
        {
         "0": "2024-12-02 23:00:00",
         "1": "723969.7949999999"
        },
        {
         "0": "2024-12-03 23:00:00",
         "1": "734364.706"
        },
        {
         "0": "2024-12-04 23:00:00",
         "1": "728801.51"
        },
        {
         "0": "2024-12-05 23:00:00",
         "1": "634824.166"
        },
        {
         "0": "2024-12-06 23:00:00",
         "1": "626467.275"
        },
        {
         "0": "2024-12-07 23:00:00",
         "1": "618675.6390000001"
        },
        {
         "0": "2024-12-08 23:00:00",
         "1": "728011.862"
        },
        {
         "0": "2024-12-09 23:00:00",
         "1": "781816.162"
        },
        {
         "0": "2024-12-10 23:00:00",
         "1": "809764.794"
        },
        {
         "0": "2024-12-11 23:00:00",
         "1": "805129.816"
        },
        {
         "0": "2024-12-12 23:00:00",
         "1": "785166.1749999999"
        },
        {
         "0": "2024-12-13 23:00:00",
         "1": "704963.9199999999"
        },
        {
         "0": "2024-12-14 23:00:00",
         "1": "672808.58"
        },
        {
         "0": "2024-12-15 23:00:00",
         "1": "783078.431"
        },
        {
         "0": "2024-12-16 23:00:00",
         "1": "796241.65"
        },
        {
         "0": "2024-12-17 23:00:00",
         "1": "781887.518"
        },
        {
         "0": "2024-12-18 23:00:00",
         "1": "770110.5"
        },
        {
         "0": "2024-12-19 23:00:00",
         "1": "744918.571"
        },
        {
         "0": "2024-12-20 23:00:00",
         "1": "674835.425"
        },
        {
         "0": "2024-12-21 23:00:00",
         "1": "642926.331"
        },
        {
         "0": "2024-12-22 23:00:00",
         "1": "691200.166"
        },
        {
         "0": "2024-12-23 23:00:00",
         "1": "643373.826"
        },
        {
         "0": "2024-12-24 23:00:00",
         "1": "547659.892"
        },
        {
         "0": "2024-12-25 23:00:00",
         "1": "643090.368"
        },
        {
         "0": "2024-12-26 23:00:00",
         "1": "676317.1849999999"
        },
        {
         "0": "2024-12-27 23:00:00",
         "1": "642123.436"
        },
        {
         "0": "2024-12-28 23:00:00",
         "1": "619731.254"
        },
        {
         "0": "2024-12-29 23:00:00",
         "1": "691951.268"
        },
        {
         "0": "2024-12-30 23:00:00",
         "1": "666939.189"
        },
        {
         "0": "2024-12-31 23:00:00",
         "1": "585758.356"
        },
        {
         "0": "2025-01-01 23:00:00",
         "1": "714465.546"
        },
        {
         "0": "2025-01-02 23:00:00",
         "1": "742865.957"
        },
        {
         "0": "2025-01-03 23:00:00",
         "1": "672482.0340000001"
        },
        {
         "0": "2025-01-04 23:00:00",
         "1": "637263.777"
        },
        {
         "0": "2025-01-05 23:00:00",
         "1": "612257.822"
        },
        {
         "0": "2025-01-06 23:00:00",
         "1": "760957.955"
        },
        {
         "0": "2025-01-07 23:00:00",
         "1": "785467.8319999999"
        },
        {
         "0": "2025-01-08 23:00:00",
         "1": "766846.137"
        },
        {
         "0": "2025-01-09 23:00:00",
         "1": "758005.192"
        },
        {
         "0": "2025-01-10 23:00:00",
         "1": "670216.9940000001"
        },
        {
         "0": "2025-01-11 23:00:00",
         "1": "628110.455"
        },
        {
         "0": "2025-01-12 23:00:00",
         "1": "771251.345"
        },
        {
         "0": "2025-01-13 23:00:00",
         "1": "811430.4890000001"
        },
        {
         "0": "2025-01-14 23:00:00",
         "1": "825359.048"
        },
        {
         "0": "2025-01-15 23:00:00",
         "1": "837483.186"
        },
        {
         "0": "2025-01-16 23:00:00",
         "1": "822721.3589999999"
        },
        {
         "0": "2025-01-17 23:00:00",
         "1": "721312.736"
        },
        {
         "0": "2025-01-18 23:00:00",
         "1": "685922.3250000001"
        },
        {
         "0": "2025-01-19 23:00:00",
         "1": "814552.21"
        },
        {
         "0": "2025-01-20 23:00:00",
         "1": "815987.064"
        },
        {
         "0": "2025-01-21 23:00:00",
         "1": "785966.042"
        },
        {
         "0": "2025-01-22 23:00:00",
         "1": "763259.491"
        },
        {
         "0": "2025-01-23 23:00:00",
         "1": "754081.589"
        },
        {
         "0": "2025-01-24 23:00:00",
         "1": "677266.8230000001"
        },
        {
         "0": "2025-01-25 23:00:00",
         "1": "639511.971"
        },
        {
         "0": "2025-01-26 23:00:00",
         "1": "745004.093"
        },
        {
         "0": "2025-01-27 23:00:00",
         "1": "775939.2270000001"
        },
        {
         "0": "2025-01-28 23:00:00",
         "1": "797071.729"
        },
        {
         "0": "2025-01-29 23:00:00",
         "1": "783504.054"
        },
        {
         "0": "2025-01-30 23:00:00",
         "1": "772458.374"
        },
        {
         "0": "2025-01-31 23:00:00",
         "1": "695262.6560000001"
        },
        {
         "0": "2025-02-01 23:00:00",
         "1": "658655.9319999999"
        },
        {
         "0": "2025-02-02 23:00:00",
         "1": "768698.699"
        },
        {
         "0": "2025-02-03 23:00:00",
         "1": "782397.11"
        },
        {
         "0": "2025-02-04 23:00:00",
         "1": "782127.238"
        },
        {
         "0": "2025-02-05 23:00:00",
         "1": "786178.9689999999"
        },
        {
         "0": "2025-02-06 23:00:00",
         "1": "795918.808"
        },
        {
         "0": "2025-02-07 23:00:00",
         "1": "689437.674"
        },
        {
         "0": "2025-02-08 23:00:00",
         "1": "646896.284"
        },
        {
         "0": "2025-02-09 23:00:00",
         "1": "757696.889"
        },
        {
         "0": "2025-02-10 23:00:00",
         "1": "765148.359"
        },
        {
         "0": "2025-02-11 23:00:00",
         "1": "773487.645"
        },
        {
         "0": "2025-02-12 23:00:00",
         "1": "756989.411"
        },
        {
         "0": "2025-02-13 23:00:00",
         "1": "735359.07"
        },
        {
         "0": "2025-02-14 23:00:00",
         "1": "663364.785"
        },
        {
         "0": "2025-02-15 23:00:00",
         "1": "611670.711"
        },
        {
         "0": "2025-02-16 23:00:00",
         "1": "714772.7459999999"
        },
        {
         "0": "2025-02-17 23:00:00",
         "1": "741284.583"
        },
        {
         "0": "2025-02-18 23:00:00",
         "1": "729215.551"
        },
        {
         "0": "2025-02-19 23:00:00",
         "1": "730614.179"
        },
        {
         "0": "2025-02-20 23:00:00",
         "1": "739439.6170000001"
        },
        {
         "0": "2025-02-21 23:00:00",
         "1": "654215.973"
        },
        {
         "0": "2025-02-22 23:00:00",
         "1": "607374.035"
        },
        {
         "0": "2025-02-23 23:00:00",
         "1": "721461.43"
        },
        {
         "0": "2025-02-24 23:00:00",
         "1": "746590.808"
        },
        {
         "0": "2025-02-25 23:00:00",
         "1": "729735.327"
        },
        {
         "0": "2025-02-26 23:00:00",
         "1": "743882.844"
        },
        {
         "0": "2025-02-27 23:00:00",
         "1": "728318.0839999999"
        },
        {
         "0": "2025-02-28 23:00:00",
         "1": "674483.307"
        },
        {
         "0": "2025-03-01 23:00:00",
         "1": "650419.3809999999"
        },
        {
         "0": "2025-03-02 23:00:00",
         "1": "754879.9029999999"
        },
        {
         "0": "2025-03-03 23:00:00",
         "1": "744723.331"
        },
        {
         "0": "2025-03-04 23:00:00",
         "1": "752392.417"
        },
        {
         "0": "2025-03-05 23:00:00",
         "1": "749862.961"
        },
        {
         "0": "2025-03-06 23:00:00",
         "1": "753338.3439999999"
        },
        {
         "0": "2025-03-07 23:00:00",
         "1": "671837.7119999999"
        },
        {
         "0": "2025-03-08 23:00:00",
         "1": "620753.27"
        },
        {
         "0": "2025-03-09 23:00:00",
         "1": "734459.4199999999"
        },
        {
         "0": "2025-03-10 23:00:00",
         "1": "747010.012"
        },
        {
         "0": "2025-03-11 23:00:00",
         "1": "739630.289"
        },
        {
         "0": "2025-03-12 23:00:00",
         "1": "763391.1120000001"
        },
        {
         "0": "2025-03-13 23:00:00",
         "1": "769352.874"
        },
        {
         "0": "2025-03-14 23:00:00",
         "1": "670467.1190000001"
        },
        {
         "0": "2025-03-15 23:00:00",
         "1": "639603.6390000001"
        },
        {
         "0": "2025-03-16 23:00:00",
         "1": "762324.812"
        },
        {
         "0": "2025-03-17 23:00:00",
         "1": "770519.114"
        },
        {
         "0": "2025-03-18 23:00:00",
         "1": "732814.2880000001"
        },
        {
         "0": "2025-03-19 23:00:00",
         "1": "749068.125"
        },
        {
         "0": "2025-03-20 23:00:00",
         "1": "741479.535"
        },
        {
         "0": "2025-03-21 23:00:00",
         "1": "654834.698"
        },
        {
         "0": "2025-03-22 23:00:00",
         "1": "623642.882"
        },
        {
         "0": "2025-03-23 23:00:00",
         "1": "731457.5109999999"
        },
        {
         "0": "2025-03-24 23:00:00",
         "1": "733307.6680000001"
        },
        {
         "0": "2025-03-25 23:00:00",
         "1": "717339.4"
        },
        {
         "0": "2025-03-26 23:00:00",
         "1": "707588.1329999999"
        },
        {
         "0": "2025-03-27 23:00:00",
         "1": "689624.16"
        },
        {
         "0": "2025-03-28 23:00:00",
         "1": "611231.966"
        },
        {
         "0": "2025-03-29 23:00:00",
         "1": "544048.687"
        },
        {
         "0": "2025-03-30 22:00:00",
         "1": "661152.505"
        },
        {
         "0": "2025-03-31 22:00:00",
         "1": "675230.1510000001"
        },
        {
         "0": "2025-04-01 22:00:00",
         "1": "702814.532"
        },
        {
         "0": "2025-04-02 22:00:00",
         "1": "718043.86"
        },
        {
         "0": "2025-04-03 22:00:00",
         "1": "707451.0040000001"
        },
        {
         "0": "2025-04-04 22:00:00",
         "1": "612647.0340000001"
        },
        {
         "0": "2025-04-05 22:00:00",
         "1": "562616.247"
        },
        {
         "0": "2025-04-06 22:00:00",
         "1": "657998.4920000001"
        },
        {
         "0": "2025-04-07 22:00:00",
         "1": "664806.247"
        },
        {
         "0": "2025-04-08 22:00:00",
         "1": "664555.9959999999"
        },
        {
         "0": "2025-04-09 22:00:00",
         "1": "668551.656"
        },
        {
         "0": "2025-04-10 22:00:00",
         "1": "680809.6599999999"
        },
        {
         "0": "2025-04-11 22:00:00",
         "1": "615338.1950000001"
        },
        {
         "0": "2025-04-12 22:00:00",
         "1": "565970.974"
        },
        {
         "0": "2025-04-13 22:00:00",
         "1": "662588.8150000001"
        },
        {
         "0": "2025-04-14 22:00:00",
         "1": "681492.768"
        },
        {
         "0": "2025-04-15 22:00:00",
         "1": "672839.852"
        },
        {
         "0": "2025-04-16 22:00:00",
         "1": "591682.809"
        },
        {
         "0": "2025-04-17 22:00:00",
         "1": "552081.627"
        },
        {
         "0": "2025-04-18 22:00:00",
         "1": "567113.966"
        },
        {
         "0": "2025-04-19 22:00:00",
         "1": "545370.878"
        },
        {
         "0": "2025-04-20 22:00:00",
         "1": "595292.834"
        },
        {
         "0": "2025-04-21 22:00:00",
         "1": "666307.7559999999"
        },
        {
         "0": "2025-04-22 22:00:00",
         "1": "652382.2559999999"
        },
        {
         "0": "2025-04-23 22:00:00",
         "1": "654250.814"
        },
        {
         "0": "2025-04-24 22:00:00",
         "1": "657151.764"
        },
        {
         "0": "2025-04-25 22:00:00",
         "1": "586474.713"
        },
        {
         "0": "2025-04-26 22:00:00",
         "1": "541366.195"
        },
        {
         "0": "2025-04-27 22:00:00",
         "1": "402793.823"
        },
        {
         "0": "2025-04-28 22:00:00",
         "1": "589251.91"
        },
        {
         "0": "2025-04-29 22:00:00",
         "1": "643319.808"
        },
        {
         "0": "2025-04-30 22:00:00",
         "1": "544130.991"
        },
        {
         "0": "2025-05-01 22:00:00",
         "1": "590369.352"
        },
        {
         "0": "2025-05-02 22:00:00",
         "1": "559765.343"
        },
        {
         "0": "2025-05-03 22:00:00",
         "1": "532649.4739999999"
        },
        {
         "0": "2025-05-04 22:00:00",
         "1": "647689.6140000001"
        },
        {
         "0": "2025-05-05 22:00:00",
         "1": "656655.351"
        },
        {
         "0": "2025-05-06 22:00:00",
         "1": "657107.672"
        },
        {
         "0": "2025-05-07 22:00:00",
         "1": "667895.552"
        },
        {
         "0": "2025-05-08 22:00:00",
         "1": "665557.155"
        },
        {
         "0": "2025-05-09 22:00:00",
         "1": "589538.87"
        },
        {
         "0": "2025-05-10 22:00:00",
         "1": "544249.49"
        },
        {
         "0": "2025-05-11 22:00:00",
         "1": "642108.98"
        },
        {
         "0": "2025-05-12 22:00:00",
         "1": "658938.1479999999"
        },
        {
         "0": "2025-05-13 22:00:00",
         "1": "671093.495"
        },
        {
         "0": "2025-05-14 22:00:00",
         "1": "657266.689"
        },
        {
         "0": "2025-05-15 22:00:00",
         "1": "647192.257"
        },
        {
         "0": "2025-05-16 22:00:00",
         "1": "569652.2459999999"
        },
        {
         "0": "2025-05-17 22:00:00",
         "1": "533883.713"
        },
        {
         "0": "2025-05-18 22:00:00",
         "1": "640865.541"
        },
        {
         "0": "2025-05-19 22:00:00",
         "1": "650089.456"
        },
        {
         "0": "2025-05-20 22:00:00",
         "1": "662125.639"
        },
        {
         "0": "2025-05-21 22:00:00",
         "1": "666586.2520000001"
        },
        {
         "0": "2025-05-22 22:00:00",
         "1": "657782.137"
        },
        {
         "0": "2025-05-23 22:00:00",
         "1": "570503.738"
        },
        {
         "0": "2025-05-24 22:00:00",
         "1": "537047.343"
        },
        {
         "0": "2025-05-25 22:00:00",
         "1": "651835.1259999999"
        },
        {
         "0": "2025-05-26 22:00:00",
         "1": "668794.347"
        },
        {
         "0": "2025-05-27 22:00:00",
         "1": "687286.057"
        },
        {
         "0": "2025-05-28 22:00:00",
         "1": "702624.751"
        },
        {
         "0": "2025-05-29 22:00:00",
         "1": "712626.963"
        },
        {
         "0": "2025-05-30 22:00:00",
         "1": "639111.8600000001"
        },
        {
         "0": "2025-05-31 22:00:00",
         "1": "601715.527"
        },
        {
         "0": "2025-06-01 22:00:00",
         "1": "709168.185"
        },
        {
         "0": "2025-06-02 22:00:00",
         "1": "702449.951"
        },
        {
         "0": "2025-06-03 22:00:00",
         "1": "695859.4940000001"
        },
        {
         "0": "2025-06-04 22:00:00",
         "1": "700091.773"
        },
        {
         "0": "2025-06-05 22:00:00",
         "1": "702656.953"
        },
        {
         "0": "2025-06-06 22:00:00",
         "1": "630147.533"
        },
        {
         "0": "2025-06-07 22:00:00",
         "1": "598127.953"
        },
        {
         "0": "2025-06-08 22:00:00",
         "1": "711113.337"
        },
        {
         "0": "2025-06-09 22:00:00",
         "1": "754864.002"
        },
        {
         "0": "2025-06-10 22:00:00",
         "1": "753117.267"
        },
        {
         "0": "2025-06-11 22:00:00",
         "1": "735340.8840000001"
        },
        {
         "0": "2025-06-12 22:00:00",
         "1": "741526.354"
        },
        {
         "0": "2025-06-13 22:00:00",
         "1": "662903.447"
        },
        {
         "0": "2025-06-14 22:00:00",
         "1": "627311.877"
        },
        {
         "0": "2025-06-15 22:00:00",
         "1": "756054.464"
        },
        {
         "0": "2025-06-16 22:00:00",
         "1": "789828.944"
        },
        {
         "0": "2025-06-17 22:00:00",
         "1": "798967.07"
        },
        {
         "0": "2025-06-18 22:00:00",
         "1": "800574.825"
        },
        {
         "0": "2025-06-19 22:00:00",
         "1": "799258.969"
        },
        {
         "0": "2025-06-20 22:00:00",
         "1": "716897.747"
        },
        {
         "0": "2025-06-21 22:00:00",
         "1": "668428.49"
        },
        {
         "0": "2025-06-22 22:00:00",
         "1": "769061.04"
        },
        {
         "0": "2025-06-23 22:00:00",
         "1": "756594.892"
        },
        {
         "0": "2025-06-24 22:00:00",
         "1": "779466.217"
        },
        {
         "0": "2025-06-25 22:00:00",
         "1": "789748.7829999999"
        },
        {
         "0": "2025-06-26 22:00:00",
         "1": "805787.032"
        },
        {
         "0": "2025-06-27 22:00:00",
         "1": "736128.1329999999"
        },
        {
         "0": "2025-06-28 22:00:00",
         "1": "706443.8350000001"
        },
        {
         "0": "2025-06-29 22:00:00",
         "1": "836693.368"
        },
        {
         "0": "2025-06-30 22:00:00",
         "1": "854746.731"
        },
        {
         "0": "2025-07-01 22:00:00",
         "1": "858321.025"
        },
        {
         "0": "2025-07-02 22:00:00",
         "1": "854876.099"
        },
        {
         "0": "2025-07-03 22:00:00",
         "1": "839666.602"
        },
        {
         "0": "2025-07-04 22:00:00",
         "1": "743698.5360000001"
        },
        {
         "0": "2025-07-05 22:00:00",
         "1": "686715.799"
        },
        {
         "0": "2025-07-06 22:00:00",
         "1": "800566.166"
        },
        {
         "0": "2025-07-07 22:00:00",
         "1": "792709.0419999999"
        },
        {
         "0": "2025-07-08 22:00:00",
         "1": "807464.4500000001"
        },
        {
         "0": "2025-07-09 22:00:00",
         "1": "802452.33"
        },
        {
         "0": "2025-07-10 22:00:00",
         "1": "786370.4859999999"
        },
        {
         "0": "2025-07-11 22:00:00",
         "1": "669986.189"
        },
        {
         "0": "2025-07-12 22:00:00",
         "1": "613694.4839999999"
        },
        {
         "0": "2025-07-13 22:00:00",
         "1": "760878.4789999999"
        },
        {
         "0": "2025-07-14 22:00:00",
         "1": "795568.322"
        },
        {
         "0": "2025-07-15 22:00:00",
         "1": "814866.642"
        },
        {
         "0": "2025-07-16 22:00:00",
         "1": "837800.239"
        },
        {
         "0": "2025-07-17 22:00:00",
         "1": "819227.172"
        },
        {
         "0": "2025-07-18 22:00:00",
         "1": "709909.227"
        },
        {
         "0": "2025-07-19 22:00:00",
         "1": "658132.169"
        },
        {
         "0": "2025-07-20 22:00:00",
         "1": "756552.8740000001"
        },
        {
         "0": "2025-07-21 22:00:00",
         "1": "773341.769"
        },
        {
         "0": "2025-07-22 22:00:00",
         "1": "787412.0889999999"
        },
        {
         "0": "2025-07-23 22:00:00",
         "1": "747061.1760000001"
        },
        {
         "0": "2025-07-24 22:00:00",
         "1": "689336.8049999999"
        },
        {
         "0": "2025-07-25 22:00:00",
         "1": "642859.003"
        },
        {
         "0": "2025-07-26 22:00:00",
         "1": "620165.98"
        },
        {
         "0": "2025-07-27 22:00:00",
         "1": "733905.08"
        },
        {
         "0": "2025-07-28 22:00:00",
         "1": "728386.8319999999"
        },
        {
         "0": "2025-07-29 22:00:00",
         "1": "734406.966"
        },
        {
         "0": "2025-07-30 22:00:00",
         "1": "733665.9180000001"
        },
        {
         "0": "2025-07-31 22:00:00",
         "1": "735215.146"
        },
        {
         "0": "2025-08-01 22:00:00",
         "1": "666900.986"
        },
        {
         "0": "2025-08-02 22:00:00",
         "1": "629350.879"
        },
        {
         "0": "2025-08-03 22:00:00",
         "1": "734260.0519999999"
        },
        {
         "0": "2025-08-04 22:00:00",
         "1": "732442.5920000001"
        },
        {
         "0": "2025-08-05 22:00:00",
         "1": "735761.89"
        },
        {
         "0": "2025-08-06 22:00:00",
         "1": "754954.074"
        },
        {
         "0": "2025-08-07 22:00:00",
         "1": "754222.39"
        },
        {
         "0": "2025-08-08 22:00:00",
         "1": "694479.628"
        },
        {
         "0": "2025-08-09 22:00:00",
         "1": "663062.1359999999"
        },
        {
         "0": "2025-08-10 22:00:00",
         "1": "768568.115"
        },
        {
         "0": "2025-08-11 22:00:00",
         "1": "787867.709"
        },
        {
         "0": "2025-08-12 22:00:00",
         "1": "782572.407"
        },
        {
         "0": "2025-08-13 22:00:00",
         "1": "766926.963"
        },
        {
         "0": "2025-08-14 22:00:00",
         "1": "693307.733"
        },
        {
         "0": "2025-08-15 22:00:00",
         "1": "710429.481"
        },
        {
         "0": "2025-08-16 22:00:00",
         "1": "696309.331"
        },
        {
         "0": "2025-08-17 22:00:00",
         "1": "788078.275"
        },
        {
         "0": "2025-08-18 22:00:00",
         "1": "761818.185"
        },
        {
         "0": "2025-08-19 22:00:00",
         "1": "725201.018"
        },
        {
         "0": "2025-08-20 22:00:00",
         "1": "706263.735"
        },
        {
         "0": "2025-08-21 22:00:00",
         "1": "696314.799"
        },
        {
         "0": "2025-08-22 22:00:00",
         "1": "646496.318"
        },
        {
         "0": "2025-08-23 22:00:00",
         "1": "619006.2880000001"
        },
        {
         "0": "2025-08-24 22:00:00",
         "1": "734880.981"
        },
        {
         "0": "2025-08-25 22:00:00",
         "1": "766602.674"
        },
        {
         "0": "2025-08-26 22:00:00",
         "1": "773052.1710000001"
        },
        {
         "0": "2025-08-27 22:00:00",
         "1": "735668.216"
        },
        {
         "0": "2025-08-28 22:00:00",
         "1": "705908.335"
        },
        {
         "0": "2025-08-29 22:00:00",
         "1": "642174.101"
        },
        {
         "0": "2025-08-30 22:00:00",
         "1": "610069.0"
        },
        {
         "0": "2025-08-31 22:00:00",
         "1": "692838.22"
        },
        {
         "0": "2025-09-01 22:00:00",
         "1": "701064.827"
        },
        {
         "0": "2025-09-02 22:00:00",
         "1": "721747.511"
        },
        {
         "0": "2025-09-03 22:00:00",
         "1": "737408.017"
        },
        {
         "0": "2025-09-04 22:00:00",
         "1": "730503.251"
        },
        {
         "0": "2025-09-05 22:00:00",
         "1": "659274.093"
        },
        {
         "0": "2025-09-06 22:00:00",
         "1": "635954.784"
        },
        {
         "0": "2025-09-07 22:00:00",
         "1": "731917.347"
        },
        {
         "0": "2025-09-08 22:00:00",
         "1": "726889.2270000001"
        },
        {
         "0": "2025-09-09 22:00:00",
         "1": "718718.834"
        },
        {
         "0": "2025-09-10 22:00:00",
         "1": "705260.931"
        },
        {
         "0": "2025-09-11 22:00:00",
         "1": "716351.873"
        },
        {
         "0": "2025-09-12 22:00:00",
         "1": "647016.846"
        },
        {
         "0": "2025-09-13 22:00:00",
         "1": "608005.865"
        },
        {
         "0": "2025-09-14 22:00:00",
         "1": "733234.1089999999"
        },
        {
         "0": "2025-09-15 22:00:00",
         "1": "758382.843"
        },
        {
         "0": "2025-09-16 22:00:00",
         "1": "772668.267"
        },
        {
         "0": "2025-09-17 22:00:00",
         "1": "774425.085"
        },
        {
         "0": "2025-09-18 22:00:00",
         "1": "766698.167"
        },
        {
         "0": "2025-09-19 22:00:00",
         "1": "671181.6329999999"
        },
        {
         "0": "2025-09-20 22:00:00",
         "1": "605562.076"
        },
        {
         "0": "2025-09-21 22:00:00",
         "1": "657561.3049999999"
        },
        {
         "0": "2025-09-22 22:00:00",
         "1": "665721.6769999999"
        },
        {
         "0": "2025-09-23 22:00:00",
         "1": "661828.724"
        },
        {
         "0": "2025-09-24 22:00:00",
         "1": "677033.4149999999"
        },
        {
         "0": "2025-09-25 22:00:00",
         "1": "676242.298"
        },
        {
         "0": "2025-09-26 22:00:00",
         "1": "605167.5310000001"
        },
        {
         "0": "2025-09-27 22:00:00",
         "1": "566024.112"
        },
        {
         "0": "2025-09-28 22:00:00",
         "1": "658304.038"
        },
        {
         "0": "2025-09-29 22:00:00",
         "1": "673920.441"
        },
        {
         "0": "2025-09-30 22:00:00",
         "1": "696460.317"
        },
        {
         "0": "2025-10-01 22:00:00",
         "1": "678324.0740000001"
        },
        {
         "0": "2025-10-02 22:00:00",
         "1": "683131.6400000001"
        },
        {
         "0": "2025-10-04 22:00:00",
         "1": "551765.013"
        },
        {
         "0": "2025-10-05 22:00:00",
         "1": "1329141.033"
        },
        {
         "0": "2025-10-06 22:00:00",
         "1": "683230.635"
        },
        {
         "0": "2025-10-07 22:00:00",
         "1": "683417.4689999999"
        }
       ],
       "schema": [
        {
         "key": "0",
         "name": "datetime",
         "type": "timestamp"
        },
        {
         "key": "1",
         "name": "total_demanda",
         "type": "double"
        }
       ],
       "truncated": false
      },
      "wranglerEntryContext": {
       "candidateVariableNames": [
        "df_grouped"
       ],
       "dataframeType": "pyspark"
      }
     },
     "type": "Synapse.DataFrame"
    },
    "e43159bb-97db-4ed0-a4e7-fb9bbe2266a8": {
     "persist_state": {
      "view": {
       "chartOptions": {
        "aggregationType": "sum",
        "binsNumber": 10,
        "categoryFieldKeys": [],
        "chartType": "bar",
        "isStacked": false,
        "seriesFieldKeys": [],
        "wordFrequency": "-1"
       },
       "tableOptions": {},
       "type": "details",
       "viewOptionsGroup": [
        {
         "tabItems": [
          {
           "key": "0",
           "name": "Table",
           "options": {},
           "type": "table"
          }
         ]
        }
       ]
      }
     },
     "sync_state": {
      "isSummary": false,
      "language": "scala",
      "table": {
       "rows": [
        {
         "0": "8743",
         "1": "Islas Baleares",
         "2": "baleares",
         "3": "day",
         "4": "Demanda",
         "5": "10297",
         "6": "Demanda",
         "7": "#ffea00",
         "8": "false",
         "9": "2025-01-29T07:59:00+00:00",
         "10": "2023-12-29 23:00:00",
         "11": "13997.624",
         "12": "1.0",
         "13": "2025-10-02 09:46:30.187097"
        },
        {
         "0": "8743",
         "1": "Islas Baleares",
         "2": "baleares",
         "3": "day",
         "4": "Demanda",
         "5": "10297",
         "6": "Demanda",
         "7": "#ffea00",
         "8": "false",
         "9": "2025-01-29T07:59:00+00:00",
         "10": "2024-04-29 22:00:00",
         "11": "15943.792",
         "12": "1.0",
         "13": "2025-10-02 09:46:30.187097"
        },
        {
         "0": "8743",
         "1": "Islas Baleares",
         "2": "baleares",
         "3": "day",
         "4": "Demanda",
         "5": "10297",
         "6": "Demanda",
         "7": "#ffea00",
         "8": "false",
         "9": "2025-08-14T12:58:18+00:00",
         "10": "2025-05-14 22:00:00",
         "11": "15268.881",
         "12": "1.0",
         "13": "2025-10-01 10:58:54.254351"
        },
        {
         "0": "8743",
         "1": "Islas Baleares",
         "2": "baleares",
         "3": "day",
         "4": "Demanda",
         "5": "10297",
         "6": "Demanda",
         "7": "#ffea00",
         "8": "false",
         "9": "2025-08-14T12:58:18+00:00",
         "10": "2025-09-12 22:00:00",
         "11": "20409.096",
         "12": "1.0",
         "13": "2025-10-01 10:58:54.254351"
        },
        {
         "0": "8745",
         "1": "Comunidad de Melilla",
         "2": "melilla",
         "3": "day",
         "4": "Demanda",
         "5": "10297",
         "6": "Demanda",
         "7": "#ffea00",
         "8": "false",
         "9": "2025-01-29T07:59:00+00:00",
         "10": "2023-11-24 23:00:00",
         "11": "493.277",
         "12": "1.0",
         "13": "2025-10-02 09:46:44.163832"
        }
       ],
       "schema": [
        {
         "key": "0",
         "name": "geo_id",
         "type": "bigint"
        },
        {
         "key": "1",
         "name": "geo_name",
         "type": "string"
        },
        {
         "key": "2",
         "name": "geo_limit",
         "type": "string"
        },
        {
         "key": "3",
         "name": "time_trunc",
         "type": "string"
        },
        {
         "key": "4",
         "name": "series_type",
         "type": "string"
        },
        {
         "key": "5",
         "name": "series_id",
         "type": "string"
        },
        {
         "key": "6",
         "name": "series_title",
         "type": "string"
        },
        {
         "key": "7",
         "name": "series_color",
         "type": "string"
        },
        {
         "key": "8",
         "name": "is_composite",
         "type": "boolean"
        },
        {
         "key": "9",
         "name": "series_last_update",
         "type": "string"
        },
        {
         "key": "10",
         "name": "datetime",
         "type": "timestamp"
        },
        {
         "key": "11",
         "name": "value",
         "type": "double"
        },
        {
         "key": "12",
         "name": "percentage",
         "type": "double"
        },
        {
         "key": "13",
         "name": "ingestion_timestamp",
         "type": "timestamp"
        }
       ],
       "truncated": false
      },
      "wranglerEntryContext": {
       "dataframeType": "pyspark"
      }
     },
     "type": "Synapse.DataFrame"
    }
   },
   "version": "0.1"
  }
 },
 "nbformat": 4,
 "nbformat_minor": 5
}
