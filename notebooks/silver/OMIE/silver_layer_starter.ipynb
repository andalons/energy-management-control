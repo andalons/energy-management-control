{
 "cells": [
  {
   "cell_type": "markdown",
   "id": "ed433fcf",
   "metadata": {},
   "source": [
    "# OMIE Silver Layer Data Processing for Microsoft Fabric\n",
    "\n",
    "This notebook transforms Bronze layer OMIE data into clean, enriched Silver layer datasets following Medallion architecture principles.\n",
    "\n",
    "## Silver Layer Objectives\n",
    "- **Clean**: Remove duplicates, handle nulls, fix anomalies\n",
    "- **Standardize**: Consistent formats, units, and schemas  \n",
    "- **Enrich**: Add calculated fields and classifications\n",
    "- **Validate**: Apply business rules and quality checks\n",
    "- **Integrate**: Combine data sources into unified models\n",
    "\n",
    "## Data Flow\n",
    "**Bronze** → **Silver** → Gold\n",
    "- Bronze: Raw OMIE files organized by year (2023, 2024, 2025)\n",
    "- Silver: Cleaned and enriched datasets\n",
    "- Gold: Aggregated tables for Power BI\n",
    "\n",
    "## Key Transformations\n",
    "1. **Data Quality**: Anomaly detection, null handling\n",
    "2. **Energy Classifications**: Renewable vs conventional technology mapping\n",
    "3. **Temporal Features**: Hour/day/season enrichment\n",
    "4. **Carbon Metrics**: CO2 emissions calculation\n",
    "5. **Market Indicators**: Price volatility, renewable penetration"
   ]
  },
  {
   "cell_type": "code",
   "execution_count": null,
   "id": "299255b3",
   "metadata": {},
   "outputs": [],
   "source": [
    "# Install required packages if not available\n",
    "import sys\n",
    "import subprocess\n",
    "import importlib\n",
    "\n",
    "reqs = ['pandas', 'numpy', 'pyarrow', 'matplotlib', 'seaborn']\n",
    "missing = [p for p in reqs if importlib.util.find_spec(p) is None]\n",
    "if missing:\n",
    "    print('Installing missing packages:', missing)\n",
    "    subprocess.check_call([sys.executable, '-m', 'pip', 'install', *missing])\n",
    "    print('Installed packages successfully')\n",
    "else:\n",
    "    print('All required packages are already installed')"
   ]
  },
  {
   "cell_type": "code",
   "execution_count": null,
   "id": "f21f9acf",
   "metadata": {},
   "outputs": [],
   "source": [
    "# Import required libraries\n",
    "import pandas as pd\n",
    "import numpy as np\n",
    "from pathlib import Path\n",
    "import matplotlib.pyplot as plt\n",
    "import seaborn as sns\n",
    "from datetime import datetime, timedelta\n",
    "import warnings\n",
    "warnings.filterwarnings('ignore')\n",
    "\n",
    "# PySpark for Fabric environment\n",
    "try:\n",
    "    from pyspark.sql import SparkSession\n",
    "    from pyspark.sql.functions import *\n",
    "    from pyspark.sql.types import *\n",
    "    spark = SparkSession.builder.getOrCreate()\n",
    "    print('✅ SparkSession available - using Fabric environment')\n",
    "    USE_SPARK = True\n",
    "except Exception as e:\n",
    "    print('⚠️ PySpark not available - using pandas for local processing')\n",
    "    USE_SPARK = False\n",
    "\n",
    "# Configuration\n",
    "pd.set_option('display.max_columns', None)\n",
    "pd.set_option('display.width', None)\n",
    "plt.style.use('default')\n",
    "sns.set_palette('husl')\n",
    "\n",
    "print(f'🐍 Python version: {sys.version.split()[0]}')\n",
    "print(f'🐼 Pandas version: {pd.__version__}')\n",
    "print(f'📊 Processing mode: {\"Spark\" if USE_SPARK else \"Pandas\"}')"
   ]
  }
 ],
 "metadata": {
  "language_info": {
   "name": "python"
  }
 },
 "nbformat": 4,
 "nbformat_minor": 5
}
