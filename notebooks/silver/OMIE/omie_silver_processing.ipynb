{
 "cells": [
  {
   "cell_type": "code",
   "execution_count": null,
   "id": "435c2bd5",
   "metadata": {},
   "outputs": [],
   "source": [
    "# OMIE Silver Layer Data Processing for Microsoft Fabric\n",
    "\n",
    "This notebook transforms Bronze layer OMIE data into clean, enriched Silver layer datasets following Medallion architecture principles.\n",
    "\n",
    "## Silver Layer Objectives\n",
    "- **Clean**: Remove duplicates, handle nulls, fix anomalies\n",
    "- **Standardize**: Consistent formats, units, and schemas  \n",
    "- **Enrich**: Add calculated fields and classifications\n",
    "- **Validate**: Apply business rules and quality checks\n",
    "- **Integrate**: Combine data sources into unified models\n",
    "\n",
    "## Data Flow\n",
    "**Bronze** → **Silver** → Gold\n",
    "- Bronze: Raw OMIE files (by year)\n",
    "- Silver: Cleaned and enriched datasets\n",
    "- Gold: Aggregated tables for Power BI\n",
    "\n",
    "## Key Transformations\n",
    "1. **Data Quality**: Anomaly detection, null handling\n",
    "2. **Energy Classifications**: Renewable vs conventional technology mapping\n",
    "3. **Temporal Features**: Hour/day/season enrichment\n",
    "4. **Carbon Metrics**: CO2 emissions calculation\n",
    "5. **Market Indicators**: Price volatility, renewable penetration"
   ]
  }
 ],
 "metadata": {
  "language_info": {
   "name": "python"
  }
 },
 "nbformat": 4,
 "nbformat_minor": 5
}
