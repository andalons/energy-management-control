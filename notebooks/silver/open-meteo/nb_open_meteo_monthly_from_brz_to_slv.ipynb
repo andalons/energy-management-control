{
 "cells": [
  {
   "cell_type": "code",
   "execution_count": 11,
   "id": "1ce19b8e-b3c0-4f95-b8ee-19cce9381d70",
   "metadata": {
    "microsoft": {
     "language": "python",
     "language_group": "synapse_pyspark"
    }
   },
   "outputs": [
    {
     "data": {
      "application/vnd.livy.statement-meta+json": {
       "execution_finish_time": "2025-10-10T15:28:53.3970644Z",
       "execution_start_time": "2025-10-10T15:28:13.9771759Z",
       "livy_statement_state": "available",
       "normalized_state": "finished",
       "parent_msg_id": "ca88e00e-0c6c-4980-a3b9-2dada0f5d57d",
       "queued_time": "2025-10-10T15:28:13.9758641Z",
       "session_id": "018b44f4-ac57-4c77-a25a-5f4a2cff19cb",
       "session_start_time": null,
       "spark_pool": null,
       "state": "finished",
       "statement_id": 13,
       "statement_ids": [
        13
       ]
      },
      "text/plain": [
       "StatementMeta(, 018b44f4-ac57-4c77-a25a-5f4a2cff19cb, 13, Finished, Available, Finished)"
      ]
     },
     "metadata": {},
     "output_type": "display_data"
    }
   ],
   "source": [
    "from pyspark.sql import SparkSession\n",
    "from pyspark.sql.functions import lit\n",
    "import re\n",
    "\n",
    "spark = SparkSession.builder.getOrCreate()\n",
    "\n",
    "# listamos todas las tablas en lh_bronze\n",
    "all_tables = spark.catalog.listTables(\"lh_bronze\")\n",
    "\n",
    "# filtramos con regex: brz_open_meteo_*_mensual\n",
    "pattern = r\"^brz_open_meteo_.*_mensual$\"\n",
    "matched_tables = [t.name for t in all_tables if re.match(pattern, t.name)]\n",
    "\n",
    "# mapeo regex -> geo_name\n",
    "geo_map = {\n",
    "    \"andalucia\": \"Andalucía\",\n",
    "    \"aragon\": \"Aragón\",\n",
    "    \"asturias\": \"Principado de Asturias\",\n",
    "    \"baleares\": \"Islas Baleares\",\n",
    "    \"canarias\": \"Islas Canarias\",\n",
    "    \"cantabria\": \"Cantabria\",\n",
    "    \"castilla_la_mancha\": \"Castilla-La Mancha\",\n",
    "    \"castilla_leon\": \"Castilla y León\",\n",
    "    \"cataluna\": \"Cataluña\",\n",
    "    \"ceuta\": \"Comunidad de Ceuta\",\n",
    "    \"extremadura\": \"Extremadura\",\n",
    "    \"galicia\": \"Galicia\",\n",
    "    \"madrid\": \"Comunidad de Madrid\",\n",
    "    \"melilla\": \"Comunidad de Melilla\",\n",
    "    \"murcia\": \"Región de Murcia\",\n",
    "    \"navarra\": \"Comunidad de Navarra\",\n",
    "    \"pais_vasco\": \"País Vasco\",\n",
    "    \"peninsula\": \"Península\",\n",
    "    \"rioja\": \"La Rioja\",\n",
    "    \"valencia\": \"Comunidad Valenciana\"\n",
    "}\n",
    "\n",
    "# listamos límites geográficos\n",
    "geo_limits = [\"peninsular\", \"canarias\", \"baleares\", \"ceuta\", \"melilla\"]\n",
    "\n",
    "# función auxiliar para extraer geo_name desde nombre de tabla\n",
    "def extract_geo_name_from_table_name(table_name):\n",
    "    for key in geo_map:\n",
    "        if key in table_name.lower():\n",
    "            return geo_map[key]\n",
    "    return \"Desconocido\"\n",
    "\n",
    "# función auxiliar para determinar geo_limit\n",
    "def extract_geo_limit_from_table_name(table_name):\n",
    "    name_lower = table_name.lower()\n",
    "    for limit in geo_limits:\n",
    "        if limit in name_lower:\n",
    "            return limit\n",
    "    # Si no se encuentra, asumimos \"peninsular\" por defecto\n",
    "    return \"peninsular\"\n",
    "\n",
    "# leer, agregar geo_name y geo_limit, luego unir todo\n",
    "df_union = None\n",
    "\n",
    "for table in matched_tables:\n",
    "    df = spark.read.table(f\"lh_bronze.{table}\")\n",
    "    geo_name = extract_geo_name_from_table_name(table)\n",
    "    geo_limit = extract_geo_limit_from_table_name(table)\n",
    "    \n",
    "    df = df.withColumn(\"geo_name\", lit(geo_name)) \\\n",
    "           .withColumn(\"geo_limit\", lit(geo_limit))\n",
    "    \n",
    "    if df_union is None:\n",
    "        df_union = df\n",
    "    else:\n",
    "        df_union = df_union.unionByName(df)"
   ]
  },
  {
   "cell_type": "code",
   "execution_count": 12,
   "id": "9be08818-3854-4f2f-a30f-71759e6bbe6e",
   "metadata": {
    "collapsed": false,
    "microsoft": {
     "language": "python",
     "language_group": "synapse_pyspark"
    }
   },
   "outputs": [
    {
     "data": {
      "application/vnd.livy.statement-meta+json": {
       "execution_finish_time": "2025-10-10T15:29:56.4692337Z",
       "execution_start_time": "2025-10-10T15:29:45.8835735Z",
       "livy_statement_state": "available",
       "normalized_state": "finished",
       "parent_msg_id": "640bf2eb-aad7-4418-a5b0-e54183f53d93",
       "queued_time": "2025-10-10T15:29:45.8823978Z",
       "session_id": "018b44f4-ac57-4c77-a25a-5f4a2cff19cb",
       "session_start_time": null,
       "spark_pool": null,
       "state": "finished",
       "statement_id": 14,
       "statement_ids": [
        14
       ]
      },
      "text/plain": [
       "StatementMeta(, 018b44f4-ac57-4c77-a25a-5f4a2cff19cb, 14, Finished, Available, Finished)"
      ]
     },
     "metadata": {},
     "output_type": "display_data"
    },
    {
     "data": {
      "application/vnd.synapse.widget-view+json": {
       "widget_id": "a77c7c41-970c-4a12-910c-76be3329228a",
       "widget_type": "Synapse.DataFrame"
      },
      "text/plain": [
       "SynapseWidget(Synapse.DataFrame, a77c7c41-970c-4a12-910c-76be3329228a)"
      ]
     },
     "metadata": {},
     "output_type": "display_data"
    },
    {
     "name": "stdout",
     "output_type": "stream",
     "text": [
      "Total de filas iniciales: 684\n"
     ]
    }
   ],
   "source": [
    "# un display inicial\n",
    "display(df_union.limit(5))\n",
    "print(f\"Total de filas iniciales: {df_union.count():,}\")"
   ]
  },
  {
   "cell_type": "code",
   "execution_count": 13,
   "id": "e257f361-6d32-4242-bc47-ce5dfda41097",
   "metadata": {
    "microsoft": {
     "language": "python",
     "language_group": "synapse_pyspark"
    }
   },
   "outputs": [
    {
     "data": {
      "application/vnd.livy.statement-meta+json": {
       "execution_finish_time": "2025-10-10T15:30:01.4552391Z",
       "execution_start_time": "2025-10-10T15:30:00.7791433Z",
       "livy_statement_state": "available",
       "normalized_state": "finished",
       "parent_msg_id": "faf8960b-63b2-4272-8970-dea29cc0e7bf",
       "queued_time": "2025-10-10T15:30:00.7780031Z",
       "session_id": "018b44f4-ac57-4c77-a25a-5f4a2cff19cb",
       "session_start_time": null,
       "spark_pool": null,
       "state": "finished",
       "statement_id": 15,
       "statement_ids": [
        15
       ]
      },
      "text/plain": [
       "StatementMeta(, 018b44f4-ac57-4c77-a25a-5f4a2cff19cb, 15, Finished, Available, Finished)"
      ]
     },
     "metadata": {},
     "output_type": "display_data"
    },
    {
     "name": "stdout",
     "output_type": "stream",
     "text": [
      "['region', 'year', 'month', 'temperature_2m_max', 'temperature_2m_min', 'temperature_2m_mean', 'precipitation_sum', 'wind_speed_10m_max', 'ingestion_date', 'geo_name', 'geo_limit']\n"
     ]
    }
   ],
   "source": [
    "print(df_union.columns)"
   ]
  },
  {
   "cell_type": "code",
   "execution_count": 14,
   "id": "0d3cbce6-aaed-49d7-8cff-0c013c5f9e60",
   "metadata": {
    "collapsed": false,
    "microsoft": {
     "language": "python",
     "language_group": "synapse_pyspark"
    }
   },
   "outputs": [
    {
     "data": {
      "application/vnd.livy.statement-meta+json": {
       "execution_finish_time": "2025-10-10T15:30:14.5514894Z",
       "execution_start_time": "2025-10-10T15:30:04.0298448Z",
       "livy_statement_state": "available",
       "normalized_state": "finished",
       "parent_msg_id": "0a5f8651-44f3-4478-a3e1-9982814560f2",
       "queued_time": "2025-10-10T15:30:04.0288079Z",
       "session_id": "018b44f4-ac57-4c77-a25a-5f4a2cff19cb",
       "session_start_time": null,
       "spark_pool": null,
       "state": "finished",
       "statement_id": 16,
       "statement_ids": [
        16
       ]
      },
      "text/plain": [
       "StatementMeta(, 018b44f4-ac57-4c77-a25a-5f4a2cff19cb, 16, Finished, Available, Finished)"
      ]
     },
     "metadata": {},
     "output_type": "display_data"
    },
    {
     "name": "stdout",
     "output_type": "stream",
     "text": [
      "Columnas eliminadas: []\n",
      "Total de columnas finales: 11\n"
     ]
    },
    {
     "data": {
      "application/vnd.synapse.widget-view+json": {
       "widget_id": "108bfc43-5df6-48b8-aabb-302c1a90208a",
       "widget_type": "Synapse.DataFrame"
      },
      "text/plain": [
       "SynapseWidget(Synapse.DataFrame, 108bfc43-5df6-48b8-aabb-302c1a90208a)"
      ]
     },
     "metadata": {},
     "output_type": "display_data"
    }
   ],
   "source": [
    "from pyspark.sql import functions as F\n",
    "\n",
    "# eliminar columnas que tienen todas en nulo\n",
    "# Contar cuántos valores no nulos tiene cada columna\n",
    "non_null_counts = df_union.select([\n",
    "    F.count(F.col(c)).alias(c)\n",
    "    for c in df_union.columns\n",
    "]).collect()[0].asDict()\n",
    "\n",
    "# Filtrar las columnas que tienen al menos un valor no nulo\n",
    "cols_to_keep = [c for c, count in non_null_counts.items() if count > 0]\n",
    "\n",
    "# Crear nuevo DataFrame sin las columnas completamente nulas\n",
    "df_no_null_cols = df_union.select(cols_to_keep)\n",
    "\n",
    "print(f\"Columnas eliminadas: {[c for c in df_union.columns if c not in cols_to_keep]}\")\n",
    "print(f\"Total de columnas finales: {len(df_no_null_cols.columns)}\")\n",
    "\n",
    "# Mostrar el resultado\n",
    "display(df_no_null_cols.limit(5))"
   ]
  },
  {
   "cell_type": "code",
   "execution_count": 15,
   "id": "466f7c3c-af77-4d73-abce-b4cbd26b35c0",
   "metadata": {
    "collapsed": false,
    "microsoft": {
     "language": "python",
     "language_group": "synapse_pyspark"
    }
   },
   "outputs": [
    {
     "data": {
      "application/vnd.livy.statement-meta+json": {
       "execution_finish_time": "2025-10-10T15:30:25.8571276Z",
       "execution_start_time": "2025-10-10T15:30:14.5534184Z",
       "livy_statement_state": "available",
       "normalized_state": "finished",
       "parent_msg_id": "bf9e2b37-a245-4690-83c8-21e75c0ebc4f",
       "queued_time": "2025-10-10T15:30:13.3165303Z",
       "session_id": "018b44f4-ac57-4c77-a25a-5f4a2cff19cb",
       "session_start_time": null,
       "spark_pool": null,
       "state": "finished",
       "statement_id": 17,
       "statement_ids": [
        17
       ]
      },
      "text/plain": [
       "StatementMeta(, 018b44f4-ac57-4c77-a25a-5f4a2cff19cb, 17, Finished, Available, Finished)"
      ]
     },
     "metadata": {},
     "output_type": "display_data"
    },
    {
     "data": {
      "application/vnd.synapse.widget-view+json": {
       "widget_id": "315755c7-2a81-4157-b3c7-24312a1ae615",
       "widget_type": "Synapse.DataFrame"
      },
      "text/plain": [
       "SynapseWidget(Synapse.DataFrame, 315755c7-2a81-4157-b3c7-24312a1ae615)"
      ]
     },
     "metadata": {},
     "output_type": "display_data"
    },
    {
     "name": "stdout",
     "output_type": "stream",
     "text": [
      "Total después de limpiar duplicados: 684\n"
     ]
    }
   ],
   "source": [
    "# eliminamos duplicados según todas las columnas excepto ingestion_timestamp\n",
    "df_clean = df_no_null_cols.dropDuplicates(['region', 'year', 'month', 'temperature_2m_max', 'temperature_2m_min', 'temperature_2m_mean', 'precipitation_sum', 'wind_speed_10m_max','geo_name', 'geo_limit'])\n",
    "\n",
    "display(df_clean.limit(5))\n",
    "print(f\"Total después de limpiar duplicados: {df_clean.count():,}\")"
   ]
  },
  {
   "cell_type": "code",
   "execution_count": 16,
   "id": "a8272600-f4fd-456c-8b4d-287c66f26213",
   "metadata": {
    "microsoft": {
     "language": "python",
     "language_group": "synapse_pyspark"
    }
   },
   "outputs": [
    {
     "data": {
      "application/vnd.livy.statement-meta+json": {
       "execution_finish_time": "2025-10-10T15:31:11.6942824Z",
       "execution_start_time": "2025-10-10T15:30:25.8594495Z",
       "livy_statement_state": "available",
       "normalized_state": "finished",
       "parent_msg_id": "873ad6ce-958d-42a0-baea-391d1f197584",
       "queued_time": "2025-10-10T15:30:22.9866651Z",
       "session_id": "018b44f4-ac57-4c77-a25a-5f4a2cff19cb",
       "session_start_time": null,
       "spark_pool": null,
       "state": "finished",
       "statement_id": 18,
       "statement_ids": [
        18
       ]
      },
      "text/plain": [
       "StatementMeta(, 018b44f4-ac57-4c77-a25a-5f4a2cff19cb, 18, Finished, Available, Finished)"
      ]
     },
     "metadata": {},
     "output_type": "display_data"
    },
    {
     "name": "stdout",
     "output_type": "stream",
     "text": [
      "\n",
      "📌 Valores únicos en 'region': 57\n",
      "['brz_andalucia_2023_mensual', 'brz_aragon_2023_mensual', 'brz_asturias_2023_mensual', 'brz_baleares_2023_mensual', 'brz_canarias_2023_mensual', 'brz_cantabria_2023_mensual', 'brz_castilla_la_mancha_2023_mensual', 'brz_castilla_leon_2023_mensual', 'brz_cataluna_2023_mensual', 'brz_ceuta_2023_mensual', 'brz_extremadura_2023_mensual', 'brz_galicia_2023_mensual', 'brz_madrid_2023_mensual', 'brz_melilla_2023_mensual', 'brz_murcia_2023_mensual', 'brz_navarra_2023_mensual', 'brz_pais_vasco_2023_mensual', 'brz_rioja_2023_mensual', 'brz_valencia_2023_mensual', 'brz_andalucia_2024_mensual', 'brz_aragon_2024_mensual', 'brz_asturias_2024_mensual', 'brz_baleares_2024_mensual', 'brz_canarias_2024_mensual', 'brz_cantabria_2024_mensual', 'brz_castilla_la_mancha_2024_mensual', 'brz_castilla_leon_2024_mensual', 'brz_cataluna_2024_mensual', 'brz_ceuta_2024_mensual', 'brz_extremadura_2024_mensual', 'brz_galicia_2024_mensual', 'brz_madrid_2024_mensual', 'brz_melilla_2024_mensual', 'brz_murcia_2024_mensual', 'brz_navarra_2024_mensual', 'brz_pais_vasco_2024_mensual', 'brz_rioja_2024_mensual', 'brz_valencia_2024_mensual', 'brz_andalucia_2025_mensual', 'brz_aragon_2025_mensual', 'brz_asturias_2025_mensual', 'brz_baleares_2025_mensual', 'brz_canarias_2025_mensual', 'brz_cantabria_2025_mensual', 'brz_castilla_la_mancha_2025_mensual', 'brz_castilla_leon_2025_mensual', 'brz_cataluna_2025_mensual', 'brz_ceuta_2025_mensual', 'brz_extremadura_2025_mensual', 'brz_galicia_2025_mensual', 'brz_madrid_2025_mensual', 'brz_melilla_2025_mensual', 'brz_murcia_2025_mensual', 'brz_navarra_2025_mensual', 'brz_pais_vasco_2025_mensual', 'brz_rioja_2025_mensual', 'brz_valencia_2025_mensual']\n",
      "\n",
      "📌 Valores únicos en 'year': 3\n",
      "[2023, 2024, 2025]\n",
      "\n",
      "📌 Valores únicos en 'month': 12\n",
      "[12, 1, 6, 3, 5, 9, 4, 8, 7, 10, 11, 2]\n",
      "\n",
      "📌 Valores únicos en 'geo_name': 19\n",
      "['Andalucía', 'Aragón', 'Principado de Asturias', 'Islas Baleares', 'Islas Canarias', 'Cantabria', 'Castilla-La Mancha', 'Castilla y León', 'Cataluña', 'Comunidad de Ceuta', 'Extremadura', 'Galicia', 'Comunidad de Madrid', 'Comunidad de Melilla', 'Región de Murcia', 'Comunidad de Navarra', 'País Vasco', 'La Rioja', 'Comunidad Valenciana']\n",
      "\n",
      "📌 Valores únicos en 'geo_limit': 5\n",
      "['peninsular', 'baleares', 'canarias', 'ceuta', 'melilla']\n"
     ]
    }
   ],
   "source": [
    "# imprimimos valores únicos de cada columna\n",
    "cols = ['region', 'year', 'month','geo_name', 'geo_limit']\n",
    "\n",
    "for c in cols:\n",
    "    uniques = [row[c] for row in df_clean.select(c).distinct().collect()]\n",
    "    count_uniques = df_clean.select(c).distinct().count()\n",
    "    print(f\"\\n📌 Valores únicos en '{c}': {count_uniques}\")\n",
    "    print(uniques)"
   ]
  },
  {
   "cell_type": "code",
   "execution_count": 17,
   "id": "44b1e39f-fb7f-42ea-b642-3ea8eaada4e4",
   "metadata": {
    "collapsed": false,
    "microsoft": {
     "language": "python",
     "language_group": "synapse_pyspark"
    }
   },
   "outputs": [
    {
     "data": {
      "application/vnd.livy.statement-meta+json": {
       "execution_finish_time": "2025-10-10T15:31:18.4754558Z",
       "execution_start_time": "2025-10-10T15:31:11.6964892Z",
       "livy_statement_state": "available",
       "normalized_state": "finished",
       "parent_msg_id": "3942f33c-a36b-47a0-8beb-b6ef17b21148",
       "queued_time": "2025-10-10T15:30:48.3396369Z",
       "session_id": "018b44f4-ac57-4c77-a25a-5f4a2cff19cb",
       "session_start_time": null,
       "spark_pool": null,
       "state": "finished",
       "statement_id": 19,
       "statement_ids": [
        19
       ]
      },
      "text/plain": [
       "StatementMeta(, 018b44f4-ac57-4c77-a25a-5f4a2cff19cb, 19, Finished, Available, Finished)"
      ]
     },
     "metadata": {},
     "output_type": "display_data"
    },
    {
     "data": {
      "application/vnd.synapse.widget-view+json": {
       "widget_id": "6a0183ea-59c0-488b-8cfb-5ffe4dbfb4c1",
       "widget_type": "Synapse.DataFrame"
      },
      "text/plain": [
       "SynapseWidget(Synapse.DataFrame, 6a0183ea-59c0-488b-8cfb-5ffe4dbfb4c1)"
      ]
     },
     "metadata": {},
     "output_type": "display_data"
    }
   ],
   "source": [
    "# eliminamos las columnas que creamos no necesarios y/o que solo tengan 1 valor único\n",
    "df_clean = df_clean.drop(\"region\", \"ingestion_date\", )\n",
    "\n",
    "display(df_clean.limit(2))"
   ]
  },
  {
   "cell_type": "code",
   "execution_count": 18,
   "id": "eb255eeb-1d4a-48c4-98a8-f4b3881140f5",
   "metadata": {
    "collapsed": false,
    "microsoft": {
     "language": "python",
     "language_group": "synapse_pyspark"
    }
   },
   "outputs": [
    {
     "data": {
      "application/vnd.livy.statement-meta+json": {
       "execution_finish_time": "2025-10-10T15:31:33.756948Z",
       "execution_start_time": "2025-10-10T15:31:24.3846005Z",
       "livy_statement_state": "available",
       "normalized_state": "finished",
       "parent_msg_id": "ae721aa4-f42c-4002-9261-32e646a93800",
       "queued_time": "2025-10-10T15:31:24.3834769Z",
       "session_id": "018b44f4-ac57-4c77-a25a-5f4a2cff19cb",
       "session_start_time": null,
       "spark_pool": null,
       "state": "finished",
       "statement_id": 20,
       "statement_ids": [
        20
       ]
      },
      "text/plain": [
       "StatementMeta(, 018b44f4-ac57-4c77-a25a-5f4a2cff19cb, 20, Finished, Available, Finished)"
      ]
     },
     "metadata": {},
     "output_type": "display_data"
    },
    {
     "data": {
      "application/vnd.synapse.widget-view+json": {
       "widget_id": "041895e3-aa07-47c8-b2ab-468d06f88793",
       "widget_type": "Synapse.DataFrame"
      },
      "text/plain": [
       "SynapseWidget(Synapse.DataFrame, 041895e3-aa07-47c8-b2ab-468d06f88793)"
      ]
     },
     "metadata": {},
     "output_type": "display_data"
    }
   ],
   "source": [
    "# renombramos las columnas para mejor comprensión\n",
    "from pyspark.sql.functions import col\n",
    "\n",
    "df_clean = (\n",
    "    df_clean\n",
    "    .withColumnRenamed(\"temperature_2m_max\", \"max_temp\")\n",
    "    .withColumnRenamed(\"temperature_2m_min\", \"min_temp\")\n",
    "    .withColumnRenamed(\"temperature_2m_mean\", \"mean_temp\")\n",
    "    .withColumnRenamed(\"wind_speed_10m_max\", \"wind_speed\")\n",
    ")\n",
    "\n",
    "display(df_clean.limit(2))"
   ]
  },
  {
   "cell_type": "code",
   "execution_count": 19,
   "id": "b85ab72c-5072-4fa5-8fa3-14a96327320a",
   "metadata": {
    "microsoft": {
     "language": "python",
     "language_group": "synapse_pyspark"
    }
   },
   "outputs": [
    {
     "data": {
      "application/vnd.livy.statement-meta+json": {
       "execution_finish_time": "2025-10-10T15:32:05.6676972Z",
       "execution_start_time": "2025-10-10T15:31:53.0976225Z",
       "livy_statement_state": "available",
       "normalized_state": "finished",
       "parent_msg_id": "228c364d-ca16-4e8f-bc99-8ba8355b4437",
       "queued_time": "2025-10-10T15:31:53.0964414Z",
       "session_id": "018b44f4-ac57-4c77-a25a-5f4a2cff19cb",
       "session_start_time": null,
       "spark_pool": null,
       "state": "finished",
       "statement_id": 21,
       "statement_ids": [
        21
       ]
      },
      "text/plain": [
       "StatementMeta(, 018b44f4-ac57-4c77-a25a-5f4a2cff19cb, 21, Finished, Available, Finished)"
      ]
     },
     "metadata": {},
     "output_type": "display_data"
    },
    {
     "name": "stdout",
     "output_type": "stream",
     "text": [
      "✅ La tabla lh_silver.slv_open_meteo_monthly_cleaned se ha creado correctamente tras la limpieza.\n"
     ]
    }
   ],
   "source": [
    "# guardamos en capa Silver\n",
    "df_clean.write.mode(\"overwrite\").saveAsTable(\"lh_silver.slv_open_meteo_monthly_cleaned\")\n",
    "print(\"✅ La tabla lh_silver.slv_open_meteo_monthly_cleaned se ha creado correctamente tras la limpieza.\")"
   ]
  }
 ],
 "metadata": {
  "dependencies": {
   "lakehouse": {
    "default_lakehouse": "0fd09a67-0164-4fb6-838e-02a27c823afc",
    "default_lakehouse_name": "lh_bronze",
    "default_lakehouse_workspace_id": "ecf938c4-c449-48de-a07c-1d968a72b3d1",
    "known_lakehouses": [
     {
      "id": "0fd09a67-0164-4fb6-838e-02a27c823afc"
     }
    ]
   }
  },
  "kernel_info": {
   "name": "synapse_pyspark"
  },
  "kernelspec": {
   "display_name": "synapse_pyspark",
   "name": "synapse_pyspark"
  },
  "language_info": {
   "name": "python"
  },
  "microsoft": {
   "language": "python",
   "language_group": "synapse_pyspark",
   "ms_spell_check": {
    "ms_spell_check_language": "es"
   }
  },
  "nteract": {
   "version": "nteract-front-end@1.0.0"
  },
  "spark_compute": {
   "compute_id": "/trident/default",
   "session_options": {
    "conf": {
     "spark.synapse.nbs.session.timeout": "1200000"
    }
   }
  },
  "synapse_widget": {
   "state": {
    "041895e3-aa07-47c8-b2ab-468d06f88793": {
     "persist_state": {
      "view": {
       "chartOptions": {
        "aggregationType": "sum",
        "binsNumber": 10,
        "categoryFieldKeys": [],
        "chartType": "bar",
        "isStacked": false,
        "seriesFieldKeys": [],
        "wordFrequency": "-1"
       },
       "tableOptions": {},
       "type": "details",
       "viewOptionsGroup": [
        {
         "tabItems": [
          {
           "key": "0",
           "name": "Table",
           "options": {},
           "type": "table"
          }
         ]
        }
       ]
      }
     },
     "sync_state": {
      "isSummary": false,
      "language": "scala",
      "table": {
       "rows": [
        {
         "0": "2023",
         "1": "9",
         "2": "30.14",
         "3": "18.4633333333",
         "4": "23.71",
         "5": "60.6",
         "6": "25.0",
         "7": "Andalucía",
         "8": "peninsular"
        },
        {
         "0": "2023",
         "1": "11",
         "2": "20.9333333333",
         "3": "11.26",
         "4": "15.3933333333",
         "5": "12.4",
         "6": "36.6",
         "7": "Andalucía",
         "8": "peninsular"
        }
       ],
       "schema": [
        {
         "key": "0",
         "name": "year",
         "type": "int"
        },
        {
         "key": "1",
         "name": "month",
         "type": "int"
        },
        {
         "key": "2",
         "name": "max_temp",
         "type": "double"
        },
        {
         "key": "3",
         "name": "min_temp",
         "type": "double"
        },
        {
         "key": "4",
         "name": "mean_temp",
         "type": "double"
        },
        {
         "key": "5",
         "name": "precipitation_sum",
         "type": "double"
        },
        {
         "key": "6",
         "name": "wind_speed",
         "type": "double"
        },
        {
         "key": "7",
         "name": "geo_name",
         "type": "string"
        },
        {
         "key": "8",
         "name": "geo_limit",
         "type": "string"
        }
       ],
       "truncated": false
      },
      "wranglerEntryContext": {
       "dataframeType": "pyspark"
      }
     },
     "type": "Synapse.DataFrame"
    },
    "108bfc43-5df6-48b8-aabb-302c1a90208a": {
     "persist_state": {
      "view": {
       "chartOptions": {
        "aggregationType": "sum",
        "binsNumber": 10,
        "categoryFieldKeys": [],
        "chartType": "bar",
        "isStacked": false,
        "seriesFieldKeys": [],
        "wordFrequency": "-1"
       },
       "tableOptions": {},
       "type": "details",
       "viewOptionsGroup": [
        {
         "tabItems": [
          {
           "key": "0",
           "name": "Table",
           "options": {},
           "type": "table"
          }
         ]
        }
       ]
      }
     },
     "sync_state": {
      "isSummary": false,
      "language": "scala",
      "table": {
       "rows": [
        {
         "0": "brz_andalucia_2023_mensual",
         "1": "2023",
         "2": "1",
         "3": "15.6935483871",
         "4": "6.8096774194",
         "5": "10.5935483871",
         "6": "16.1",
         "7": "25.9",
         "8": "2025-09-30 10:35:20.378883",
         "9": "Andalucía",
         "10": "peninsular"
        },
        {
         "0": "brz_andalucia_2023_mensual",
         "1": "2023",
         "2": "2",
         "3": "18.6642857143",
         "4": "7.2821428571",
         "5": "12.1714285714",
         "6": "17.1",
         "7": "28.8",
         "8": "2025-09-30 10:35:20.378883",
         "9": "Andalucía",
         "10": "peninsular"
        },
        {
         "0": "brz_andalucia_2023_mensual",
         "1": "2023",
         "2": "3",
         "3": "23.2870967742",
         "4": "10.4806451613",
         "5": "16.4161290323",
         "6": "21.6",
         "7": "26.1",
         "8": "2025-09-30 10:35:20.378883",
         "9": "Andalucía",
         "10": "peninsular"
        },
        {
         "0": "brz_andalucia_2023_mensual",
         "1": "2023",
         "2": "4",
         "3": "29.6166666667",
         "4": "14.7666666667",
         "5": "21.8",
         "6": "2.4",
         "7": "22.9",
         "8": "2025-09-30 10:35:20.378883",
         "9": "Andalucía",
         "10": "peninsular"
        },
        {
         "0": "brz_andalucia_2023_mensual",
         "1": "2023",
         "2": "5",
         "3": "28.6741935484",
         "4": "16.5870967742",
         "5": "22.1741935484",
         "6": "41.3",
         "7": "27.2",
         "8": "2025-09-30 10:35:20.378883",
         "9": "Andalucía",
         "10": "peninsular"
        }
       ],
       "schema": [
        {
         "key": "0",
         "name": "region",
         "type": "string"
        },
        {
         "key": "1",
         "name": "year",
         "type": "int"
        },
        {
         "key": "2",
         "name": "month",
         "type": "int"
        },
        {
         "key": "3",
         "name": "temperature_2m_max",
         "type": "double"
        },
        {
         "key": "4",
         "name": "temperature_2m_min",
         "type": "double"
        },
        {
         "key": "5",
         "name": "temperature_2m_mean",
         "type": "double"
        },
        {
         "key": "6",
         "name": "precipitation_sum",
         "type": "double"
        },
        {
         "key": "7",
         "name": "wind_speed_10m_max",
         "type": "double"
        },
        {
         "key": "8",
         "name": "ingestion_date",
         "type": "timestamp"
        },
        {
         "key": "9",
         "name": "geo_name",
         "type": "string"
        },
        {
         "key": "10",
         "name": "geo_limit",
         "type": "string"
        }
       ],
       "truncated": false
      },
      "wranglerEntryContext": {
       "dataframeType": "pyspark"
      }
     },
     "type": "Synapse.DataFrame"
    },
    "315755c7-2a81-4157-b3c7-24312a1ae615": {
     "persist_state": {
      "view": {
       "chartOptions": {
        "aggregationType": "sum",
        "binsNumber": 10,
        "categoryFieldKeys": [],
        "chartType": "bar",
        "isStacked": false,
        "seriesFieldKeys": [],
        "wordFrequency": "-1"
       },
       "tableOptions": {},
       "type": "details",
       "viewOptionsGroup": [
        {
         "tabItems": [
          {
           "key": "0",
           "name": "Table",
           "options": {},
           "type": "table"
          }
         ]
        }
       ]
      }
     },
     "sync_state": {
      "isSummary": false,
      "language": "scala",
      "table": {
       "rows": [
        {
         "0": "brz_andalucia_2023_mensual",
         "1": "2023",
         "2": "9",
         "3": "30.14",
         "4": "18.4633333333",
         "5": "23.71",
         "6": "60.6",
         "7": "25.0",
         "8": "2025-09-30 10:35:20.378883",
         "9": "Andalucía",
         "10": "peninsular"
        },
        {
         "0": "brz_andalucia_2023_mensual",
         "1": "2023",
         "2": "11",
         "3": "20.9333333333",
         "4": "11.26",
         "5": "15.3933333333",
         "6": "12.4",
         "7": "36.6",
         "8": "2025-09-30 10:35:20.378883",
         "9": "Andalucía",
         "10": "peninsular"
        },
        {
         "0": "brz_andalucia_2023_mensual",
         "1": "2023",
         "2": "6",
         "3": "33.6833333333",
         "4": "20.1233333333",
         "5": "26.5133333333",
         "6": "44.4",
         "7": "23.0",
         "8": "2025-09-30 10:35:20.378883",
         "9": "Andalucía",
         "10": "peninsular"
        },
        {
         "0": "brz_andalucia_2023_mensual",
         "1": "2023",
         "2": "12",
         "3": "15.8032258065",
         "4": "7.0483870968",
         "5": "10.7806451613",
         "6": "52.6",
         "7": "31.6",
         "8": "2025-09-30 10:35:20.378883",
         "9": "Andalucía",
         "10": "peninsular"
        },
        {
         "0": "brz_andalucia_2023_mensual",
         "1": "2023",
         "2": "8",
         "3": "39.6032258065",
         "4": "23.2580645161",
         "5": "30.9935483871",
         "6": "0.0",
         "7": "27.1",
         "8": "2025-09-30 10:35:20.378883",
         "9": "Andalucía",
         "10": "peninsular"
        }
       ],
       "schema": [
        {
         "key": "0",
         "name": "region",
         "type": "string"
        },
        {
         "key": "1",
         "name": "year",
         "type": "int"
        },
        {
         "key": "2",
         "name": "month",
         "type": "int"
        },
        {
         "key": "3",
         "name": "temperature_2m_max",
         "type": "double"
        },
        {
         "key": "4",
         "name": "temperature_2m_min",
         "type": "double"
        },
        {
         "key": "5",
         "name": "temperature_2m_mean",
         "type": "double"
        },
        {
         "key": "6",
         "name": "precipitation_sum",
         "type": "double"
        },
        {
         "key": "7",
         "name": "wind_speed_10m_max",
         "type": "double"
        },
        {
         "key": "8",
         "name": "ingestion_date",
         "type": "timestamp"
        },
        {
         "key": "9",
         "name": "geo_name",
         "type": "string"
        },
        {
         "key": "10",
         "name": "geo_limit",
         "type": "string"
        }
       ],
       "truncated": false
      },
      "wranglerEntryContext": {
       "dataframeType": "pyspark"
      }
     },
     "type": "Synapse.DataFrame"
    },
    "6a0183ea-59c0-488b-8cfb-5ffe4dbfb4c1": {
     "persist_state": {
      "view": {
       "chartOptions": {
        "aggregationType": "sum",
        "binsNumber": 10,
        "categoryFieldKeys": [],
        "chartType": "bar",
        "isStacked": false,
        "seriesFieldKeys": [],
        "wordFrequency": "-1"
       },
       "tableOptions": {},
       "type": "details",
       "viewOptionsGroup": [
        {
         "tabItems": [
          {
           "key": "0",
           "name": "Table",
           "options": {},
           "type": "table"
          }
         ]
        }
       ]
      }
     },
     "sync_state": {
      "isSummary": false,
      "language": "scala",
      "table": {
       "rows": [
        {
         "0": "2023",
         "1": "9",
         "2": "30.14",
         "3": "18.4633333333",
         "4": "23.71",
         "5": "60.6",
         "6": "25.0",
         "7": "Andalucía",
         "8": "peninsular"
        },
        {
         "0": "2023",
         "1": "11",
         "2": "20.9333333333",
         "3": "11.26",
         "4": "15.3933333333",
         "5": "12.4",
         "6": "36.6",
         "7": "Andalucía",
         "8": "peninsular"
        }
       ],
       "schema": [
        {
         "key": "0",
         "name": "year",
         "type": "int"
        },
        {
         "key": "1",
         "name": "month",
         "type": "int"
        },
        {
         "key": "2",
         "name": "temperature_2m_max",
         "type": "double"
        },
        {
         "key": "3",
         "name": "temperature_2m_min",
         "type": "double"
        },
        {
         "key": "4",
         "name": "temperature_2m_mean",
         "type": "double"
        },
        {
         "key": "5",
         "name": "precipitation_sum",
         "type": "double"
        },
        {
         "key": "6",
         "name": "wind_speed_10m_max",
         "type": "double"
        },
        {
         "key": "7",
         "name": "geo_name",
         "type": "string"
        },
        {
         "key": "8",
         "name": "geo_limit",
         "type": "string"
        }
       ],
       "truncated": false
      },
      "wranglerEntryContext": {
       "dataframeType": "pyspark"
      }
     },
     "type": "Synapse.DataFrame"
    },
    "a77c7c41-970c-4a12-910c-76be3329228a": {
     "persist_state": {
      "view": {
       "chartOptions": {
        "aggregationType": "sum",
        "binsNumber": 10,
        "categoryFieldKeys": [],
        "chartType": "bar",
        "isStacked": false,
        "seriesFieldKeys": [],
        "wordFrequency": "-1"
       },
       "tableOptions": {},
       "type": "details",
       "viewOptionsGroup": [
        {
         "tabItems": [
          {
           "key": "0",
           "name": "Table",
           "options": {},
           "type": "table"
          }
         ]
        }
       ]
      }
     },
     "sync_state": {
      "isSummary": false,
      "language": "scala",
      "table": {
       "rows": [
        {
         "0": "brz_andalucia_2023_mensual",
         "1": "2023",
         "2": "1",
         "3": "15.6935483871",
         "4": "6.8096774194",
         "5": "10.5935483871",
         "6": "16.1",
         "7": "25.9",
         "8": "2025-09-30 10:35:20.378883",
         "9": "Andalucía",
         "10": "peninsular"
        },
        {
         "0": "brz_andalucia_2023_mensual",
         "1": "2023",
         "2": "2",
         "3": "18.6642857143",
         "4": "7.2821428571",
         "5": "12.1714285714",
         "6": "17.1",
         "7": "28.8",
         "8": "2025-09-30 10:35:20.378883",
         "9": "Andalucía",
         "10": "peninsular"
        },
        {
         "0": "brz_andalucia_2023_mensual",
         "1": "2023",
         "2": "3",
         "3": "23.2870967742",
         "4": "10.4806451613",
         "5": "16.4161290323",
         "6": "21.6",
         "7": "26.1",
         "8": "2025-09-30 10:35:20.378883",
         "9": "Andalucía",
         "10": "peninsular"
        },
        {
         "0": "brz_andalucia_2023_mensual",
         "1": "2023",
         "2": "4",
         "3": "29.6166666667",
         "4": "14.7666666667",
         "5": "21.8",
         "6": "2.4",
         "7": "22.9",
         "8": "2025-09-30 10:35:20.378883",
         "9": "Andalucía",
         "10": "peninsular"
        },
        {
         "0": "brz_andalucia_2023_mensual",
         "1": "2023",
         "2": "5",
         "3": "28.6741935484",
         "4": "16.5870967742",
         "5": "22.1741935484",
         "6": "41.3",
         "7": "27.2",
         "8": "2025-09-30 10:35:20.378883",
         "9": "Andalucía",
         "10": "peninsular"
        }
       ],
       "schema": [
        {
         "key": "0",
         "name": "region",
         "type": "string"
        },
        {
         "key": "1",
         "name": "year",
         "type": "int"
        },
        {
         "key": "2",
         "name": "month",
         "type": "int"
        },
        {
         "key": "3",
         "name": "temperature_2m_max",
         "type": "double"
        },
        {
         "key": "4",
         "name": "temperature_2m_min",
         "type": "double"
        },
        {
         "key": "5",
         "name": "temperature_2m_mean",
         "type": "double"
        },
        {
         "key": "6",
         "name": "precipitation_sum",
         "type": "double"
        },
        {
         "key": "7",
         "name": "wind_speed_10m_max",
         "type": "double"
        },
        {
         "key": "8",
         "name": "ingestion_date",
         "type": "timestamp"
        },
        {
         "key": "9",
         "name": "geo_name",
         "type": "string"
        },
        {
         "key": "10",
         "name": "geo_limit",
         "type": "string"
        }
       ],
       "truncated": false
      },
      "wranglerEntryContext": {
       "dataframeType": "pyspark"
      }
     },
     "type": "Synapse.DataFrame"
    }
   },
   "version": "0.1"
  }
 },
 "nbformat": 4,
 "nbformat_minor": 5
}
