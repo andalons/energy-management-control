{
 "cells": [
  {
   "cell_type": "code",
   "execution_count": 21,
   "id": "b7d6387f-bb5d-4fad-9730-6e441ff4e70f",
   "metadata": {
    "collapsed": false,
    "microsoft": {
     "language": "python",
     "language_group": "synapse_pyspark"
    }
   },
   "outputs": [
    {
     "data": {
      "application/vnd.livy.statement-meta+json": {
       "execution_finish_time": "2025-10-10T16:37:22.1778321Z",
       "execution_start_time": "2025-10-10T16:36:49.8149251Z",
       "livy_statement_state": "available",
       "normalized_state": "finished",
       "parent_msg_id": "cd9772f4-94a9-488a-a136-b7a0e9d1dd0a",
       "queued_time": "2025-10-10T16:36:49.8137783Z",
       "session_id": "345c8f4b-9113-4e6a-97a7-6bd431130e43",
       "session_start_time": null,
       "spark_pool": null,
       "state": "finished",
       "statement_id": 23,
       "statement_ids": [
        23
       ]
      },
      "text/plain": [
       "StatementMeta(, 345c8f4b-9113-4e6a-97a7-6bd431130e43, 23, Finished, Available, Finished)"
      ]
     },
     "metadata": {},
     "output_type": "display_data"
    },
    {
     "name": "stdout",
     "output_type": "stream",
     "text": [
      "✅ Tablas encontradas (15):\n",
      " - brz_open_meteo_baleares_2023\n",
      " - brz_open_meteo_canarias_2023\n",
      " - brz_open_meteo_ceuta_2023\n",
      " - brz_open_meteo_melilla_2023\n",
      " - brz_open_meteo_peninsula_2023\n",
      " - brz_open_meteo_baleares_2024\n",
      " - brz_open_meteo_canarias_2024\n",
      " - brz_open_meteo_ceuta_2024\n",
      " - brz_open_meteo_melilla_2024\n",
      " - brz_open_meteo_peninsula_2024\n",
      " - brz_open_meteo_baleares_2025\n",
      " - brz_open_meteo_canarias_2025\n",
      " - brz_open_meteo_ceuta_2025\n",
      " - brz_open_meteo_melilla_2025\n",
      " - brz_open_meteo_peninsula_2025\n"
     ]
    },
    {
     "data": {
      "application/vnd.synapse.widget-view+json": {
       "widget_id": "f726a79e-0e06-44d7-a32b-603f70fe4235",
       "widget_type": "Synapse.DataFrame"
      },
      "text/plain": [
       "SynapseWidget(Synapse.DataFrame, f726a79e-0e06-44d7-a32b-603f70fe4235)"
      ]
     },
     "metadata": {},
     "output_type": "display_data"
    }
   ],
   "source": [
    "from pyspark.sql import SparkSession\n",
    "from pyspark.sql.functions import lit\n",
    "import re\n",
    "\n",
    "# Inicializamos Spark\n",
    "spark = SparkSession.builder.getOrCreate()\n",
    "\n",
    "# Listamos todas las tablas del esquema lh_bronze\n",
    "all_tables = spark.catalog.listTables(\"lh_bronze\")\n",
    "\n",
    "# Definimos los geo_limits y años esperados\n",
    "geo_limits = [\"peninsula\", \"canarias\", \"baleares\", \"ceuta\", \"melilla\"]\n",
    "years = [\"2023\", \"2024\", \"2025\"]\n",
    "\n",
    "# Creamos la lista de patrones válidos\n",
    "expected_patterns = [\n",
    "    f\"brz_open_meteo_{geo}_{year}\" for geo in geo_limits for year in years\n",
    "]\n",
    "\n",
    "# Filtramos las tablas que coinciden con alguno de los patrones\n",
    "matched_tables = [t.name for t in all_tables if any(t.name == p for p in expected_patterns)]\n",
    "\n",
    "print(f\"✅ Tablas encontradas ({len(matched_tables)}):\")\n",
    "for t in matched_tables:\n",
    "    print(f\" - {t}\")\n",
    "\n",
    "# Función para extraer geo_limit desde el nombre de la tabla\n",
    "def extract_geo_limit_from_table_name(table_name):\n",
    "    for geo in geo_limits:\n",
    "        if geo in table_name.lower():\n",
    "            return geo\n",
    "    return \"desconocido\"\n",
    "\n",
    "# Leemos, agregamos geo_limit y unimos todas las tablas\n",
    "df_union = None\n",
    "\n",
    "for table in matched_tables:\n",
    "    df = spark.read.table(f\"lh_bronze.{table}\")\n",
    "    geo_limit = extract_geo_limit_from_table_name(table)\n",
    "    df = df.withColumn(\"geo_limit\", lit(geo_limit))\n",
    "    \n",
    "    # Si existe la columna 'territorio', la eliminamos directamente\n",
    "    if 'territorio' in df.columns:\n",
    "        df = df.drop('territorio')\n",
    "    \n",
    "    # Unimos las tablas\n",
    "    if df_union is None:\n",
    "        df_union = df\n",
    "    else:\n",
    "        df_union = df_union.unionByName(df)\n",
    "\n",
    "# Mostramos muestra\n",
    "display(df_union.limit(10))\n"
   ]
  },
  {
   "cell_type": "code",
   "execution_count": 22,
   "id": "1778abdd-2927-490a-8ab5-291760a75aba",
   "metadata": {
    "microsoft": {
     "language": "python",
     "language_group": "synapse_pyspark"
    }
   },
   "outputs": [
    {
     "data": {
      "application/vnd.livy.statement-meta+json": {
       "execution_finish_time": "2025-10-10T16:37:38.9906933Z",
       "execution_start_time": "2025-10-10T16:37:34.0874595Z",
       "livy_statement_state": "available",
       "normalized_state": "finished",
       "parent_msg_id": "a0075394-ec6c-4fa8-afd6-53f6dc389798",
       "queued_time": "2025-10-10T16:37:34.0863569Z",
       "session_id": "345c8f4b-9113-4e6a-97a7-6bd431130e43",
       "session_start_time": null,
       "spark_pool": null,
       "state": "finished",
       "statement_id": 24,
       "statement_ids": [
        24
       ]
      },
      "text/plain": [
       "StatementMeta(, 345c8f4b-9113-4e6a-97a7-6bd431130e43, 24, Finished, Available, Finished)"
      ]
     },
     "metadata": {},
     "output_type": "display_data"
    },
    {
     "name": "stdout",
     "output_type": "stream",
     "text": [
      "\n",
      "📌 Valores únicos en 'geo_limit': 5\n",
      "['baleares', 'canarias', 'ceuta', 'melilla', 'peninsula']\n"
     ]
    }
   ],
   "source": [
    "# imprimimos valores únicos de la columna geo_limit\n",
    "cols = ['geo_limit']\n",
    "\n",
    "for c in cols:\n",
    "    uniques = [row[c] for row in df_union.select(c).distinct().collect()]\n",
    "    count_uniques = df_union.select(c).distinct().count()\n",
    "    print(f\"\\n📌 Valores únicos en '{c}': {count_uniques}\")\n",
    "    print(uniques)"
   ]
  },
  {
   "cell_type": "code",
   "execution_count": 23,
   "id": "f91bfc11-72e6-40f1-9123-478831d42beb",
   "metadata": {
    "microsoft": {
     "language": "python",
     "language_group": "synapse_pyspark"
    }
   },
   "outputs": [
    {
     "data": {
      "application/vnd.livy.statement-meta+json": {
       "execution_finish_time": "2025-10-10T16:37:56.5326068Z",
       "execution_start_time": "2025-10-10T16:37:56.1520475Z",
       "livy_statement_state": "available",
       "normalized_state": "finished",
       "parent_msg_id": "268afa9e-34d8-42e2-93a0-3b206e95a4d4",
       "queued_time": "2025-10-10T16:37:56.1510254Z",
       "session_id": "345c8f4b-9113-4e6a-97a7-6bd431130e43",
       "session_start_time": null,
       "spark_pool": null,
       "state": "finished",
       "statement_id": 25,
       "statement_ids": [
        25
       ]
      },
      "text/plain": [
       "StatementMeta(, 345c8f4b-9113-4e6a-97a7-6bd431130e43, 25, Finished, Available, Finished)"
      ]
     },
     "metadata": {},
     "output_type": "display_data"
    }
   ],
   "source": [
    "# normalizamos de \"peninsula\" a \"peninsular\" para que cuadre con las otras tablas\n",
    "df_union = df_union.replace({\"peninsula\": \"peninsular\"}, subset=[\"geo_limit\"])"
   ]
  },
  {
   "cell_type": "code",
   "execution_count": 24,
   "id": "50cacb6b-847a-4e93-abdc-808c79207fe7",
   "metadata": {
    "microsoft": {
     "language": "python",
     "language_group": "synapse_pyspark"
    }
   },
   "outputs": [
    {
     "data": {
      "application/vnd.livy.statement-meta+json": {
       "execution_finish_time": "2025-10-10T16:38:06.1092575Z",
       "execution_start_time": "2025-10-10T16:38:03.4192371Z",
       "livy_statement_state": "available",
       "normalized_state": "finished",
       "parent_msg_id": "771955ad-1f10-4708-a024-c6de5feb816b",
       "queued_time": "2025-10-10T16:38:03.4182303Z",
       "session_id": "345c8f4b-9113-4e6a-97a7-6bd431130e43",
       "session_start_time": null,
       "spark_pool": null,
       "state": "finished",
       "statement_id": 26,
       "statement_ids": [
        26
       ]
      },
      "text/plain": [
       "StatementMeta(, 345c8f4b-9113-4e6a-97a7-6bd431130e43, 26, Finished, Available, Finished)"
      ]
     },
     "metadata": {},
     "output_type": "display_data"
    },
    {
     "name": "stdout",
     "output_type": "stream",
     "text": [
      "Total de filas iniciales: 5,080\n"
     ]
    }
   ],
   "source": [
    "print(f\"Total de filas iniciales: {df_union.count():,}\")"
   ]
  },
  {
   "cell_type": "code",
   "execution_count": 25,
   "id": "21da5b39-e23e-484a-9131-519405508fb6",
   "metadata": {
    "microsoft": {
     "language": "python",
     "language_group": "synapse_pyspark"
    }
   },
   "outputs": [
    {
     "data": {
      "application/vnd.livy.statement-meta+json": {
       "execution_finish_time": "2025-10-10T16:38:08.7439518Z",
       "execution_start_time": "2025-10-10T16:38:08.3721247Z",
       "livy_statement_state": "available",
       "normalized_state": "finished",
       "parent_msg_id": "19d6102a-2845-46ce-a20e-39a5e29623de",
       "queued_time": "2025-10-10T16:38:08.3709815Z",
       "session_id": "345c8f4b-9113-4e6a-97a7-6bd431130e43",
       "session_start_time": null,
       "spark_pool": null,
       "state": "finished",
       "statement_id": 27,
       "statement_ids": [
        27
       ]
      },
      "text/plain": [
       "StatementMeta(, 345c8f4b-9113-4e6a-97a7-6bd431130e43, 27, Finished, Available, Finished)"
      ]
     },
     "metadata": {},
     "output_type": "display_data"
    },
    {
     "name": "stdout",
     "output_type": "stream",
     "text": [
      "['date', 'temperature_2m_max', 'temperature_2m_min', 'temperature_2m_mean', 'precipitation_sum', 'wind_speed_10m_max', 'ingestion_date', 'geo_limit']\n"
     ]
    }
   ],
   "source": [
    "print(df_union.columns)"
   ]
  },
  {
   "cell_type": "code",
   "execution_count": 26,
   "id": "77ad6ec5-832b-4968-84db-1a5e62aaafd5",
   "metadata": {
    "collapsed": false,
    "microsoft": {
     "language": "python",
     "language_group": "synapse_pyspark"
    }
   },
   "outputs": [
    {
     "data": {
      "application/vnd.livy.statement-meta+json": {
       "execution_finish_time": "2025-10-10T16:38:20.7318088Z",
       "execution_start_time": "2025-10-10T16:38:15.6297095Z",
       "livy_statement_state": "available",
       "normalized_state": "finished",
       "parent_msg_id": "d4f7c819-d71e-497f-b08f-1f43bc5aa8fa",
       "queued_time": "2025-10-10T16:38:15.6286338Z",
       "session_id": "345c8f4b-9113-4e6a-97a7-6bd431130e43",
       "session_start_time": null,
       "spark_pool": null,
       "state": "finished",
       "statement_id": 28,
       "statement_ids": [
        28
       ]
      },
      "text/plain": [
       "StatementMeta(, 345c8f4b-9113-4e6a-97a7-6bd431130e43, 28, Finished, Available, Finished)"
      ]
     },
     "metadata": {},
     "output_type": "display_data"
    },
    {
     "name": "stdout",
     "output_type": "stream",
     "text": [
      "Columnas eliminadas: []\n",
      "Total de columnas finales: 8\n"
     ]
    },
    {
     "data": {
      "application/vnd.synapse.widget-view+json": {
       "widget_id": "3c260195-698f-4e38-8ce1-2e5b8f4bb404",
       "widget_type": "Synapse.DataFrame"
      },
      "text/plain": [
       "SynapseWidget(Synapse.DataFrame, 3c260195-698f-4e38-8ce1-2e5b8f4bb404)"
      ]
     },
     "metadata": {},
     "output_type": "display_data"
    }
   ],
   "source": [
    "from pyspark.sql import functions as F\n",
    "\n",
    "# eliminar columnas que tienen todas en nulo\n",
    "# Contar cuántos valores no nulos tiene cada columna\n",
    "non_null_counts = df_union.select([\n",
    "    F.count(F.col(c)).alias(c)\n",
    "    for c in df_union.columns\n",
    "]).collect()[0].asDict()\n",
    "\n",
    "# Filtrar las columnas que tienen al menos un valor no nulo\n",
    "cols_to_keep = [c for c, count in non_null_counts.items() if count > 0]\n",
    "\n",
    "# Crear nuevo DataFrame sin las columnas completamente nulas\n",
    "df_no_null_cols = df_union.select(cols_to_keep)\n",
    "\n",
    "print(f\"Columnas eliminadas: {[c for c in df_union.columns if c not in cols_to_keep]}\")\n",
    "print(f\"Total de columnas finales: {len(df_no_null_cols.columns)}\")\n",
    "\n",
    "# Mostrar el resultado\n",
    "display(df_no_null_cols.limit(5))"
   ]
  },
  {
   "cell_type": "code",
   "execution_count": 27,
   "id": "5660aee3-a98f-4a04-a5f8-f2dddab07b47",
   "metadata": {
    "collapsed": false,
    "microsoft": {
     "language": "python",
     "language_group": "synapse_pyspark"
    }
   },
   "outputs": [
    {
     "data": {
      "application/vnd.livy.statement-meta+json": {
       "execution_finish_time": "2025-10-10T16:38:44.7318989Z",
       "execution_start_time": "2025-10-10T16:38:42.1466162Z",
       "livy_statement_state": "available",
       "normalized_state": "finished",
       "parent_msg_id": "84eef5e9-7ed4-4c5e-b105-3ec973f38163",
       "queued_time": "2025-10-10T16:38:42.1454326Z",
       "session_id": "345c8f4b-9113-4e6a-97a7-6bd431130e43",
       "session_start_time": null,
       "spark_pool": null,
       "state": "finished",
       "statement_id": 29,
       "statement_ids": [
        29
       ]
      },
      "text/plain": [
       "StatementMeta(, 345c8f4b-9113-4e6a-97a7-6bd431130e43, 29, Finished, Available, Finished)"
      ]
     },
     "metadata": {},
     "output_type": "display_data"
    },
    {
     "data": {
      "application/vnd.synapse.widget-view+json": {
       "widget_id": "fbdf5162-89fe-4dea-a88b-35c7314c86cc",
       "widget_type": "Synapse.DataFrame"
      },
      "text/plain": [
       "SynapseWidget(Synapse.DataFrame, fbdf5162-89fe-4dea-a88b-35c7314c86cc)"
      ]
     },
     "metadata": {},
     "output_type": "display_data"
    }
   ],
   "source": [
    "from pyspark.sql import functions as F\n",
    "\n",
    "# creamos nuevas columnas \"year\" y \"month\" desde \"datetime\"\n",
    "df_no_null_cols = (\n",
    "    df_no_null_cols\n",
    "    .withColumn(\"year\", F.year(F.col(\"date\")))\n",
    "    .withColumn(\"month\", F.month(F.col(\"date\")))\n",
    ")\n",
    "\n",
    "display(df_no_null_cols.limit(3))"
   ]
  },
  {
   "cell_type": "code",
   "execution_count": 28,
   "id": "835919aa-aa1e-4c51-b52a-84d412771f53",
   "metadata": {
    "collapsed": false,
    "microsoft": {
     "language": "python",
     "language_group": "synapse_pyspark"
    }
   },
   "outputs": [
    {
     "data": {
      "application/vnd.livy.statement-meta+json": {
       "execution_finish_time": "2025-10-10T16:39:38.8695599Z",
       "execution_start_time": "2025-10-10T16:39:33.7734786Z",
       "livy_statement_state": "available",
       "normalized_state": "finished",
       "parent_msg_id": "8b87e8aa-9b62-4d6d-88f4-0d5a207052ee",
       "queued_time": "2025-10-10T16:39:33.7724843Z",
       "session_id": "345c8f4b-9113-4e6a-97a7-6bd431130e43",
       "session_start_time": null,
       "spark_pool": null,
       "state": "finished",
       "statement_id": 30,
       "statement_ids": [
        30
       ]
      },
      "text/plain": [
       "StatementMeta(, 345c8f4b-9113-4e6a-97a7-6bd431130e43, 30, Finished, Available, Finished)"
      ]
     },
     "metadata": {},
     "output_type": "display_data"
    },
    {
     "data": {
      "application/vnd.synapse.widget-view+json": {
       "widget_id": "917f37bd-4067-4140-af3b-46a94f6a28a9",
       "widget_type": "Synapse.DataFrame"
      },
      "text/plain": [
       "SynapseWidget(Synapse.DataFrame, 917f37bd-4067-4140-af3b-46a94f6a28a9)"
      ]
     },
     "metadata": {},
     "output_type": "display_data"
    },
    {
     "name": "stdout",
     "output_type": "stream",
     "text": [
      "Total después de limpiar duplicados: 5,070\n"
     ]
    }
   ],
   "source": [
    "# eliminamos duplicados según todas las columnas excepto ingestion_timestamp\n",
    "df_clean = df_no_null_cols.dropDuplicates(['date', 'temperature_2m_max', 'temperature_2m_min', 'temperature_2m_mean', 'precipitation_sum', 'wind_speed_10m_max', 'geo_limit']\n",
    ")\n",
    "\n",
    "display(df_clean.limit(5))\n",
    "print(f\"Total después de limpiar duplicados: {df_clean.count():,}\")"
   ]
  },
  {
   "cell_type": "code",
   "execution_count": 29,
   "id": "7886ace1-2992-4b7c-b4fb-cbab0f254a0d",
   "metadata": {
    "collapsed": false,
    "microsoft": {
     "language": "python",
     "language_group": "synapse_pyspark"
    }
   },
   "outputs": [
    {
     "data": {
      "application/vnd.livy.statement-meta+json": {
       "execution_finish_time": "2025-10-10T16:39:58.8315586Z",
       "execution_start_time": "2025-10-10T16:39:55.0039409Z",
       "livy_statement_state": "available",
       "normalized_state": "finished",
       "parent_msg_id": "35adbdee-0f8e-434c-968c-a0eb130277dc",
       "queued_time": "2025-10-10T16:39:55.0029183Z",
       "session_id": "345c8f4b-9113-4e6a-97a7-6bd431130e43",
       "session_start_time": null,
       "spark_pool": null,
       "state": "finished",
       "statement_id": 31,
       "statement_ids": [
        31
       ]
      },
      "text/plain": [
       "StatementMeta(, 345c8f4b-9113-4e6a-97a7-6bd431130e43, 31, Finished, Available, Finished)"
      ]
     },
     "metadata": {},
     "output_type": "display_data"
    },
    {
     "data": {
      "application/vnd.synapse.widget-view+json": {
       "widget_id": "e2b95e26-0b43-4eb1-bfef-f5ebf02e11a2",
       "widget_type": "Synapse.DataFrame"
      },
      "text/plain": [
       "SynapseWidget(Synapse.DataFrame, e2b95e26-0b43-4eb1-bfef-f5ebf02e11a2)"
      ]
     },
     "metadata": {},
     "output_type": "display_data"
    }
   ],
   "source": [
    "# eliminamos las columnas que creamos no necesarios y/o que solo tengan 1 valor único\n",
    "df_clean = df_clean.drop(\"date\", \"ingestion_date\")\n",
    "\n",
    "display(df_clean.limit(2))"
   ]
  },
  {
   "cell_type": "code",
   "execution_count": 30,
   "id": "1a0a949d-7e16-4a21-bba8-40deecc7de4c",
   "metadata": {
    "collapsed": false,
    "microsoft": {
     "language": "python",
     "language_group": "synapse_pyspark"
    }
   },
   "outputs": [
    {
     "data": {
      "application/vnd.livy.statement-meta+json": {
       "execution_finish_time": "2025-10-10T16:40:06.6880784Z",
       "execution_start_time": "2025-10-10T16:40:04.0092932Z",
       "livy_statement_state": "available",
       "normalized_state": "finished",
       "parent_msg_id": "96707f5e-cd88-4575-9dfa-9e8703a98adc",
       "queued_time": "2025-10-10T16:40:04.0081096Z",
       "session_id": "345c8f4b-9113-4e6a-97a7-6bd431130e43",
       "session_start_time": null,
       "spark_pool": null,
       "state": "finished",
       "statement_id": 32,
       "statement_ids": [
        32
       ]
      },
      "text/plain": [
       "StatementMeta(, 345c8f4b-9113-4e6a-97a7-6bd431130e43, 32, Finished, Available, Finished)"
      ]
     },
     "metadata": {},
     "output_type": "display_data"
    },
    {
     "data": {
      "application/vnd.synapse.widget-view+json": {
       "widget_id": "047eecb3-2fa2-4b43-b1d8-a8b01b0a67f5",
       "widget_type": "Synapse.DataFrame"
      },
      "text/plain": [
       "SynapseWidget(Synapse.DataFrame, 047eecb3-2fa2-4b43-b1d8-a8b01b0a67f5)"
      ]
     },
     "metadata": {},
     "output_type": "display_data"
    }
   ],
   "source": [
    "# renombramos las columnas para mejor comprensión\n",
    "from pyspark.sql.functions import col\n",
    "\n",
    "df_clean = (\n",
    "    df_clean\n",
    "    .withColumnRenamed(\"temperature_2m_max\", \"max_temp\")\n",
    "    .withColumnRenamed(\"temperature_2m_min\", \"min_temp\")\n",
    "    .withColumnRenamed(\"temperature_2m_mean\", \"mean_temp\")\n",
    "    .withColumnRenamed(\"wind_speed_10m_max\", \"wind_speed\")\n",
    ")\n",
    "\n",
    "display(df_clean.limit(2))"
   ]
  },
  {
   "cell_type": "code",
   "execution_count": 31,
   "id": "716bbe7a-c445-4ae5-81d5-d49b6a553a61",
   "metadata": {
    "microsoft": {
     "language": "python",
     "language_group": "synapse_pyspark"
    }
   },
   "outputs": [
    {
     "data": {
      "application/vnd.livy.statement-meta+json": {
       "execution_finish_time": "2025-10-10T16:41:05.1274294Z",
       "execution_start_time": "2025-10-10T16:41:00.4402951Z",
       "livy_statement_state": "available",
       "normalized_state": "finished",
       "parent_msg_id": "a902817d-c517-4370-900a-2721ae3e77a3",
       "queued_time": "2025-10-10T16:41:00.4391549Z",
       "session_id": "345c8f4b-9113-4e6a-97a7-6bd431130e43",
       "session_start_time": null,
       "spark_pool": null,
       "state": "finished",
       "statement_id": 33,
       "statement_ids": [
        33
       ]
      },
      "text/plain": [
       "StatementMeta(, 345c8f4b-9113-4e6a-97a7-6bd431130e43, 33, Finished, Available, Finished)"
      ]
     },
     "metadata": {},
     "output_type": "display_data"
    },
    {
     "name": "stdout",
     "output_type": "stream",
     "text": [
      "\n",
      "📌 Valores únicos en 'geo_limit': 5\n",
      "['baleares', 'canarias', 'ceuta', 'melilla', 'peninsular']\n"
     ]
    }
   ],
   "source": [
    "# imprimimos valores únicos de la columna geo_limit\n",
    "cols = ['geo_limit']\n",
    "\n",
    "for c in cols:\n",
    "    uniques = [row[c] for row in df_clean.select(c).distinct().collect()]\n",
    "    count_uniques = df_clean.select(c).distinct().count()\n",
    "    print(f\"\\n📌 Valores únicos en '{c}': {count_uniques}\")\n",
    "    print(uniques)"
   ]
  },
  {
   "cell_type": "code",
   "execution_count": 32,
   "id": "f826bfea-eaa7-428a-8c62-440cde333050",
   "metadata": {
    "microsoft": {
     "language": "python",
     "language_group": "synapse_pyspark"
    }
   },
   "outputs": [
    {
     "data": {
      "application/vnd.livy.statement-meta+json": {
       "execution_finish_time": "2025-10-10T16:41:24.0292972Z",
       "execution_start_time": "2025-10-10T16:41:15.7307523Z",
       "livy_statement_state": "available",
       "normalized_state": "finished",
       "parent_msg_id": "38b3f57c-0136-4818-8a0e-136be0515ce3",
       "queued_time": "2025-10-10T16:41:15.7296363Z",
       "session_id": "345c8f4b-9113-4e6a-97a7-6bd431130e43",
       "session_start_time": null,
       "spark_pool": null,
       "state": "finished",
       "statement_id": 34,
       "statement_ids": [
        34
       ]
      },
      "text/plain": [
       "StatementMeta(, 345c8f4b-9113-4e6a-97a7-6bd431130e43, 34, Finished, Available, Finished)"
      ]
     },
     "metadata": {},
     "output_type": "display_data"
    },
    {
     "name": "stdout",
     "output_type": "stream",
     "text": [
      "✅ La tabla lh_silver.slv_open_meteo_day_cleanedd se ha creado correctamente tras la limpieza.\n"
     ]
    }
   ],
   "source": [
    "# guardamos en capa Silver\n",
    "df_clean.write.mode(\"overwrite\").saveAsTable(\"lh_silver.slv_open_meteo_day_cleanedd\")\n",
    "print(\"✅ La tabla lh_silver.slv_open_meteo_day_cleanedd se ha creado correctamente tras la limpieza.\")"
   ]
  }
 ],
 "metadata": {
  "dependencies": {
   "lakehouse": {
    "default_lakehouse": "0fd09a67-0164-4fb6-838e-02a27c823afc",
    "default_lakehouse_name": "lh_bronze",
    "default_lakehouse_workspace_id": "ecf938c4-c449-48de-a07c-1d968a72b3d1",
    "known_lakehouses": [
     {
      "id": "0fd09a67-0164-4fb6-838e-02a27c823afc"
     }
    ]
   }
  },
  "kernel_info": {
   "name": "synapse_pyspark"
  },
  "kernelspec": {
   "display_name": "synapse_pyspark",
   "name": "synapse_pyspark"
  },
  "language_info": {
   "name": "python"
  },
  "microsoft": {
   "language": "python",
   "language_group": "synapse_pyspark",
   "ms_spell_check": {
    "ms_spell_check_language": "es"
   }
  },
  "nteract": {
   "version": "nteract-front-end@1.0.0"
  },
  "spark_compute": {
   "compute_id": "/trident/default",
   "session_options": {
    "conf": {
     "spark.synapse.nbs.session.timeout": "1200000"
    }
   }
  },
  "synapse_widget": {
   "state": {
    "047eecb3-2fa2-4b43-b1d8-a8b01b0a67f5": {
     "persist_state": {
      "view": {
       "chartOptions": {
        "aggregationType": "sum",
        "binsNumber": 10,
        "categoryFieldKeys": [],
        "chartType": "bar",
        "isStacked": false,
        "seriesFieldKeys": [],
        "wordFrequency": "-1"
       },
       "tableOptions": {},
       "type": "details",
       "viewOptionsGroup": [
        {
         "tabItems": [
          {
           "key": "0",
           "name": "Table",
           "options": {},
           "type": "table"
          }
         ]
        }
       ]
      }
     },
     "sync_state": {
      "isSummary": false,
      "language": "scala",
      "table": {
       "rows": [
        {
         "0": "16.4",
         "1": "6.9",
         "2": "11.9",
         "3": "0.0",
         "4": "15.4",
         "5": "baleares",
         "6": "2023",
         "7": "1"
        },
        {
         "0": "16.1",
         "1": "6.6",
         "2": "10.9",
         "3": "0.0",
         "4": "15.1",
         "5": "baleares",
         "6": "2023",
         "7": "12"
        }
       ],
       "schema": [
        {
         "key": "0",
         "name": "max_temp",
         "type": "double"
        },
        {
         "key": "1",
         "name": "min_temp",
         "type": "double"
        },
        {
         "key": "2",
         "name": "mean_temp",
         "type": "double"
        },
        {
         "key": "3",
         "name": "precipitation_sum",
         "type": "double"
        },
        {
         "key": "4",
         "name": "wind_speed",
         "type": "double"
        },
        {
         "key": "5",
         "name": "geo_limit",
         "type": "string"
        },
        {
         "key": "6",
         "name": "year",
         "type": "int"
        },
        {
         "key": "7",
         "name": "month",
         "type": "int"
        }
       ],
       "truncated": false
      },
      "wranglerEntryContext": {
       "dataframeType": "pyspark"
      }
     },
     "type": "Synapse.DataFrame"
    },
    "3c260195-698f-4e38-8ce1-2e5b8f4bb404": {
     "persist_state": {
      "view": {
       "chartOptions": {
        "aggregationType": "sum",
        "binsNumber": 10,
        "categoryFieldKeys": [],
        "chartType": "bar",
        "isStacked": false,
        "seriesFieldKeys": [],
        "wordFrequency": "-1"
       },
       "tableOptions": {},
       "type": "details",
       "viewOptionsGroup": [
        {
         "tabItems": [
          {
           "key": "0",
           "name": "Table",
           "options": {},
           "type": "table"
          }
         ]
        }
       ]
      }
     },
     "sync_state": {
      "isSummary": false,
      "language": "scala",
      "table": {
       "rows": [
        {
         "0": "2023-01-01",
         "1": "20.5",
         "2": "10.3",
         "3": "14.7",
         "4": "0.0",
         "5": "8.7",
         "6": "2025-10-01 08:31:12.124268",
         "7": "baleares"
        },
        {
         "0": "2023-01-02",
         "1": "18.6",
         "2": "10.2",
         "3": "13.4",
         "4": "0.0",
         "5": "8.9",
         "6": "2025-10-01 08:31:12.124268",
         "7": "baleares"
        },
        {
         "0": "2023-01-03",
         "1": "17.6",
         "2": "8.0",
         "3": "12.0",
         "4": "0.0",
         "5": "7.3",
         "6": "2025-10-01 08:31:12.124268",
         "7": "baleares"
        },
        {
         "0": "2023-01-04",
         "1": "16.3",
         "2": "7.9",
         "3": "11.2",
         "4": "0.0",
         "5": "8.9",
         "6": "2025-10-01 08:31:12.124268",
         "7": "baleares"
        },
        {
         "0": "2023-01-05",
         "1": "16.8",
         "2": "7.2",
         "3": "11.3",
         "4": "0.0",
         "5": "9.8",
         "6": "2025-10-01 08:31:12.124268",
         "7": "baleares"
        }
       ],
       "schema": [
        {
         "key": "0",
         "name": "date",
         "type": "string"
        },
        {
         "key": "1",
         "name": "temperature_2m_max",
         "type": "double"
        },
        {
         "key": "2",
         "name": "temperature_2m_min",
         "type": "double"
        },
        {
         "key": "3",
         "name": "temperature_2m_mean",
         "type": "double"
        },
        {
         "key": "4",
         "name": "precipitation_sum",
         "type": "double"
        },
        {
         "key": "5",
         "name": "wind_speed_10m_max",
         "type": "double"
        },
        {
         "key": "6",
         "name": "ingestion_date",
         "type": "timestamp"
        },
        {
         "key": "7",
         "name": "geo_limit",
         "type": "string"
        }
       ],
       "truncated": false
      },
      "wranglerEntryContext": {
       "dataframeType": "pyspark"
      }
     },
     "type": "Synapse.DataFrame"
    },
    "917f37bd-4067-4140-af3b-46a94f6a28a9": {
     "persist_state": {
      "view": {
       "chartOptions": {
        "aggregationType": "sum",
        "binsNumber": 10,
        "categoryFieldKeys": [],
        "chartType": "bar",
        "isStacked": false,
        "seriesFieldKeys": [],
        "wordFrequency": "-1"
       },
       "tableOptions": {},
       "type": "details",
       "viewOptionsGroup": [
        {
         "tabItems": [
          {
           "key": "0",
           "name": "Table",
           "options": {},
           "type": "table"
          }
         ]
        }
       ]
      }
     },
     "sync_state": {
      "isSummary": false,
      "language": "scala",
      "table": {
       "rows": [
        {
         "0": "2023-01-14",
         "1": "16.4",
         "2": "6.9",
         "3": "11.9",
         "4": "0.0",
         "5": "15.4",
         "6": "2025-10-01 08:31:12.124268",
         "7": "baleares",
         "8": "2023",
         "9": "1"
        },
        {
         "0": "2023-12-18",
         "1": "16.1",
         "2": "6.6",
         "3": "10.9",
         "4": "0.0",
         "5": "15.1",
         "6": "2025-10-01 08:31:12.124268",
         "7": "baleares",
         "8": "2023",
         "9": "12"
        },
        {
         "0": "2023-11-21",
         "1": "17.8",
         "2": "11.3",
         "3": "14.9",
         "4": "0.0",
         "5": "18.8",
         "6": "2025-10-01 08:31:12.124268",
         "7": "baleares",
         "8": "2023",
         "9": "11"
        },
        {
         "0": "2023-01-04",
         "1": "16.3",
         "2": "7.9",
         "3": "11.2",
         "4": "0.0",
         "5": "8.9",
         "6": "2025-10-01 08:31:12.124268",
         "7": "baleares",
         "8": "2023",
         "9": "1"
        },
        {
         "0": "2023-01-13",
         "1": "17.9",
         "2": "8.7",
         "3": "13.4",
         "4": "0.0",
         "5": "13.2",
         "6": "2025-10-01 08:31:12.124268",
         "7": "baleares",
         "8": "2023",
         "9": "1"
        }
       ],
       "schema": [
        {
         "key": "0",
         "name": "date",
         "type": "string"
        },
        {
         "key": "1",
         "name": "temperature_2m_max",
         "type": "double"
        },
        {
         "key": "2",
         "name": "temperature_2m_min",
         "type": "double"
        },
        {
         "key": "3",
         "name": "temperature_2m_mean",
         "type": "double"
        },
        {
         "key": "4",
         "name": "precipitation_sum",
         "type": "double"
        },
        {
         "key": "5",
         "name": "wind_speed_10m_max",
         "type": "double"
        },
        {
         "key": "6",
         "name": "ingestion_date",
         "type": "timestamp"
        },
        {
         "key": "7",
         "name": "geo_limit",
         "type": "string"
        },
        {
         "key": "8",
         "name": "year",
         "type": "int"
        },
        {
         "key": "9",
         "name": "month",
         "type": "int"
        }
       ],
       "truncated": false
      },
      "wranglerEntryContext": {
       "dataframeType": "pyspark"
      }
     },
     "type": "Synapse.DataFrame"
    },
    "e2b95e26-0b43-4eb1-bfef-f5ebf02e11a2": {
     "persist_state": {
      "view": {
       "chartOptions": {
        "aggregationType": "sum",
        "binsNumber": 10,
        "categoryFieldKeys": [],
        "chartType": "bar",
        "isStacked": false,
        "seriesFieldKeys": [],
        "wordFrequency": "-1"
       },
       "tableOptions": {},
       "type": "details",
       "viewOptionsGroup": [
        {
         "tabItems": [
          {
           "key": "0",
           "name": "Table",
           "options": {},
           "type": "table"
          }
         ]
        }
       ]
      }
     },
     "sync_state": {
      "isSummary": false,
      "language": "scala",
      "table": {
       "rows": [
        {
         "0": "16.4",
         "1": "6.9",
         "2": "11.9",
         "3": "0.0",
         "4": "15.4",
         "5": "baleares",
         "6": "2023",
         "7": "1"
        },
        {
         "0": "16.1",
         "1": "6.6",
         "2": "10.9",
         "3": "0.0",
         "4": "15.1",
         "5": "baleares",
         "6": "2023",
         "7": "12"
        }
       ],
       "schema": [
        {
         "key": "0",
         "name": "temperature_2m_max",
         "type": "double"
        },
        {
         "key": "1",
         "name": "temperature_2m_min",
         "type": "double"
        },
        {
         "key": "2",
         "name": "temperature_2m_mean",
         "type": "double"
        },
        {
         "key": "3",
         "name": "precipitation_sum",
         "type": "double"
        },
        {
         "key": "4",
         "name": "wind_speed_10m_max",
         "type": "double"
        },
        {
         "key": "5",
         "name": "geo_limit",
         "type": "string"
        },
        {
         "key": "6",
         "name": "year",
         "type": "int"
        },
        {
         "key": "7",
         "name": "month",
         "type": "int"
        }
       ],
       "truncated": false
      },
      "wranglerEntryContext": {
       "dataframeType": "pyspark"
      }
     },
     "type": "Synapse.DataFrame"
    },
    "f726a79e-0e06-44d7-a32b-603f70fe4235": {
     "persist_state": {
      "view": {
       "chartOptions": {
        "aggregationType": "sum",
        "binsNumber": 10,
        "categoryFieldKeys": [],
        "chartType": "bar",
        "isStacked": false,
        "seriesFieldKeys": [],
        "wordFrequency": "-1"
       },
       "tableOptions": {},
       "type": "details",
       "viewOptionsGroup": [
        {
         "tabItems": [
          {
           "key": "0",
           "name": "Table",
           "options": {},
           "type": "table"
          }
         ]
        }
       ]
      }
     },
     "sync_state": {
      "isSummary": false,
      "language": "scala",
      "table": {
       "rows": [
        {
         "0": "2023-01-01",
         "1": "20.5",
         "2": "10.3",
         "3": "14.7",
         "4": "0.0",
         "5": "8.7",
         "6": "2025-10-01 08:31:12.124268",
         "7": "baleares"
        },
        {
         "0": "2023-01-02",
         "1": "18.6",
         "2": "10.2",
         "3": "13.4",
         "4": "0.0",
         "5": "8.9",
         "6": "2025-10-01 08:31:12.124268",
         "7": "baleares"
        },
        {
         "0": "2023-01-03",
         "1": "17.6",
         "2": "8.0",
         "3": "12.0",
         "4": "0.0",
         "5": "7.3",
         "6": "2025-10-01 08:31:12.124268",
         "7": "baleares"
        },
        {
         "0": "2023-01-04",
         "1": "16.3",
         "2": "7.9",
         "3": "11.2",
         "4": "0.0",
         "5": "8.9",
         "6": "2025-10-01 08:31:12.124268",
         "7": "baleares"
        },
        {
         "0": "2023-01-05",
         "1": "16.8",
         "2": "7.2",
         "3": "11.3",
         "4": "0.0",
         "5": "9.8",
         "6": "2025-10-01 08:31:12.124268",
         "7": "baleares"
        },
        {
         "0": "2023-01-06",
         "1": "16.5",
         "2": "8.8",
         "3": "12.5",
         "4": "0.0",
         "5": "16.8",
         "6": "2025-10-01 08:31:12.124268",
         "7": "baleares"
        },
        {
         "0": "2023-01-07",
         "1": "16.7",
         "2": "12.5",
         "3": "14.3",
         "4": "0.0",
         "5": "24.1",
         "6": "2025-10-01 08:31:12.124268",
         "7": "baleares"
        },
        {
         "0": "2023-01-08",
         "1": "16.9",
         "2": "13.9",
         "3": "15.6",
         "4": "0.2",
         "5": "33.7",
         "6": "2025-10-01 08:31:12.124268",
         "7": "baleares"
        },
        {
         "0": "2023-01-09",
         "1": "17.8",
         "2": "13.9",
         "3": "16.0",
         "4": "0.1",
         "5": "33.2",
         "6": "2025-10-01 08:31:12.124268",
         "7": "baleares"
        },
        {
         "0": "2023-01-10",
         "1": "16.3",
         "2": "10.8",
         "3": "13.4",
         "4": "0.0",
         "5": "17.4",
         "6": "2025-10-01 08:31:12.124268",
         "7": "baleares"
        }
       ],
       "schema": [
        {
         "key": "0",
         "name": "date",
         "type": "string"
        },
        {
         "key": "1",
         "name": "temperature_2m_max",
         "type": "double"
        },
        {
         "key": "2",
         "name": "temperature_2m_min",
         "type": "double"
        },
        {
         "key": "3",
         "name": "temperature_2m_mean",
         "type": "double"
        },
        {
         "key": "4",
         "name": "precipitation_sum",
         "type": "double"
        },
        {
         "key": "5",
         "name": "wind_speed_10m_max",
         "type": "double"
        },
        {
         "key": "6",
         "name": "ingestion_date",
         "type": "timestamp"
        },
        {
         "key": "7",
         "name": "geo_limit",
         "type": "string"
        }
       ],
       "truncated": false
      },
      "wranglerEntryContext": {
       "dataframeType": "pyspark"
      }
     },
     "type": "Synapse.DataFrame"
    },
    "fbdf5162-89fe-4dea-a88b-35c7314c86cc": {
     "persist_state": {
      "view": {
       "chartOptions": {
        "aggregationType": "sum",
        "binsNumber": 10,
        "categoryFieldKeys": [],
        "chartType": "bar",
        "isStacked": false,
        "seriesFieldKeys": [],
        "wordFrequency": "-1"
       },
       "tableOptions": {},
       "type": "details",
       "viewOptionsGroup": [
        {
         "tabItems": [
          {
           "key": "0",
           "name": "Table",
           "options": {},
           "type": "table"
          }
         ]
        }
       ]
      }
     },
     "sync_state": {
      "isSummary": false,
      "language": "scala",
      "table": {
       "rows": [
        {
         "0": "2023-01-01",
         "1": "20.5",
         "2": "10.3",
         "3": "14.7",
         "4": "0.0",
         "5": "8.7",
         "6": "2025-10-01 08:31:12.124268",
         "7": "baleares",
         "8": "2023",
         "9": "1"
        },
        {
         "0": "2023-01-02",
         "1": "18.6",
         "2": "10.2",
         "3": "13.4",
         "4": "0.0",
         "5": "8.9",
         "6": "2025-10-01 08:31:12.124268",
         "7": "baleares",
         "8": "2023",
         "9": "1"
        },
        {
         "0": "2023-01-03",
         "1": "17.6",
         "2": "8.0",
         "3": "12.0",
         "4": "0.0",
         "5": "7.3",
         "6": "2025-10-01 08:31:12.124268",
         "7": "baleares",
         "8": "2023",
         "9": "1"
        }
       ],
       "schema": [
        {
         "key": "0",
         "name": "date",
         "type": "string"
        },
        {
         "key": "1",
         "name": "temperature_2m_max",
         "type": "double"
        },
        {
         "key": "2",
         "name": "temperature_2m_min",
         "type": "double"
        },
        {
         "key": "3",
         "name": "temperature_2m_mean",
         "type": "double"
        },
        {
         "key": "4",
         "name": "precipitation_sum",
         "type": "double"
        },
        {
         "key": "5",
         "name": "wind_speed_10m_max",
         "type": "double"
        },
        {
         "key": "6",
         "name": "ingestion_date",
         "type": "timestamp"
        },
        {
         "key": "7",
         "name": "geo_limit",
         "type": "string"
        },
        {
         "key": "8",
         "name": "year",
         "type": "int"
        },
        {
         "key": "9",
         "name": "month",
         "type": "int"
        }
       ],
       "truncated": false
      },
      "wranglerEntryContext": {
       "dataframeType": "pyspark"
      }
     },
     "type": "Synapse.DataFrame"
    }
   },
   "version": "0.1"
  }
 },
 "nbformat": 4,
 "nbformat_minor": 5
}
